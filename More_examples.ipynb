{
  "cells": [
    {
      "cell_type": "markdown",
      "metadata": {
        "id": "HV-HmGWHwOfQ"
      },
      "source": [
        "# Installation"
      ]
    },
    {
      "cell_type": "code",
      "execution_count": 1,
      "metadata": {
        "colab": {
          "base_uri": "https://localhost:8080/"
        },
        "id": "GgFZCgHuwOfT",
        "outputId": "04f0a7d3-9a54-4a9d-c57e-91cf6c780e2e"
      },
      "outputs": [
        {
          "output_type": "stream",
          "name": "stdout",
          "text": [
            "Requirement already satisfied: duckdb in /usr/local/lib/python3.10/dist-packages (0.10.2)\n"
          ]
        }
      ],
      "source": [
        "! pip install duckdb"
      ]
    },
    {
      "cell_type": "markdown",
      "metadata": {
        "id": "7qK-smqtwOfU"
      },
      "source": [
        "## Les autres librairies utiles"
      ]
    },
    {
      "cell_type": "code",
      "execution_count": 2,
      "metadata": {
        "colab": {
          "base_uri": "https://localhost:8080/"
        },
        "id": "1c_vrDX1wOfU",
        "outputId": "72b23ec4-388c-4784-a6c8-6227062043c3"
      },
      "outputs": [
        {
          "output_type": "stream",
          "name": "stdout",
          "text": [
            "Requirement already satisfied: pandas in /usr/local/lib/python3.10/dist-packages (from -r requirements.txt (line 1)) (2.0.3)\n",
            "Requirement already satisfied: pyarrow in /usr/local/lib/python3.10/dist-packages (from -r requirements.txt (line 2)) (14.0.2)\n",
            "Requirement already satisfied: python-dateutil>=2.8.2 in /usr/local/lib/python3.10/dist-packages (from pandas->-r requirements.txt (line 1)) (2.8.2)\n",
            "Requirement already satisfied: pytz>=2020.1 in /usr/local/lib/python3.10/dist-packages (from pandas->-r requirements.txt (line 1)) (2023.4)\n",
            "Requirement already satisfied: tzdata>=2022.1 in /usr/local/lib/python3.10/dist-packages (from pandas->-r requirements.txt (line 1)) (2024.1)\n",
            "Requirement already satisfied: numpy>=1.21.0 in /usr/local/lib/python3.10/dist-packages (from pandas->-r requirements.txt (line 1)) (1.25.2)\n",
            "Requirement already satisfied: six>=1.5 in /usr/local/lib/python3.10/dist-packages (from python-dateutil>=2.8.2->pandas->-r requirements.txt (line 1)) (1.16.0)\n"
          ]
        }
      ],
      "source": [
        "! pip install -r requirements.txt"
      ]
    },
    {
      "cell_type": "code",
      "execution_count": 3,
      "metadata": {
        "id": "FPPA7tS_wOfU"
      },
      "outputs": [],
      "source": [
        "import duckdb\n",
        "import pandas as pd\n",
        "import pyarrow as pa\n",
        "import pyarrow.parquet as pq\n",
        "import geopandas as gpd\n",
        "import matplotlib.pyplot as plt\n",
        "import matplotlib.colors as mcolors\n",
        "import zipfile\n",
        "import os"
      ]
    },
    {
      "cell_type": "code",
      "source": [
        "! pip show matplotlib"
      ],
      "metadata": {
        "colab": {
          "base_uri": "https://localhost:8080/"
        },
        "id": "IsJVzqiA8Wsy",
        "outputId": "21ab4fb4-4b04-4d09-f00f-985a16504609"
      },
      "execution_count": 4,
      "outputs": [
        {
          "output_type": "stream",
          "name": "stdout",
          "text": [
            "Name: matplotlib\n",
            "Version: 3.7.1\n",
            "Summary: Python plotting package\n",
            "Home-page: https://matplotlib.org\n",
            "Author: John D. Hunter, Michael Droettboom\n",
            "Author-email: matplotlib-users@python.org\n",
            "License: PSF\n",
            "Location: /usr/local/lib/python3.10/dist-packages\n",
            "Requires: contourpy, cycler, fonttools, kiwisolver, numpy, packaging, pillow, pyparsing, python-dateutil\n",
            "Required-by: arviz, bigframes, datascience, fastai, geemap, imgaug, matplotlib-venn, missingno, mizani, mlxtend, music21, plotnine, prophet, pycocotools, seaborn, wordcloud, yellowbrick\n"
          ]
        }
      ]
    },
    {
      "cell_type": "markdown",
      "metadata": {
        "id": "WT4IwvxwwOfU"
      },
      "source": [
        "# Se connecter à DuckDB"
      ]
    },
    {
      "cell_type": "code",
      "execution_count": 5,
      "metadata": {
        "id": "fO5yLCHmwOfV",
        "colab": {
          "base_uri": "https://localhost:8080/"
        },
        "outputId": "6e86b84a-68f0-432c-9a29-546cee0e9ba3"
      },
      "outputs": [
        {
          "output_type": "stream",
          "name": "stdout",
          "text": [
            "Résultat de la requête :  [(1, 'John'), (2, 'Alice'), (3, 'Bob')]\n"
          ]
        }
      ],
      "source": [
        "# Connexion à DuckDB\n",
        "conn = duckdb.connect(database=':memory:', read_only=False)\n",
        "\n",
        "# Exécution d'une requête SQL\n",
        "cursor = conn.cursor()\n",
        "cursor.execute(\"CREATE TABLE table_1(id INTEGER, name VARCHAR)\")\n",
        "cursor.execute(\"INSERT INTO table_1 VALUES (1, 'John'), (2, 'Alice'), (3, 'Bob')\")\n",
        "\n",
        "# Récupération des résultats de la requête\n",
        "result = cursor.execute(\"SELECT * FROM table_1\").fetchall()\n",
        "print(\"Résultat de la requête : \", result)\n",
        "\n",
        "# Fermeture de la connexion\n",
        "conn.close()"
      ]
    },
    {
      "cell_type": "markdown",
      "metadata": {
        "id": "qEJ6u9XPwOfV"
      },
      "source": [
        "# Convertir le fichier CSV en fichier parquet"
      ]
    },
    {
      "cell_type": "code",
      "execution_count": 6,
      "metadata": {
        "id": "pD7iACABwOfV"
      },
      "outputs": [],
      "source": [
        "# Charger le fichier CSV en utilisant pandas\n",
        "patho = pd.read_csv('pathologies.csv', on_bad_lines='skip', sep=\";\", low_memory=False)\n",
        "\n",
        "# Créer un tableau PyArrow à partir du DataFrame pandas\n",
        "patho.to_parquet('pathologies.parquet')"
      ]
    },
    {
      "cell_type": "markdown",
      "metadata": {
        "id": "OeyQ3DJPwOfV"
      },
      "source": [
        "# Explorer les données\n",
        "\n",
        "Le fichier contient des données sur les pathologies et les patients.\n",
        "\n",
        "Ce fichier est disponible en OpenData :\n",
        "https://www.data.gouv.fr/fr/datasets/pathologies-effectif-de-patients-par-pathologie-sexe-classe-dage-et-territoire-departement-region/"
      ]
    },
    {
      "cell_type": "markdown",
      "metadata": {
        "id": "pK-M16E_wOfV"
      },
      "source": [
        "## Charger le fichier parquet dans duckdb"
      ]
    },
    {
      "cell_type": "code",
      "execution_count": 7,
      "metadata": {
        "colab": {
          "base_uri": "https://localhost:8080/"
        },
        "id": "UstM6zswwOfV",
        "outputId": "484203ea-bdcf-43ca-8847-dcfed7691aeb"
      },
      "outputs": [
        {
          "output_type": "stream",
          "name": "stdout",
          "text": [
            "Les 5 premières lignes du fichier Parquet :  [(2017.0, 'Pas de pathologies repérées, traitements, maternité, hospitalisations ni traitement antalgique ou anti-inflammatoire', None, None, 'sup_Petit_Conso_exclu', '45-49', 9.0, 75, '999', 230570.0, 393250.0, 58.632, '1', 'de 45 à 49 ans', 'tous sexes', 17.0), (2017.0, 'Pas de pathologies repérées, traitements, maternité, hospitalisations ni traitement antalgique ou anti-inflammatoire', None, None, 'sup_Petit_Conso_exclu', '45-49', 9.0, 76, '11', 14220.0, 24330.0, 58.451, '1', 'de 45 à 49 ans', 'tous sexes', 17.0), (2017.0, 'Pas de pathologies repérées, traitements, maternité, hospitalisations ni traitement antalgique ou anti-inflammatoire', None, None, 'sup_Petit_Conso_exclu', '45-49', 9.0, 76, '12', 10630.0, 17390.0, 61.133, '1', 'de 45 à 49 ans', 'tous sexes', 17.0), (2017.0, 'Pas de pathologies repérées, traitements, maternité, hospitalisations ni traitement antalgique ou anti-inflammatoire', None, None, 'sup_Petit_Conso_exclu', '45-49', 9.0, 76, '30', 30760.0, 50820.0, 60.539, '1', 'de 45 à 49 ans', 'tous sexes', 17.0), (2017.0, 'Pas de pathologies repérées, traitements, maternité, hospitalisations ni traitement antalgique ou anti-inflammatoire', None, None, 'sup_Petit_Conso_exclu', '45-49', 9.0, 76, '48', 3000.0, 4920.0, 60.898, '1', 'de 45 à 49 ans', 'tous sexes', 17.0)]\n"
          ]
        }
      ],
      "source": [
        "conn = duckdb.connect(database=':memory:', read_only=False)\n",
        "\n",
        "# Chargement du fichier Parquet\n",
        "cursor = conn.cursor()\n",
        "cursor.execute(\"CREATE TABLE pathologies AS SELECT * FROM parquet_scan('pathologies.parquet')\")\n",
        "\n",
        "# Affichage des 5 premières lignes\n",
        "result = cursor.execute(\"SELECT * FROM pathologies LIMIT 5\").fetchall()\n",
        "print(\"Les 5 premières lignes du fichier Parquet : \", result)"
      ]
    },
    {
      "cell_type": "markdown",
      "metadata": {
        "id": "5Wr8f-uswOfW"
      },
      "source": [
        "## Le requeter en SQL"
      ]
    },
    {
      "cell_type": "code",
      "execution_count": 8,
      "metadata": {
        "id": "2x3dbX0iwOfW",
        "colab": {
          "base_uri": "https://localhost:8080/"
        },
        "outputId": "2df96795-946a-4656-abfd-a03186b74905"
      },
      "outputs": [
        {
          "output_type": "stream",
          "name": "stdout",
          "text": [
            "Nombre total de lignes :  [(4057201,)]\n",
            "Nombre total de colonnes :  [(16,)]\n"
          ]
        }
      ],
      "source": [
        "# Nombre total de lignes dans la table\n",
        "total_rows = conn.execute(\"SELECT COUNT(*) AS total_rows FROM pathologies\").fetchall()\n",
        "print(\"Nombre total de lignes : \", total_rows)\n",
        "\n",
        "# Nombre de colonnes dans la table\n",
        "total_columns = conn.execute(\"SELECT COUNT(*) AS total_columns FROM information_schema.columns WHERE table_name = 'pathologies'\").fetchall()\n",
        "print(\"Nombre total de colonnes : \", total_columns)"
      ]
    },
    {
      "cell_type": "code",
      "execution_count": 9,
      "metadata": {
        "colab": {
          "base_uri": "https://localhost:8080/"
        },
        "id": "mlrpcyy4wOfW",
        "outputId": "90d36f4c-b30b-4253-b515-c88c13b49981"
      },
      "outputs": [
        {
          "output_type": "stream",
          "name": "stdout",
          "text": [
            "Statistiques de base sur les colonnes :\n",
            "('annee', 'DOUBLE')\n",
            "('patho_niv1', 'VARCHAR')\n",
            "('patho_niv2', 'VARCHAR')\n",
            "('patho_niv3', 'VARCHAR')\n",
            "('top', 'VARCHAR')\n",
            "('cla_age_5', 'VARCHAR')\n",
            "('sexe', 'DOUBLE')\n",
            "('region', 'BIGINT')\n",
            "('dept', 'VARCHAR')\n",
            "('ntop', 'DOUBLE')\n",
            "('npop', 'DOUBLE')\n",
            "('prev', 'DOUBLE')\n",
            "('niveau_prioritaire', 'VARCHAR')\n",
            "('libelle_classe_age', 'VARCHAR')\n",
            "('libelle_sexe', 'VARCHAR')\n",
            "('tri', 'DOUBLE')\n"
          ]
        }
      ],
      "source": [
        "# Statistiques de base sur les colonnes\n",
        "column_stats = conn.execute(\"\"\"\n",
        "    SELECT column_name, data_type\n",
        "    FROM information_schema.columns\n",
        "    WHERE table_name = 'pathologies'\n",
        "\"\"\").fetchall()\n",
        "\n",
        "print(\"Statistiques de base sur les colonnes :\")\n",
        "for column in column_stats:\n",
        "    print(column)"
      ]
    },
    {
      "cell_type": "code",
      "execution_count": 10,
      "metadata": {
        "id": "atoXZaH4wOfW",
        "colab": {
          "base_uri": "https://localhost:8080/"
        },
        "outputId": "d14b1fab-8610-4436-880f-05278c013acf"
      },
      "outputs": [
        {
          "output_type": "stream",
          "name": "stdout",
          "text": [
            "Statistiques des colonnes numériques :\n",
            "Nom de colonne / Moyenne / Ecart type / Minimum / Maximum\n",
            "[('annee', 2018.0, 2.0000002464585522, 2015.0, 2021.0)]\n",
            "[('sexe', 4.078260869565217, 3.5829257124948577, 1.0, 9.0)]\n",
            "[('ntop', 5517.0258196033155, 158751.02365098946, 10.0, 68713080.0)]\n",
            "[('npop', 102742.09854825988, 984640.6432691313, 10.0, 68713080.0)]\n",
            "[('prev', 6.213842840217249, 15.98704679035494, 0.0, 100.0)]\n",
            "[('tri', 39.40528634361233, 22.521721518030493, 1.0, 78.0)]\n"
          ]
        }
      ],
      "source": [
        "# Statistiques de base sur les données (pour les colonnes numériques)\n",
        "numeric_columns_query = \"\"\"\n",
        "    SELECT column_name\n",
        "    FROM information_schema.columns\n",
        "    WHERE table_name = 'pathologies'\n",
        "    AND data_type IN ('INTEGER', 'DOUBLE', 'FLOAT', 'DECIMAL')\n",
        "\"\"\"\n",
        "numeric_columns = conn.execute(numeric_columns_query).fetchall()\n",
        "\n",
        "# Construction de la requête SQL pour les statistiques des colonnes numériques\n",
        "stats_queries = []\n",
        "for column in numeric_columns:\n",
        "    column_name = column[0]\n",
        "    stats_queries.append(f\"\"\"\n",
        "        SELECT\n",
        "            '{column_name}' AS column_name,\n",
        "            AVG({column_name}) AS average,\n",
        "            STDDEV({column_name}) AS standard_deviation,\n",
        "            MIN({column_name}) AS min_value,\n",
        "            MAX({column_name}) AS max_value\n",
        "        FROM pathologies\n",
        "    \"\"\")\n",
        "\n",
        "# Exécution des requêtes de statistiques et affichage des résultats\n",
        "print(\"Statistiques des colonnes numériques :\")\n",
        "print(\"Nom de colonne / Moyenne / Ecart type / Minimum / Maximum\")\n",
        "for query in stats_queries:\n",
        "    result = conn.execute(query).fetchall()\n",
        "    print(result)\n"
      ]
    },
    {
      "cell_type": "code",
      "execution_count": 11,
      "metadata": {
        "colab": {
          "base_uri": "https://localhost:8080/"
        },
        "id": "oNahEhbZwOfW",
        "outputId": "8fb44a1b-6106-42aa-eecc-f8d69b7ce6f2"
      },
      "outputs": [
        {
          "output_type": "stream",
          "name": "stdout",
          "text": [
            "('Séjours en hospitalisation complète pour prise en charge de la Covid-19',)\n",
            "('Maladies neurologiques ou dégénératives',)\n",
            "('Traitements psychotropes (hors pathologies)',)\n",
            "('Maladies psychiatriques',)\n",
            "('Autres affections de longue durée (dont 31 et 32)',)\n",
            "(None,)\n",
            "('Maternité (avec ou sans pathologies)',)\n",
            "('Hospitalisations ponctuelles (avec ou sans pathologies, traitements ou maternité)',)\n",
            "('Pas de pathologies repérées, traitements, maternité, hospitalisations ni traitement antalgique ou anti-inflammatoire',)\n",
            "('Traitements du risque vasculaire (hors pathologies)',)\n",
            "('Maladies inflammatoires ou rares ou VIH ou SIDA',)\n",
            "('Traitement antalgique ou anti-inflammatoire (hors pathologies, traitements, maternité ou hospitalisations)',)\n",
            "('Cancers',)\n",
            "('Maladies respiratoires chroniques (hors mucoviscidose)',)\n",
            "('Insuffisance rénale chronique terminale',)\n",
            "('Maladies du foie ou du pancréas (hors mucoviscidose)',)\n",
            "('Diabète',)\n",
            "('Maladies cardio-neurovasculaires',)\n"
          ]
        }
      ],
      "source": [
        "# Statistiques de base sur les données (pour les colonnes numériques)\n",
        "get_disease_query = \"\"\"\n",
        "    SELECT DISTINCT patho_niv1\n",
        "    FROM pathologies\n",
        "\"\"\"\n",
        "diseases = conn.execute(get_disease_query).fetchall()\n",
        "for disease in diseases :\n",
        "    print(disease)"
      ]
    },
    {
      "cell_type": "code",
      "execution_count": 12,
      "metadata": {
        "colab": {
          "base_uri": "https://localhost:8080/",
          "height": 224
        },
        "id": "LjeN2_GPwOfX",
        "outputId": "37f67338-4337-4cf9-a0e2-bf1f7d26bead"
      },
      "outputs": [
        {
          "output_type": "stream",
          "name": "stdout",
          "text": [
            "Statistiques par maladies en 2018:\n"
          ]
        },
        {
          "output_type": "execute_result",
          "data": {
            "text/plain": [
              "                                          patho_niv1      perc departement  \\\n",
              "0  Autres affections de longue durée (dont 31 et 32)  2.320004          54   \n",
              "1  Autres affections de longue durée (dont 31 et 32)  2.515174          55   \n",
              "2  Autres affections de longue durée (dont 31 et 32)  1.871691          68   \n",
              "3  Autres affections de longue durée (dont 31 et 32)  1.792356          53   \n",
              "4  Autres affections de longue durée (dont 31 et 32)  2.563885          47   \n",
              "\n",
              "   malades        pop  \n",
              "0  61620.0  2656030.0  \n",
              "1  17570.0   698560.0  \n",
              "2  54510.0  2912340.0  \n",
              "3  21300.0  1188380.0  \n",
              "4  33290.0  1298420.0  "
            ],
            "text/html": [
              "\n",
              "  <div id=\"df-883a2560-4ed3-4f68-8546-5e2cfbac159e\" class=\"colab-df-container\">\n",
              "    <div>\n",
              "<style scoped>\n",
              "    .dataframe tbody tr th:only-of-type {\n",
              "        vertical-align: middle;\n",
              "    }\n",
              "\n",
              "    .dataframe tbody tr th {\n",
              "        vertical-align: top;\n",
              "    }\n",
              "\n",
              "    .dataframe thead th {\n",
              "        text-align: right;\n",
              "    }\n",
              "</style>\n",
              "<table border=\"1\" class=\"dataframe\">\n",
              "  <thead>\n",
              "    <tr style=\"text-align: right;\">\n",
              "      <th></th>\n",
              "      <th>patho_niv1</th>\n",
              "      <th>perc</th>\n",
              "      <th>departement</th>\n",
              "      <th>malades</th>\n",
              "      <th>pop</th>\n",
              "    </tr>\n",
              "  </thead>\n",
              "  <tbody>\n",
              "    <tr>\n",
              "      <th>0</th>\n",
              "      <td>Autres affections de longue durée (dont 31 et 32)</td>\n",
              "      <td>2.320004</td>\n",
              "      <td>54</td>\n",
              "      <td>61620.0</td>\n",
              "      <td>2656030.0</td>\n",
              "    </tr>\n",
              "    <tr>\n",
              "      <th>1</th>\n",
              "      <td>Autres affections de longue durée (dont 31 et 32)</td>\n",
              "      <td>2.515174</td>\n",
              "      <td>55</td>\n",
              "      <td>17570.0</td>\n",
              "      <td>698560.0</td>\n",
              "    </tr>\n",
              "    <tr>\n",
              "      <th>2</th>\n",
              "      <td>Autres affections de longue durée (dont 31 et 32)</td>\n",
              "      <td>1.871691</td>\n",
              "      <td>68</td>\n",
              "      <td>54510.0</td>\n",
              "      <td>2912340.0</td>\n",
              "    </tr>\n",
              "    <tr>\n",
              "      <th>3</th>\n",
              "      <td>Autres affections de longue durée (dont 31 et 32)</td>\n",
              "      <td>1.792356</td>\n",
              "      <td>53</td>\n",
              "      <td>21300.0</td>\n",
              "      <td>1188380.0</td>\n",
              "    </tr>\n",
              "    <tr>\n",
              "      <th>4</th>\n",
              "      <td>Autres affections de longue durée (dont 31 et 32)</td>\n",
              "      <td>2.563885</td>\n",
              "      <td>47</td>\n",
              "      <td>33290.0</td>\n",
              "      <td>1298420.0</td>\n",
              "    </tr>\n",
              "  </tbody>\n",
              "</table>\n",
              "</div>\n",
              "    <div class=\"colab-df-buttons\">\n",
              "\n",
              "  <div class=\"colab-df-container\">\n",
              "    <button class=\"colab-df-convert\" onclick=\"convertToInteractive('df-883a2560-4ed3-4f68-8546-5e2cfbac159e')\"\n",
              "            title=\"Convert this dataframe to an interactive table.\"\n",
              "            style=\"display:none;\">\n",
              "\n",
              "  <svg xmlns=\"http://www.w3.org/2000/svg\" height=\"24px\" viewBox=\"0 -960 960 960\">\n",
              "    <path d=\"M120-120v-720h720v720H120Zm60-500h600v-160H180v160Zm220 220h160v-160H400v160Zm0 220h160v-160H400v160ZM180-400h160v-160H180v160Zm440 0h160v-160H620v160ZM180-180h160v-160H180v160Zm440 0h160v-160H620v160Z\"/>\n",
              "  </svg>\n",
              "    </button>\n",
              "\n",
              "  <style>\n",
              "    .colab-df-container {\n",
              "      display:flex;\n",
              "      gap: 12px;\n",
              "    }\n",
              "\n",
              "    .colab-df-convert {\n",
              "      background-color: #E8F0FE;\n",
              "      border: none;\n",
              "      border-radius: 50%;\n",
              "      cursor: pointer;\n",
              "      display: none;\n",
              "      fill: #1967D2;\n",
              "      height: 32px;\n",
              "      padding: 0 0 0 0;\n",
              "      width: 32px;\n",
              "    }\n",
              "\n",
              "    .colab-df-convert:hover {\n",
              "      background-color: #E2EBFA;\n",
              "      box-shadow: 0px 1px 2px rgba(60, 64, 67, 0.3), 0px 1px 3px 1px rgba(60, 64, 67, 0.15);\n",
              "      fill: #174EA6;\n",
              "    }\n",
              "\n",
              "    .colab-df-buttons div {\n",
              "      margin-bottom: 4px;\n",
              "    }\n",
              "\n",
              "    [theme=dark] .colab-df-convert {\n",
              "      background-color: #3B4455;\n",
              "      fill: #D2E3FC;\n",
              "    }\n",
              "\n",
              "    [theme=dark] .colab-df-convert:hover {\n",
              "      background-color: #434B5C;\n",
              "      box-shadow: 0px 1px 3px 1px rgba(0, 0, 0, 0.15);\n",
              "      filter: drop-shadow(0px 1px 2px rgba(0, 0, 0, 0.3));\n",
              "      fill: #FFFFFF;\n",
              "    }\n",
              "  </style>\n",
              "\n",
              "    <script>\n",
              "      const buttonEl =\n",
              "        document.querySelector('#df-883a2560-4ed3-4f68-8546-5e2cfbac159e button.colab-df-convert');\n",
              "      buttonEl.style.display =\n",
              "        google.colab.kernel.accessAllowed ? 'block' : 'none';\n",
              "\n",
              "      async function convertToInteractive(key) {\n",
              "        const element = document.querySelector('#df-883a2560-4ed3-4f68-8546-5e2cfbac159e');\n",
              "        const dataTable =\n",
              "          await google.colab.kernel.invokeFunction('convertToInteractive',\n",
              "                                                    [key], {});\n",
              "        if (!dataTable) return;\n",
              "\n",
              "        const docLinkHtml = 'Like what you see? Visit the ' +\n",
              "          '<a target=\"_blank\" href=https://colab.research.google.com/notebooks/data_table.ipynb>data table notebook</a>'\n",
              "          + ' to learn more about interactive tables.';\n",
              "        element.innerHTML = '';\n",
              "        dataTable['output_type'] = 'display_data';\n",
              "        await google.colab.output.renderOutput(dataTable, element);\n",
              "        const docLink = document.createElement('div');\n",
              "        docLink.innerHTML = docLinkHtml;\n",
              "        element.appendChild(docLink);\n",
              "      }\n",
              "    </script>\n",
              "  </div>\n",
              "\n",
              "\n",
              "<div id=\"df-443d1f52-8657-4e6c-aa29-a6f442fd2c3d\">\n",
              "  <button class=\"colab-df-quickchart\" onclick=\"quickchart('df-443d1f52-8657-4e6c-aa29-a6f442fd2c3d')\"\n",
              "            title=\"Suggest charts\"\n",
              "            style=\"display:none;\">\n",
              "\n",
              "<svg xmlns=\"http://www.w3.org/2000/svg\" height=\"24px\"viewBox=\"0 0 24 24\"\n",
              "     width=\"24px\">\n",
              "    <g>\n",
              "        <path d=\"M19 3H5c-1.1 0-2 .9-2 2v14c0 1.1.9 2 2 2h14c1.1 0 2-.9 2-2V5c0-1.1-.9-2-2-2zM9 17H7v-7h2v7zm4 0h-2V7h2v10zm4 0h-2v-4h2v4z\"/>\n",
              "    </g>\n",
              "</svg>\n",
              "  </button>\n",
              "\n",
              "<style>\n",
              "  .colab-df-quickchart {\n",
              "      --bg-color: #E8F0FE;\n",
              "      --fill-color: #1967D2;\n",
              "      --hover-bg-color: #E2EBFA;\n",
              "      --hover-fill-color: #174EA6;\n",
              "      --disabled-fill-color: #AAA;\n",
              "      --disabled-bg-color: #DDD;\n",
              "  }\n",
              "\n",
              "  [theme=dark] .colab-df-quickchart {\n",
              "      --bg-color: #3B4455;\n",
              "      --fill-color: #D2E3FC;\n",
              "      --hover-bg-color: #434B5C;\n",
              "      --hover-fill-color: #FFFFFF;\n",
              "      --disabled-bg-color: #3B4455;\n",
              "      --disabled-fill-color: #666;\n",
              "  }\n",
              "\n",
              "  .colab-df-quickchart {\n",
              "    background-color: var(--bg-color);\n",
              "    border: none;\n",
              "    border-radius: 50%;\n",
              "    cursor: pointer;\n",
              "    display: none;\n",
              "    fill: var(--fill-color);\n",
              "    height: 32px;\n",
              "    padding: 0;\n",
              "    width: 32px;\n",
              "  }\n",
              "\n",
              "  .colab-df-quickchart:hover {\n",
              "    background-color: var(--hover-bg-color);\n",
              "    box-shadow: 0 1px 2px rgba(60, 64, 67, 0.3), 0 1px 3px 1px rgba(60, 64, 67, 0.15);\n",
              "    fill: var(--button-hover-fill-color);\n",
              "  }\n",
              "\n",
              "  .colab-df-quickchart-complete:disabled,\n",
              "  .colab-df-quickchart-complete:disabled:hover {\n",
              "    background-color: var(--disabled-bg-color);\n",
              "    fill: var(--disabled-fill-color);\n",
              "    box-shadow: none;\n",
              "  }\n",
              "\n",
              "  .colab-df-spinner {\n",
              "    border: 2px solid var(--fill-color);\n",
              "    border-color: transparent;\n",
              "    border-bottom-color: var(--fill-color);\n",
              "    animation:\n",
              "      spin 1s steps(1) infinite;\n",
              "  }\n",
              "\n",
              "  @keyframes spin {\n",
              "    0% {\n",
              "      border-color: transparent;\n",
              "      border-bottom-color: var(--fill-color);\n",
              "      border-left-color: var(--fill-color);\n",
              "    }\n",
              "    20% {\n",
              "      border-color: transparent;\n",
              "      border-left-color: var(--fill-color);\n",
              "      border-top-color: var(--fill-color);\n",
              "    }\n",
              "    30% {\n",
              "      border-color: transparent;\n",
              "      border-left-color: var(--fill-color);\n",
              "      border-top-color: var(--fill-color);\n",
              "      border-right-color: var(--fill-color);\n",
              "    }\n",
              "    40% {\n",
              "      border-color: transparent;\n",
              "      border-right-color: var(--fill-color);\n",
              "      border-top-color: var(--fill-color);\n",
              "    }\n",
              "    60% {\n",
              "      border-color: transparent;\n",
              "      border-right-color: var(--fill-color);\n",
              "    }\n",
              "    80% {\n",
              "      border-color: transparent;\n",
              "      border-right-color: var(--fill-color);\n",
              "      border-bottom-color: var(--fill-color);\n",
              "    }\n",
              "    90% {\n",
              "      border-color: transparent;\n",
              "      border-bottom-color: var(--fill-color);\n",
              "    }\n",
              "  }\n",
              "</style>\n",
              "\n",
              "  <script>\n",
              "    async function quickchart(key) {\n",
              "      const quickchartButtonEl =\n",
              "        document.querySelector('#' + key + ' button');\n",
              "      quickchartButtonEl.disabled = true;  // To prevent multiple clicks.\n",
              "      quickchartButtonEl.classList.add('colab-df-spinner');\n",
              "      try {\n",
              "        const charts = await google.colab.kernel.invokeFunction(\n",
              "            'suggestCharts', [key], {});\n",
              "      } catch (error) {\n",
              "        console.error('Error during call to suggestCharts:', error);\n",
              "      }\n",
              "      quickchartButtonEl.classList.remove('colab-df-spinner');\n",
              "      quickchartButtonEl.classList.add('colab-df-quickchart-complete');\n",
              "    }\n",
              "    (() => {\n",
              "      let quickchartButtonEl =\n",
              "        document.querySelector('#df-443d1f52-8657-4e6c-aa29-a6f442fd2c3d button');\n",
              "      quickchartButtonEl.style.display =\n",
              "        google.colab.kernel.accessAllowed ? 'block' : 'none';\n",
              "    })();\n",
              "  </script>\n",
              "</div>\n",
              "    </div>\n",
              "  </div>\n"
            ],
            "application/vnd.google.colaboratory.intrinsic+json": {
              "type": "dataframe",
              "variable_name": "pathologies",
              "summary": "{\n  \"name\": \"pathologies\",\n  \"rows\": 1836,\n  \"fields\": [\n    {\n      \"column\": \"patho_niv1\",\n      \"properties\": {\n        \"dtype\": \"category\",\n        \"num_unique_values\": 17,\n        \"samples\": [\n          \"Autres affections de longue dur\\u00e9e (dont 31 et 32)\",\n          \"Cancers\",\n          \"Maladies cardio-neurovasculaires\"\n        ],\n        \"semantic_type\": \"\",\n        \"description\": \"\"\n      }\n    },\n    {\n      \"column\": \"perc\",\n      \"properties\": {\n        \"dtype\": \"number\",\n        \"std\": 25.155693396711904,\n        \"min\": 0.042143066549399005,\n        \"max\": 100.0,\n        \"num_unique_values\": 1633,\n        \"samples\": [\n          2.8050077390416224,\n          1.4564418124921066,\n          4.667696719762569\n        ],\n        \"semantic_type\": \"\",\n        \"description\": \"\"\n      }\n    },\n    {\n      \"column\": \"departement\",\n      \"properties\": {\n        \"dtype\": \"category\",\n        \"num_unique_values\": 102,\n        \"samples\": [\n          \"74\",\n          \"32\",\n          \"67\"\n        ],\n        \"semantic_type\": \"\",\n        \"description\": \"\"\n      }\n    },\n    {\n      \"column\": \"malades\",\n      \"properties\": {\n        \"dtype\": \"number\",\n        \"std\": 15606708.816239057,\n        \"min\": 490.0,\n        \"max\": 522595050.0,\n        \"num_unique_values\": 1707,\n        \"samples\": [\n          4550.0,\n          59510.0,\n          104860.0\n        ],\n        \"semantic_type\": \"\",\n        \"description\": \"\"\n      }\n    },\n    {\n      \"column\": \"pop\",\n      \"properties\": {\n        \"dtype\": \"number\",\n        \"std\": 319224345.1502458,\n        \"min\": 166820.0,\n        \"max\": 7838925750.0,\n        \"num_unique_values\": 1020,\n        \"samples\": [\n          384360.0,\n          17167120.0,\n          988450.0\n        ],\n        \"semantic_type\": \"\",\n        \"description\": \"\"\n      }\n    }\n  ]\n}"
            }
          },
          "metadata": {},
          "execution_count": 12
        }
      ],
      "source": [
        "query = (f\"\"\"\n",
        "        SELECT patho_niv1, dept, SUM(ntop), SUM(npop)\n",
        "        FROM pathologies\n",
        "        WHERE annee = 2018\n",
        "        GROUP BY dept, patho_niv1\n",
        "    \"\"\")\n",
        "\n",
        "# Exécution des requêtes de statistiques et affichage des résultats\n",
        "print(\"Statistiques par maladies en 2018:\")\n",
        "result = (conn.execute(query).fetchall())\n",
        "pathologies = pd.DataFrame(result, columns=[\"patho_niv1\", \"departement\", \"malades\", \"pop\"])\n",
        "pathologies.insert(1, 'perc', pathologies['malades']/pathologies['pop'] * 100)\n",
        "pathologies.head()"
      ]
    },
    {
      "cell_type": "code",
      "execution_count": 13,
      "metadata": {
        "id": "YkLty5DY3DYo"
      },
      "outputs": [],
      "source": [
        "zip_path = 'gadm41_FRA_shp.zip'\n",
        "extracted_path = 'extracted_shapefile'\n",
        "\n",
        "if not os.path.exists(extracted_path):\n",
        "    os.makedirs(extracted_path)\n",
        "\n",
        "# Extraire les fichiers du zip\n",
        "with zipfile.ZipFile(zip_path, 'r') as zip_ref:\n",
        "    zip_ref.extractall(extracted_path)\n",
        "\n",
        "# Trouver le fichier shapefile (.shp)\n",
        "shapefile_path = None\n",
        "for root, dirs, files in os.walk(extracted_path):\n",
        "    for file in files:\n",
        "        if file.endswith('.shp'):\n",
        "            shapefile_path = os.path.join(root, file)\n",
        "            break"
      ]
    },
    {
      "cell_type": "code",
      "execution_count": 14,
      "metadata": {
        "colab": {
          "base_uri": "https://localhost:8080/"
        },
        "id": "VD_nXzMszv6m",
        "outputId": "de3dea0b-2afb-47fb-fc86-b0a6e88ec947"
      },
      "outputs": [
        {
          "output_type": "stream",
          "name": "stdout",
          "text": [
            "Index(['GID_2', 'GID_0', 'COUNTRY', 'GID_1', 'NAME_1', 'NL_NAME_1', 'NAME_2',\n",
            "       'VARNAME_2', 'NL_NAME_2', 'TYPE_2', 'ENGTYPE_2', 'CC_2', 'HASC_2',\n",
            "       'geometry', 'patho_niv1', 'perc', 'malades', 'pop'],\n",
            "      dtype='object')\n"
          ]
        },
        {
          "output_type": "stream",
          "name": "stderr",
          "text": [
            "<ipython-input-14-9ff562c1aef2>:8: SettingWithCopyWarning: \n",
            "A value is trying to be set on a copy of a slice from a DataFrame.\n",
            "Try using .loc[row_indexer,col_indexer] = value instead\n",
            "\n",
            "See the caveats in the documentation: https://pandas.pydata.org/pandas-docs/stable/user_guide/indexing.html#returning-a-view-versus-a-copy\n",
            "  pathologies_filtered['departement'] = pathologies_filtered['departement'].astype(str).str.zfill(2)\n"
          ]
        }
      ],
      "source": [
        "disease_to_plot = 'Cancers'\n",
        "pathologies_filtered = pathologies[pathologies['patho_niv1'] == disease_to_plot]\n",
        "\n",
        "gdf = gpd.read_file('extracted_shapefile/gadm41_FRA_2.shp')\n",
        "#gdf = gpd.read_file('france.shp')\n",
        "\n",
        "gdf['code'] = gdf['CC_2'].astype(str).str.zfill(2)\n",
        "pathologies_filtered['departement'] = pathologies_filtered['departement'].astype(str).str.zfill(2)\n",
        "\n",
        "# Joindre les données géographiques avec les données de patients\n",
        "merged = gdf.set_index('code').join(pathologies_filtered.set_index('departement'))\n",
        "print(merged.columns)"
      ]
    },
    {
      "cell_type": "code",
      "execution_count": 15,
      "metadata": {
        "colab": {
          "base_uri": "https://localhost:8080/",
          "height": 716
        },
        "id": "OPT3cSiX8Cb2",
        "outputId": "0ecb523f-3c05-48a5-da85-a51e236d2a82"
      },
      "outputs": [
        {
          "output_type": "stream",
          "name": "stderr",
          "text": [
            "<ipython-input-15-fba844c21da8>:5: MatplotlibDeprecationWarning: The get_cmap function was deprecated in Matplotlib 3.7 and will be removed two minor releases later. Use ``matplotlib.colormaps[name]`` or ``matplotlib.colormaps.get_cmap(obj)`` instead.\n",
            "  cmap = plt.cm.get_cmap('RdYlGn_r')  # Utilisation de 'RdYlGn_r' pour aller du vert au rouge\n"
          ]
        },
        {
          "output_type": "display_data",
          "data": {
            "text/plain": [
              "<Figure size 1000x800 with 2 Axes>"
            ],
            "image/png": "[encoded data removed]"
          },
          "metadata": {}
        }
      ],
      "source": [
        "variable_to_plot = \"perc\"\n",
        "\n",
        "# Définir les valeurs de coloration\n",
        "norm = mcolors.Normalize(vmin=merged[variable_to_plot].min(), vmax=merged[variable_to_plot].max())\n",
        "cmap = plt.cm.get_cmap('RdYlGn_r')  # Utilisation de 'RdYlGn_r' pour aller du vert au rouge\n",
        "\n",
        "# Créer la carte\n",
        "fig, ax = plt.subplots(1, 1, figsize=(10, 8))\n",
        "merged.plot(column=variable_to_plot, cmap=cmap, norm=norm, legend=True, ax=ax)\n",
        "\n",
        "# Supprimer les axes gradués\n",
        "ax.set_axis_off()\n",
        "\n",
        "# Ajuster la taille de la barre colorée (legend)\n",
        "cbar = ax.get_figure().get_axes()[1]\n",
        "cbar.set_aspect(30)  # Ajuster la taille selon vos besoins\n",
        "\n",
        "# Ajouter un titre\n",
        "ax.set_title(f'Pourcentage de personnes atteintes de {disease_to_plot}', fontdict={'fontsize': '10', 'fontweight': '3'})\n",
        "\n",
        "# Afficher la carte\n",
        "plt.show()"
      ]
    },
    {
      "cell_type": "markdown",
      "source": [
        "# Charger les données sur les points de vente de tabac"
      ],
      "metadata": {
        "id": "TzL87hIgujT0"
      }
    },
    {
      "cell_type": "code",
      "source": [
        "# Charger le fichier CSV en utilisant pandas\n",
        "tabac = pd.read_csv('tabacs.csv', on_bad_lines='skip', sep=\";\", low_memory=False, encoding='latin-1')\n",
        "\n",
        "# Créer un tableau PyArrow à partir du DataFrame pandas\n",
        "tabac.to_parquet('tabac.parquet')\n",
        "\n",
        "# Chargement du fichier Parquet\n",
        "cursor = conn.cursor()\n",
        "cursor.execute(\"CREATE TABLE tabac AS SELECT * FROM parquet_scan('tabac.parquet')\")\n",
        "\n",
        "# Affichage des 5 premières lignes\n",
        "result = cursor.execute(\"SELECT * FROM tabac LIMIT 5\").fetchall()\n",
        "print(\"Les 5 premières lignes du fichier Parquet : \", result)"
      ],
      "metadata": {
        "colab": {
          "base_uri": "https://localhost:8080/"
        },
        "id": "wXQA53qPui4w",
        "outputId": "d8059a4b-b4dc-4d43-b0c2-d8e7317846b0"
      },
      "execution_count": 16,
      "outputs": [
        {
          "output_type": "stream",
          "name": "stdout",
          "text": [
            "Les 5 premières lignes du fichier Parquet :  [(None, '42 RUE ROGER VAILLANT', 1500, 'AMBERIEU EN BUGEY', 'Ordinaire permanent'), ('TABAC DE LA GARE', '6 AV DU GENERAL SARRAIL', 1500, 'AMBERIEU EN BUGEY', 'Ordinaire permanent'), ('MAISON DE LA PRESSE', '14 R BERARD', 1500, 'AMBERIEU EN BUGEY', 'Ordinaire permanent'), (None, '8 AV  PAUL PAINLEVE', 1500, 'AMBERIEU EN BUGEY', 'Ordinaire permanent'), ('LA ROSERAIE', '33, rue de la ruelle', 1330, 'AMBERIEUX EN DOMBES', 'Ordinaire permanent')]\n"
          ]
        }
      ]
    },
    {
      "cell_type": "code",
      "source": [
        "tabac['departement'] =  tabac['Code postal débit'].astype(str).str[:-3]\n",
        "tabac['departement'] =  tabac['departement'].str.zfill(2)\n",
        "tabac_count = tabac.groupby('departement', group_keys=True, as_index=False).count()\n",
        "tabac_count = tabac_count.filter(['Enseigne débit', 'departement'], axis=1)\n",
        "tabac_count.head()"
      ],
      "metadata": {
        "colab": {
          "base_uri": "https://localhost:8080/",
          "height": 206
        },
        "id": "Eceu1cYhu_hZ",
        "outputId": "68d227aa-b61b-4d5e-981c-081d51c553f1"
      },
      "execution_count": 17,
      "outputs": [
        {
          "output_type": "execute_result",
          "data": {
            "text/plain": [
              "   Enseigne débit departement\n",
              "0             146          01\n",
              "1             107          02\n",
              "2              13          03\n",
              "3              77          04\n",
              "4              69          05"
            ],
            "text/html": [
              "\n",
              "  <div id=\"df-444104cf-57c4-454a-9a7c-4152aa65387c\" class=\"colab-df-container\">\n",
              "    <div>\n",
              "<style scoped>\n",
              "    .dataframe tbody tr th:only-of-type {\n",
              "        vertical-align: middle;\n",
              "    }\n",
              "\n",
              "    .dataframe tbody tr th {\n",
              "        vertical-align: top;\n",
              "    }\n",
              "\n",
              "    .dataframe thead th {\n",
              "        text-align: right;\n",
              "    }\n",
              "</style>\n",
              "<table border=\"1\" class=\"dataframe\">\n",
              "  <thead>\n",
              "    <tr style=\"text-align: right;\">\n",
              "      <th></th>\n",
              "      <th>Enseigne débit</th>\n",
              "      <th>departement</th>\n",
              "    </tr>\n",
              "  </thead>\n",
              "  <tbody>\n",
              "    <tr>\n",
              "      <th>0</th>\n",
              "      <td>146</td>\n",
              "      <td>01</td>\n",
              "    </tr>\n",
              "    <tr>\n",
              "      <th>1</th>\n",
              "      <td>107</td>\n",
              "      <td>02</td>\n",
              "    </tr>\n",
              "    <tr>\n",
              "      <th>2</th>\n",
              "      <td>13</td>\n",
              "      <td>03</td>\n",
              "    </tr>\n",
              "    <tr>\n",
              "      <th>3</th>\n",
              "      <td>77</td>\n",
              "      <td>04</td>\n",
              "    </tr>\n",
              "    <tr>\n",
              "      <th>4</th>\n",
              "      <td>69</td>\n",
              "      <td>05</td>\n",
              "    </tr>\n",
              "  </tbody>\n",
              "</table>\n",
              "</div>\n",
              "    <div class=\"colab-df-buttons\">\n",
              "\n",
              "  <div class=\"colab-df-container\">\n",
              "    <button class=\"colab-df-convert\" onclick=\"convertToInteractive('df-444104cf-57c4-454a-9a7c-4152aa65387c')\"\n",
              "            title=\"Convert this dataframe to an interactive table.\"\n",
              "            style=\"display:none;\">\n",
              "\n",
              "  <svg xmlns=\"http://www.w3.org/2000/svg\" height=\"24px\" viewBox=\"0 -960 960 960\">\n",
              "    <path d=\"M120-120v-720h720v720H120Zm60-500h600v-160H180v160Zm220 220h160v-160H400v160Zm0 220h160v-160H400v160ZM180-400h160v-160H180v160Zm440 0h160v-160H620v160ZM180-180h160v-160H180v160Zm440 0h160v-160H620v160Z\"/>\n",
              "  </svg>\n",
              "    </button>\n",
              "\n",
              "  <style>\n",
              "    .colab-df-container {\n",
              "      display:flex;\n",
              "      gap: 12px;\n",
              "    }\n",
              "\n",
              "    .colab-df-convert {\n",
              "      background-color: #E8F0FE;\n",
              "      border: none;\n",
              "      border-radius: 50%;\n",
              "      cursor: pointer;\n",
              "      display: none;\n",
              "      fill: #1967D2;\n",
              "      height: 32px;\n",
              "      padding: 0 0 0 0;\n",
              "      width: 32px;\n",
              "    }\n",
              "\n",
              "    .colab-df-convert:hover {\n",
              "      background-color: #E2EBFA;\n",
              "      box-shadow: 0px 1px 2px rgba(60, 64, 67, 0.3), 0px 1px 3px 1px rgba(60, 64, 67, 0.15);\n",
              "      fill: #174EA6;\n",
              "    }\n",
              "\n",
              "    .colab-df-buttons div {\n",
              "      margin-bottom: 4px;\n",
              "    }\n",
              "\n",
              "    [theme=dark] .colab-df-convert {\n",
              "      background-color: #3B4455;\n",
              "      fill: #D2E3FC;\n",
              "    }\n",
              "\n",
              "    [theme=dark] .colab-df-convert:hover {\n",
              "      background-color: #434B5C;\n",
              "      box-shadow: 0px 1px 3px 1px rgba(0, 0, 0, 0.15);\n",
              "      filter: drop-shadow(0px 1px 2px rgba(0, 0, 0, 0.3));\n",
              "      fill: #FFFFFF;\n",
              "    }\n",
              "  </style>\n",
              "\n",
              "    <script>\n",
              "      const buttonEl =\n",
              "        document.querySelector('#df-444104cf-57c4-454a-9a7c-4152aa65387c button.colab-df-convert');\n",
              "      buttonEl.style.display =\n",
              "        google.colab.kernel.accessAllowed ? 'block' : 'none';\n",
              "\n",
              "      async function convertToInteractive(key) {\n",
              "        const element = document.querySelector('#df-444104cf-57c4-454a-9a7c-4152aa65387c');\n",
              "        const dataTable =\n",
              "          await google.colab.kernel.invokeFunction('convertToInteractive',\n",
              "                                                    [key], {});\n",
              "        if (!dataTable) return;\n",
              "\n",
              "        const docLinkHtml = 'Like what you see? Visit the ' +\n",
              "          '<a target=\"_blank\" href=https://colab.research.google.com/notebooks/data_table.ipynb>data table notebook</a>'\n",
              "          + ' to learn more about interactive tables.';\n",
              "        element.innerHTML = '';\n",
              "        dataTable['output_type'] = 'display_data';\n",
              "        await google.colab.output.renderOutput(dataTable, element);\n",
              "        const docLink = document.createElement('div');\n",
              "        docLink.innerHTML = docLinkHtml;\n",
              "        element.appendChild(docLink);\n",
              "      }\n",
              "    </script>\n",
              "  </div>\n",
              "\n",
              "\n",
              "<div id=\"df-faeecc3a-8c5f-4b81-a1d3-28f13d76236e\">\n",
              "  <button class=\"colab-df-quickchart\" onclick=\"quickchart('df-faeecc3a-8c5f-4b81-a1d3-28f13d76236e')\"\n",
              "            title=\"Suggest charts\"\n",
              "            style=\"display:none;\">\n",
              "\n",
              "<svg xmlns=\"http://www.w3.org/2000/svg\" height=\"24px\"viewBox=\"0 0 24 24\"\n",
              "     width=\"24px\">\n",
              "    <g>\n",
              "        <path d=\"M19 3H5c-1.1 0-2 .9-2 2v14c0 1.1.9 2 2 2h14c1.1 0 2-.9 2-2V5c0-1.1-.9-2-2-2zM9 17H7v-7h2v7zm4 0h-2V7h2v10zm4 0h-2v-4h2v4z\"/>\n",
              "    </g>\n",
              "</svg>\n",
              "  </button>\n",
              "\n",
              "<style>\n",
              "  .colab-df-quickchart {\n",
              "      --bg-color: #E8F0FE;\n",
              "      --fill-color: #1967D2;\n",
              "      --hover-bg-color: #E2EBFA;\n",
              "      --hover-fill-color: #174EA6;\n",
              "      --disabled-fill-color: #AAA;\n",
              "      --disabled-bg-color: #DDD;\n",
              "  }\n",
              "\n",
              "  [theme=dark] .colab-df-quickchart {\n",
              "      --bg-color: #3B4455;\n",
              "      --fill-color: #D2E3FC;\n",
              "      --hover-bg-color: #434B5C;\n",
              "      --hover-fill-color: #FFFFFF;\n",
              "      --disabled-bg-color: #3B4455;\n",
              "      --disabled-fill-color: #666;\n",
              "  }\n",
              "\n",
              "  .colab-df-quickchart {\n",
              "    background-color: var(--bg-color);\n",
              "    border: none;\n",
              "    border-radius: 50%;\n",
              "    cursor: pointer;\n",
              "    display: none;\n",
              "    fill: var(--fill-color);\n",
              "    height: 32px;\n",
              "    padding: 0;\n",
              "    width: 32px;\n",
              "  }\n",
              "\n",
              "  .colab-df-quickchart:hover {\n",
              "    background-color: var(--hover-bg-color);\n",
              "    box-shadow: 0 1px 2px rgba(60, 64, 67, 0.3), 0 1px 3px 1px rgba(60, 64, 67, 0.15);\n",
              "    fill: var(--button-hover-fill-color);\n",
              "  }\n",
              "\n",
              "  .colab-df-quickchart-complete:disabled,\n",
              "  .colab-df-quickchart-complete:disabled:hover {\n",
              "    background-color: var(--disabled-bg-color);\n",
              "    fill: var(--disabled-fill-color);\n",
              "    box-shadow: none;\n",
              "  }\n",
              "\n",
              "  .colab-df-spinner {\n",
              "    border: 2px solid var(--fill-color);\n",
              "    border-color: transparent;\n",
              "    border-bottom-color: var(--fill-color);\n",
              "    animation:\n",
              "      spin 1s steps(1) infinite;\n",
              "  }\n",
              "\n",
              "  @keyframes spin {\n",
              "    0% {\n",
              "      border-color: transparent;\n",
              "      border-bottom-color: var(--fill-color);\n",
              "      border-left-color: var(--fill-color);\n",
              "    }\n",
              "    20% {\n",
              "      border-color: transparent;\n",
              "      border-left-color: var(--fill-color);\n",
              "      border-top-color: var(--fill-color);\n",
              "    }\n",
              "    30% {\n",
              "      border-color: transparent;\n",
              "      border-left-color: var(--fill-color);\n",
              "      border-top-color: var(--fill-color);\n",
              "      border-right-color: var(--fill-color);\n",
              "    }\n",
              "    40% {\n",
              "      border-color: transparent;\n",
              "      border-right-color: var(--fill-color);\n",
              "      border-top-color: var(--fill-color);\n",
              "    }\n",
              "    60% {\n",
              "      border-color: transparent;\n",
              "      border-right-color: var(--fill-color);\n",
              "    }\n",
              "    80% {\n",
              "      border-color: transparent;\n",
              "      border-right-color: var(--fill-color);\n",
              "      border-bottom-color: var(--fill-color);\n",
              "    }\n",
              "    90% {\n",
              "      border-color: transparent;\n",
              "      border-bottom-color: var(--fill-color);\n",
              "    }\n",
              "  }\n",
              "</style>\n",
              "\n",
              "  <script>\n",
              "    async function quickchart(key) {\n",
              "      const quickchartButtonEl =\n",
              "        document.querySelector('#' + key + ' button');\n",
              "      quickchartButtonEl.disabled = true;  // To prevent multiple clicks.\n",
              "      quickchartButtonEl.classList.add('colab-df-spinner');\n",
              "      try {\n",
              "        const charts = await google.colab.kernel.invokeFunction(\n",
              "            'suggestCharts', [key], {});\n",
              "      } catch (error) {\n",
              "        console.error('Error during call to suggestCharts:', error);\n",
              "      }\n",
              "      quickchartButtonEl.classList.remove('colab-df-spinner');\n",
              "      quickchartButtonEl.classList.add('colab-df-quickchart-complete');\n",
              "    }\n",
              "    (() => {\n",
              "      let quickchartButtonEl =\n",
              "        document.querySelector('#df-faeecc3a-8c5f-4b81-a1d3-28f13d76236e button');\n",
              "      quickchartButtonEl.style.display =\n",
              "        google.colab.kernel.accessAllowed ? 'block' : 'none';\n",
              "    })();\n",
              "  </script>\n",
              "</div>\n",
              "    </div>\n",
              "  </div>\n"
            ],
            "application/vnd.google.colaboratory.intrinsic+json": {
              "type": "dataframe",
              "variable_name": "tabac_count",
              "summary": "{\n  \"name\": \"tabac_count\",\n  \"rows\": 95,\n  \"fields\": [\n    {\n      \"column\": \"Enseigne d\\u00e9bit\",\n      \"properties\": {\n        \"dtype\": \"number\",\n        \"std\": 122,\n        \"min\": 1,\n        \"max\": 527,\n        \"num_unique_values\": 81,\n        \"samples\": [\n          417,\n          146,\n          176\n        ],\n        \"semantic_type\": \"\",\n        \"description\": \"\"\n      }\n    },\n    {\n      \"column\": \"departement\",\n      \"properties\": {\n        \"dtype\": \"string\",\n        \"num_unique_values\": 95,\n        \"samples\": [\n          \"69\",\n          \"23\",\n          \"73\"\n        ],\n        \"semantic_type\": \"\",\n        \"description\": \"\"\n      }\n    }\n  ]\n}"
            }
          },
          "metadata": {},
          "execution_count": 17
        }
      ]
    },
    {
      "cell_type": "code",
      "source": [
        "merged = merged.join(tabac_count.set_index('departement'))"
      ],
      "metadata": {
        "id": "ocwno0VrPkW9"
      },
      "execution_count": 18,
      "outputs": []
    },
    {
      "cell_type": "code",
      "source": [
        "merged[\"tabac/hab\"] = merged[\"Enseigne débit\"]/merged[\"pop\"]*1000000\n",
        "merged.head()"
      ],
      "metadata": {
        "colab": {
          "base_uri": "https://localhost:8080/",
          "height": 709
        },
        "id": "O1LSOenNPtHa",
        "outputId": "d586935c-6272-49e5-f492-4ecf7ee8ba32"
      },
      "execution_count": 19,
      "outputs": [
        {
          "output_type": "execute_result",
          "data": {
            "text/plain": [
              "          GID_2 GID_0 COUNTRY    GID_1                NAME_1 NL_NAME_1  \\\n",
              "code                                                                     \n",
              "01    FRA.1.1_1   FRA  France  FRA.1_1  Auvergne-Rhône-Alpes        NA   \n",
              "03    FRA.1.2_1   FRA  France  FRA.1_1  Auvergne-Rhône-Alpes        NA   \n",
              "07    FRA.1.3_1   FRA  France  FRA.1_1  Auvergne-Rhône-Alpes        NA   \n",
              "15    FRA.1.4_1   FRA  France  FRA.1_1  Auvergne-Rhône-Alpes        NA   \n",
              "26    FRA.1.5_1   FRA  France  FRA.1_1  Auvergne-Rhône-Alpes        NA   \n",
              "\n",
              "       NAME_2     VARNAME_2 NL_NAME_2       TYPE_2   ENGTYPE_2 CC_2 HASC_2  \\\n",
              "code                                                                         \n",
              "01        Ain            NA        NA  Département  Department   01  FR.AI   \n",
              "03     Allier  Basses-Alpes        NA  Département  Department   03  FR.AL   \n",
              "07    Ardèche            NA        NA  Département  Department   07  FR.AH   \n",
              "15     Cantal            NA        NA  Département  Department   15  FR.CL   \n",
              "26      Drôme            NA        NA  Département  Department   26  FR.DM   \n",
              "\n",
              "                                               geometry patho_niv1      perc  \\\n",
              "code                                                                           \n",
              "01    POLYGON ((5.62375 45.61327, 5.61491 45.62541, ...    Cancers  1.160498   \n",
              "03    POLYGON ((3.67802 45.95596, 3.66664 45.96115, ...    Cancers  1.657467   \n",
              "07    POLYGON ((4.14166 44.32396, 4.12675 44.33773, ...    Cancers  1.318670   \n",
              "15    POLYGON ((3.06419 44.82031, 3.04827 44.80426, ...    Cancers  1.699955   \n",
              "26    POLYGON ((5.44757 44.13676, 5.43837 44.13881, ...    Cancers  1.199469   \n",
              "\n",
              "       malades         pop  Enseigne débit  tabac/hab  \n",
              "code                                                   \n",
              "01    368410.0  31745860.0           146.0   4.599025  \n",
              "03    286320.0  17274550.0            13.0   0.752552  \n",
              "07    224250.0  17005770.0           138.0   8.114893  \n",
              "15    124640.0   7331960.0            83.0  11.320302  \n",
              "26    327060.0  27267070.0           158.0   5.794535  "
            ],
            "text/html": [
              "\n",
              "  <div id=\"df-14920809-c5eb-4c7b-8497-4c679206eb31\" class=\"colab-df-container\">\n",
              "    <div>\n",
              "<style scoped>\n",
              "    .dataframe tbody tr th:only-of-type {\n",
              "        vertical-align: middle;\n",
              "    }\n",
              "\n",
              "    .dataframe tbody tr th {\n",
              "        vertical-align: top;\n",
              "    }\n",
              "\n",
              "    .dataframe thead th {\n",
              "        text-align: right;\n",
              "    }\n",
              "</style>\n",
              "<table border=\"1\" class=\"dataframe\">\n",
              "  <thead>\n",
              "    <tr style=\"text-align: right;\">\n",
              "      <th></th>\n",
              "      <th>GID_2</th>\n",
              "      <th>GID_0</th>\n",
              "      <th>COUNTRY</th>\n",
              "      <th>GID_1</th>\n",
              "      <th>NAME_1</th>\n",
              "      <th>NL_NAME_1</th>\n",
              "      <th>NAME_2</th>\n",
              "      <th>VARNAME_2</th>\n",
              "      <th>NL_NAME_2</th>\n",
              "      <th>TYPE_2</th>\n",
              "      <th>ENGTYPE_2</th>\n",
              "      <th>CC_2</th>\n",
              "      <th>HASC_2</th>\n",
              "      <th>geometry</th>\n",
              "      <th>patho_niv1</th>\n",
              "      <th>perc</th>\n",
              "      <th>malades</th>\n",
              "      <th>pop</th>\n",
              "      <th>Enseigne débit</th>\n",
              "      <th>tabac/hab</th>\n",
              "    </tr>\n",
              "    <tr>\n",
              "      <th>code</th>\n",
              "      <th></th>\n",
              "      <th></th>\n",
              "      <th></th>\n",
              "      <th></th>\n",
              "      <th></th>\n",
              "      <th></th>\n",
              "      <th></th>\n",
              "      <th></th>\n",
              "      <th></th>\n",
              "      <th></th>\n",
              "      <th></th>\n",
              "      <th></th>\n",
              "      <th></th>\n",
              "      <th></th>\n",
              "      <th></th>\n",
              "      <th></th>\n",
              "      <th></th>\n",
              "      <th></th>\n",
              "      <th></th>\n",
              "      <th></th>\n",
              "    </tr>\n",
              "  </thead>\n",
              "  <tbody>\n",
              "    <tr>\n",
              "      <th>01</th>\n",
              "      <td>FRA.1.1_1</td>\n",
              "      <td>FRA</td>\n",
              "      <td>France</td>\n",
              "      <td>FRA.1_1</td>\n",
              "      <td>Auvergne-Rhône-Alpes</td>\n",
              "      <td>NA</td>\n",
              "      <td>Ain</td>\n",
              "      <td>NA</td>\n",
              "      <td>NA</td>\n",
              "      <td>Département</td>\n",
              "      <td>Department</td>\n",
              "      <td>01</td>\n",
              "      <td>FR.AI</td>\n",
              "      <td>POLYGON ((5.62375 45.61327, 5.61491 45.62541, ...</td>\n",
              "      <td>Cancers</td>\n",
              "      <td>1.160498</td>\n",
              "      <td>368410.0</td>\n",
              "      <td>31745860.0</td>\n",
              "      <td>146.0</td>\n",
              "      <td>4.599025</td>\n",
              "    </tr>\n",
              "    <tr>\n",
              "      <th>03</th>\n",
              "      <td>FRA.1.2_1</td>\n",
              "      <td>FRA</td>\n",
              "      <td>France</td>\n",
              "      <td>FRA.1_1</td>\n",
              "      <td>Auvergne-Rhône-Alpes</td>\n",
              "      <td>NA</td>\n",
              "      <td>Allier</td>\n",
              "      <td>Basses-Alpes</td>\n",
              "      <td>NA</td>\n",
              "      <td>Département</td>\n",
              "      <td>Department</td>\n",
              "      <td>03</td>\n",
              "      <td>FR.AL</td>\n",
              "      <td>POLYGON ((3.67802 45.95596, 3.66664 45.96115, ...</td>\n",
              "      <td>Cancers</td>\n",
              "      <td>1.657467</td>\n",
              "      <td>286320.0</td>\n",
              "      <td>17274550.0</td>\n",
              "      <td>13.0</td>\n",
              "      <td>0.752552</td>\n",
              "    </tr>\n",
              "    <tr>\n",
              "      <th>07</th>\n",
              "      <td>FRA.1.3_1</td>\n",
              "      <td>FRA</td>\n",
              "      <td>France</td>\n",
              "      <td>FRA.1_1</td>\n",
              "      <td>Auvergne-Rhône-Alpes</td>\n",
              "      <td>NA</td>\n",
              "      <td>Ardèche</td>\n",
              "      <td>NA</td>\n",
              "      <td>NA</td>\n",
              "      <td>Département</td>\n",
              "      <td>Department</td>\n",
              "      <td>07</td>\n",
              "      <td>FR.AH</td>\n",
              "      <td>POLYGON ((4.14166 44.32396, 4.12675 44.33773, ...</td>\n",
              "      <td>Cancers</td>\n",
              "      <td>1.318670</td>\n",
              "      <td>224250.0</td>\n",
              "      <td>17005770.0</td>\n",
              "      <td>138.0</td>\n",
              "      <td>8.114893</td>\n",
              "    </tr>\n",
              "    <tr>\n",
              "      <th>15</th>\n",
              "      <td>FRA.1.4_1</td>\n",
              "      <td>FRA</td>\n",
              "      <td>France</td>\n",
              "      <td>FRA.1_1</td>\n",
              "      <td>Auvergne-Rhône-Alpes</td>\n",
              "      <td>NA</td>\n",
              "      <td>Cantal</td>\n",
              "      <td>NA</td>\n",
              "      <td>NA</td>\n",
              "      <td>Département</td>\n",
              "      <td>Department</td>\n",
              "      <td>15</td>\n",
              "      <td>FR.CL</td>\n",
              "      <td>POLYGON ((3.06419 44.82031, 3.04827 44.80426, ...</td>\n",
              "      <td>Cancers</td>\n",
              "      <td>1.699955</td>\n",
              "      <td>124640.0</td>\n",
              "      <td>7331960.0</td>\n",
              "      <td>83.0</td>\n",
              "      <td>11.320302</td>\n",
              "    </tr>\n",
              "    <tr>\n",
              "      <th>26</th>\n",
              "      <td>FRA.1.5_1</td>\n",
              "      <td>FRA</td>\n",
              "      <td>France</td>\n",
              "      <td>FRA.1_1</td>\n",
              "      <td>Auvergne-Rhône-Alpes</td>\n",
              "      <td>NA</td>\n",
              "      <td>Drôme</td>\n",
              "      <td>NA</td>\n",
              "      <td>NA</td>\n",
              "      <td>Département</td>\n",
              "      <td>Department</td>\n",
              "      <td>26</td>\n",
              "      <td>FR.DM</td>\n",
              "      <td>POLYGON ((5.44757 44.13676, 5.43837 44.13881, ...</td>\n",
              "      <td>Cancers</td>\n",
              "      <td>1.199469</td>\n",
              "      <td>327060.0</td>\n",
              "      <td>27267070.0</td>\n",
              "      <td>158.0</td>\n",
              "      <td>5.794535</td>\n",
              "    </tr>\n",
              "  </tbody>\n",
              "</table>\n",
              "</div>\n",
              "    <div class=\"colab-df-buttons\">\n",
              "\n",
              "  <div class=\"colab-df-container\">\n",
              "    <button class=\"colab-df-convert\" onclick=\"convertToInteractive('df-14920809-c5eb-4c7b-8497-4c679206eb31')\"\n",
              "            title=\"Convert this dataframe to an interactive table.\"\n",
              "            style=\"display:none;\">\n",
              "\n",
              "  <svg xmlns=\"http://www.w3.org/2000/svg\" height=\"24px\" viewBox=\"0 -960 960 960\">\n",
              "    <path d=\"M120-120v-720h720v720H120Zm60-500h600v-160H180v160Zm220 220h160v-160H400v160Zm0 220h160v-160H400v160ZM180-400h160v-160H180v160Zm440 0h160v-160H620v160ZM180-180h160v-160H180v160Zm440 0h160v-160H620v160Z\"/>\n",
              "  </svg>\n",
              "    </button>\n",
              "\n",
              "  <style>\n",
              "    .colab-df-container {\n",
              "      display:flex;\n",
              "      gap: 12px;\n",
              "    }\n",
              "\n",
              "    .colab-df-convert {\n",
              "      background-color: #E8F0FE;\n",
              "      border: none;\n",
              "      border-radius: 50%;\n",
              "      cursor: pointer;\n",
              "      display: none;\n",
              "      fill: #1967D2;\n",
              "      height: 32px;\n",
              "      padding: 0 0 0 0;\n",
              "      width: 32px;\n",
              "    }\n",
              "\n",
              "    .colab-df-convert:hover {\n",
              "      background-color: #E2EBFA;\n",
              "      box-shadow: 0px 1px 2px rgba(60, 64, 67, 0.3), 0px 1px 3px 1px rgba(60, 64, 67, 0.15);\n",
              "      fill: #174EA6;\n",
              "    }\n",
              "\n",
              "    .colab-df-buttons div {\n",
              "      margin-bottom: 4px;\n",
              "    }\n",
              "\n",
              "    [theme=dark] .colab-df-convert {\n",
              "      background-color: #3B4455;\n",
              "      fill: #D2E3FC;\n",
              "    }\n",
              "\n",
              "    [theme=dark] .colab-df-convert:hover {\n",
              "      background-color: #434B5C;\n",
              "      box-shadow: 0px 1px 3px 1px rgba(0, 0, 0, 0.15);\n",
              "      filter: drop-shadow(0px 1px 2px rgba(0, 0, 0, 0.3));\n",
              "      fill: #FFFFFF;\n",
              "    }\n",
              "  </style>\n",
              "\n",
              "    <script>\n",
              "      const buttonEl =\n",
              "        document.querySelector('#df-14920809-c5eb-4c7b-8497-4c679206eb31 button.colab-df-convert');\n",
              "      buttonEl.style.display =\n",
              "        google.colab.kernel.accessAllowed ? 'block' : 'none';\n",
              "\n",
              "      async function convertToInteractive(key) {\n",
              "        const element = document.querySelector('#df-14920809-c5eb-4c7b-8497-4c679206eb31');\n",
              "        const dataTable =\n",
              "          await google.colab.kernel.invokeFunction('convertToInteractive',\n",
              "                                                    [key], {});\n",
              "        if (!dataTable) return;\n",
              "\n",
              "        const docLinkHtml = 'Like what you see? Visit the ' +\n",
              "          '<a target=\"_blank\" href=https://colab.research.google.com/notebooks/data_table.ipynb>data table notebook</a>'\n",
              "          + ' to learn more about interactive tables.';\n",
              "        element.innerHTML = '';\n",
              "        dataTable['output_type'] = 'display_data';\n",
              "        await google.colab.output.renderOutput(dataTable, element);\n",
              "        const docLink = document.createElement('div');\n",
              "        docLink.innerHTML = docLinkHtml;\n",
              "        element.appendChild(docLink);\n",
              "      }\n",
              "    </script>\n",
              "  </div>\n",
              "\n",
              "\n",
              "<div id=\"df-b4c0aa8b-e748-4d0f-902f-1eeb9ebfa255\">\n",
              "  <button class=\"colab-df-quickchart\" onclick=\"quickchart('df-b4c0aa8b-e748-4d0f-902f-1eeb9ebfa255')\"\n",
              "            title=\"Suggest charts\"\n",
              "            style=\"display:none;\">\n",
              "\n",
              "<svg xmlns=\"http://www.w3.org/2000/svg\" height=\"24px\"viewBox=\"0 0 24 24\"\n",
              "     width=\"24px\">\n",
              "    <g>\n",
              "        <path d=\"M19 3H5c-1.1 0-2 .9-2 2v14c0 1.1.9 2 2 2h14c1.1 0 2-.9 2-2V5c0-1.1-.9-2-2-2zM9 17H7v-7h2v7zm4 0h-2V7h2v10zm4 0h-2v-4h2v4z\"/>\n",
              "    </g>\n",
              "</svg>\n",
              "  </button>\n",
              "\n",
              "<style>\n",
              "  .colab-df-quickchart {\n",
              "      --bg-color: #E8F0FE;\n",
              "      --fill-color: #1967D2;\n",
              "      --hover-bg-color: #E2EBFA;\n",
              "      --hover-fill-color: #174EA6;\n",
              "      --disabled-fill-color: #AAA;\n",
              "      --disabled-bg-color: #DDD;\n",
              "  }\n",
              "\n",
              "  [theme=dark] .colab-df-quickchart {\n",
              "      --bg-color: #3B4455;\n",
              "      --fill-color: #D2E3FC;\n",
              "      --hover-bg-color: #434B5C;\n",
              "      --hover-fill-color: #FFFFFF;\n",
              "      --disabled-bg-color: #3B4455;\n",
              "      --disabled-fill-color: #666;\n",
              "  }\n",
              "\n",
              "  .colab-df-quickchart {\n",
              "    background-color: var(--bg-color);\n",
              "    border: none;\n",
              "    border-radius: 50%;\n",
              "    cursor: pointer;\n",
              "    display: none;\n",
              "    fill: var(--fill-color);\n",
              "    height: 32px;\n",
              "    padding: 0;\n",
              "    width: 32px;\n",
              "  }\n",
              "\n",
              "  .colab-df-quickchart:hover {\n",
              "    background-color: var(--hover-bg-color);\n",
              "    box-shadow: 0 1px 2px rgba(60, 64, 67, 0.3), 0 1px 3px 1px rgba(60, 64, 67, 0.15);\n",
              "    fill: var(--button-hover-fill-color);\n",
              "  }\n",
              "\n",
              "  .colab-df-quickchart-complete:disabled,\n",
              "  .colab-df-quickchart-complete:disabled:hover {\n",
              "    background-color: var(--disabled-bg-color);\n",
              "    fill: var(--disabled-fill-color);\n",
              "    box-shadow: none;\n",
              "  }\n",
              "\n",
              "  .colab-df-spinner {\n",
              "    border: 2px solid var(--fill-color);\n",
              "    border-color: transparent;\n",
              "    border-bottom-color: var(--fill-color);\n",
              "    animation:\n",
              "      spin 1s steps(1) infinite;\n",
              "  }\n",
              "\n",
              "  @keyframes spin {\n",
              "    0% {\n",
              "      border-color: transparent;\n",
              "      border-bottom-color: var(--fill-color);\n",
              "      border-left-color: var(--fill-color);\n",
              "    }\n",
              "    20% {\n",
              "      border-color: transparent;\n",
              "      border-left-color: var(--fill-color);\n",
              "      border-top-color: var(--fill-color);\n",
              "    }\n",
              "    30% {\n",
              "      border-color: transparent;\n",
              "      border-left-color: var(--fill-color);\n",
              "      border-top-color: var(--fill-color);\n",
              "      border-right-color: var(--fill-color);\n",
              "    }\n",
              "    40% {\n",
              "      border-color: transparent;\n",
              "      border-right-color: var(--fill-color);\n",
              "      border-top-color: var(--fill-color);\n",
              "    }\n",
              "    60% {\n",
              "      border-color: transparent;\n",
              "      border-right-color: var(--fill-color);\n",
              "    }\n",
              "    80% {\n",
              "      border-color: transparent;\n",
              "      border-right-color: var(--fill-color);\n",
              "      border-bottom-color: var(--fill-color);\n",
              "    }\n",
              "    90% {\n",
              "      border-color: transparent;\n",
              "      border-bottom-color: var(--fill-color);\n",
              "    }\n",
              "  }\n",
              "</style>\n",
              "\n",
              "  <script>\n",
              "    async function quickchart(key) {\n",
              "      const quickchartButtonEl =\n",
              "        document.querySelector('#' + key + ' button');\n",
              "      quickchartButtonEl.disabled = true;  // To prevent multiple clicks.\n",
              "      quickchartButtonEl.classList.add('colab-df-spinner');\n",
              "      try {\n",
              "        const charts = await google.colab.kernel.invokeFunction(\n",
              "            'suggestCharts', [key], {});\n",
              "      } catch (error) {\n",
              "        console.error('Error during call to suggestCharts:', error);\n",
              "      }\n",
              "      quickchartButtonEl.classList.remove('colab-df-spinner');\n",
              "      quickchartButtonEl.classList.add('colab-df-quickchart-complete');\n",
              "    }\n",
              "    (() => {\n",
              "      let quickchartButtonEl =\n",
              "        document.querySelector('#df-b4c0aa8b-e748-4d0f-902f-1eeb9ebfa255 button');\n",
              "      quickchartButtonEl.style.display =\n",
              "        google.colab.kernel.accessAllowed ? 'block' : 'none';\n",
              "    })();\n",
              "  </script>\n",
              "</div>\n",
              "    </div>\n",
              "  </div>\n"
            ],
            "application/vnd.google.colaboratory.intrinsic+json": {
              "type": "dataframe",
              "variable_name": "merged",
              "summary": "{\n  \"name\": \"merged\",\n  \"rows\": 96,\n  \"fields\": [\n    {\n      \"column\": \"code\",\n      \"properties\": {\n        \"dtype\": \"string\",\n        \"num_unique_values\": 96,\n        \"samples\": [\n          \"46\",\n          \"31\",\n          \"11\"\n        ],\n        \"semantic_type\": \"\",\n        \"description\": \"\"\n      }\n    },\n    {\n      \"column\": \"GID_2\",\n      \"properties\": {\n        \"dtype\": \"string\",\n        \"num_unique_values\": 96,\n        \"samples\": [\n          \"FRA.11.9_1\",\n          \"FRA.11.6_1\",\n          \"FRA.11.2_1\"\n        ],\n        \"semantic_type\": \"\",\n        \"description\": \"\"\n      }\n    },\n    {\n      \"column\": \"GID_0\",\n      \"properties\": {\n        \"dtype\": \"category\",\n        \"num_unique_values\": 1,\n        \"samples\": [\n          \"FRA\"\n        ],\n        \"semantic_type\": \"\",\n        \"description\": \"\"\n      }\n    },\n    {\n      \"column\": \"COUNTRY\",\n      \"properties\": {\n        \"dtype\": \"category\",\n        \"num_unique_values\": 1,\n        \"samples\": [\n          \"France\"\n        ],\n        \"semantic_type\": \"\",\n        \"description\": \"\"\n      }\n    },\n    {\n      \"column\": \"GID_1\",\n      \"properties\": {\n        \"dtype\": \"category\",\n        \"num_unique_values\": 13,\n        \"samples\": [\n          \"FRA.12_1\"\n        ],\n        \"semantic_type\": \"\",\n        \"description\": \"\"\n      }\n    },\n    {\n      \"column\": \"NAME_1\",\n      \"properties\": {\n        \"dtype\": \"category\",\n        \"num_unique_values\": 13,\n        \"samples\": [\n          \"Pays de la Loire\"\n        ],\n        \"semantic_type\": \"\",\n        \"description\": \"\"\n      }\n    },\n    {\n      \"column\": \"NL_NAME_1\",\n      \"properties\": {\n        \"dtype\": \"category\",\n        \"num_unique_values\": 1,\n        \"samples\": [\n          \"NA\"\n        ],\n        \"semantic_type\": \"\",\n        \"description\": \"\"\n      }\n    },\n    {\n      \"column\": \"NAME_2\",\n      \"properties\": {\n        \"dtype\": \"string\",\n        \"num_unique_values\": 96,\n        \"samples\": [\n          \"Lot\"\n        ],\n        \"semantic_type\": \"\",\n        \"description\": \"\"\n      }\n    },\n    {\n      \"column\": \"VARNAME_2\",\n      \"properties\": {\n        \"dtype\": \"category\",\n        \"num_unique_values\": 16,\n        \"samples\": [\n          \"NA\"\n        ],\n        \"semantic_type\": \"\",\n        \"description\": \"\"\n      }\n    },\n    {\n      \"column\": \"NL_NAME_2\",\n      \"properties\": {\n        \"dtype\": \"category\",\n        \"num_unique_values\": 1,\n        \"samples\": [\n          \"NA\"\n        ],\n        \"semantic_type\": \"\",\n        \"description\": \"\"\n      }\n    },\n    {\n      \"column\": \"TYPE_2\",\n      \"properties\": {\n        \"dtype\": \"category\",\n        \"num_unique_values\": 1,\n        \"samples\": [\n          \"D\\u00e9partement\"\n        ],\n        \"semantic_type\": \"\",\n        \"description\": \"\"\n      }\n    },\n    {\n      \"column\": \"ENGTYPE_2\",\n      \"properties\": {\n        \"dtype\": \"category\",\n        \"num_unique_values\": 1,\n        \"samples\": [\n          \"Department\"\n        ],\n        \"semantic_type\": \"\",\n        \"description\": \"\"\n      }\n    },\n    {\n      \"column\": \"CC_2\",\n      \"properties\": {\n        \"dtype\": \"string\",\n        \"num_unique_values\": 96,\n        \"samples\": [\n          \"46\"\n        ],\n        \"semantic_type\": \"\",\n        \"description\": \"\"\n      }\n    },\n    {\n      \"column\": \"HASC_2\",\n      \"properties\": {\n        \"dtype\": \"string\",\n        \"num_unique_values\": 96,\n        \"samples\": [\n          \"FR.LO\"\n        ],\n        \"semantic_type\": \"\",\n        \"description\": \"\"\n      }\n    },\n    {\n      \"column\": \"geometry\",\n      \"properties\": {\n        \"dtype\": \"geometry\",\n        \"num_unique_values\": 96,\n        \"samples\": [\n          \"POLYGON ((1.2553513049999765 44.28568649300013, 1.2504915000001802 44.2697372450001, 1.244190217000039 44.26604461700015, 1.2379764310001633 44.274894714000084, 1.2252025600001275 44.27903747600004, 1.2205252650001057 44.278728486000034, 1.2127126450000674 44.27092742899998, 1.2032871250000312 44.28247833200015, 1.1993289000001823 44.280830383000136, 1.184411763000071 44.286796570000035, 1.177460313000097 44.2948303230001, 1.1789860720001002 44.31055832000004, 1.1690653560000897 44.30401992899999, 1.159621239000046 44.309902192000095, 1.1514146320000123 44.30738830700017, 1.1389658460001328 44.315334319000044, 1.130534291000174 44.31698608400018, 1.122865557000182 44.31565475400015, 1.1203641890001563 44.318099976000155, 1.109471559000042 44.324691773000154, 1.113645315000042 44.33759308000009, 1.104229331000056 44.345294953000064, 1.0962616200001207 44.34902572600015, 1.0869394530001841 44.34899139400011, 1.0812226530000544 44.35439300500002, 1.0891336209999736 44.35797119200009, 1.0939872260000243 44.36777114900008, 1.103415848000168 44.36697006200018, 1.121328472000073 44.37224960399999, 1.1309221990001106 44.37215805200009, 1.1344240910001417 44.37446212800012, 1.132478117000062 44.39387512200017, 1.102329612000176 44.391891479000094, 1.0829627520000145 44.38159179700017, 1.0640838150000036 44.378513337000186, 1.0595787760000235 44.39090347300004, 1.0511683220001373 44.39226913400017, 1.0616878270001848 44.40192794900008, 1.0574880830001803 44.427677154000094, 1.0471816050000484 44.431026458000076, 1.0450048450000509 44.43401336800014, 1.031175017999999 44.43309021000016, 1.0312405830000557 44.43951416100009, 1.021679402000018 44.446598053, 1.0209900130001301 44.45624160700015, 1.02502465200007 44.46563339200003, 1.0230093000001261 44.475440979000155, 1.0090250970000625 44.48004913300019, 1.014644265000129 44.489803315000074, 1.01629507500013 44.50370025600017, 0.9815196400000445 44.544441223000035, 0.993167162000077 44.549407959999996, 1.006566644000145 44.54761505100009, 1.0131663090000984 44.536136628000065, 1.0333062400001722 44.55433654900003, 1.0414819710001098 44.557544709000126, 1.0423125020001294 44.55792617900005, 1.0444740060000868 44.56097412200006, 1.0709996210000554 44.56762695400005, 1.0751408330000345 44.5773239130001, 1.0763089650000666 44.57410431000005, 1.0894232990001456 44.5707740790001, 1.1032103300000244 44.571739197000056, 1.0995041120001474 44.58004379300007, 1.103467225000088 44.58096694900007, 1.0961523050000324 44.593124389000025, 1.1073956490000114 44.603961944000105, 1.1272895340001696 44.61677169900014, 1.1508932120000281 44.63285446300017, 1.1531164640001634 44.639675140000065, 1.1465156070001399 44.652847290000125, 1.1498250950000397 44.65502548200004, 1.1467326880000428 44.67079544100005, 1.1610611690001633 44.67296219000019, 1.1669735910001577 44.678592681000055, 1.180560828000182 44.68268585300012, 1.2245500090000405 44.68426513700007, 1.224706531000038 44.68571090700016, 1.230001212000161 44.691150665000066, 1.242933035000135 44.69463729800003, 1.2446378480000817 44.70475006200007, 1.2615419620000239 44.71017456100009, 1.2700409880001189 44.722087860000045, 1.287021399000082 44.71446228000002, 1.298521160000064 44.72842788700012, 1.3001897330000247 44.744285584000124, 1.3160508870001877 44.74037551900017, 1.3215353490001007 44.761096955000085, 1.3081333630000245 44.770896912000126, 1.2971535910001535 44.77696991099998, 1.303806305000137 44.78569030700015, 1.3026200530000551 44.788959503000115, 1.2933110010000064 44.78985214200014, 1.3011659390001569 44.79774475200003, 1.3255068070000675 44.806011200000114, 1.3391675950001058 44.805606843000135, 1.3565511699999888 44.81024932800011, 1.3641029610001851 44.811569215000134, 1.3604849590001322 44.835414887000184, 1.3654592040000466 44.84497070300017, 1.378341318000139 44.8433494570001, 1.3885934360001784 44.849990845000036, 1.4025073050000856 44.84904861400014, 1.402862310000046 44.85081100400015, 1.4055781370001341 44.86305999800004, 1.4092916260001402 44.86472702100019, 1.4114463320000823 44.87270736700003, 1.4167782070001067 44.870903015000124, 1.4360704430001192 44.87298584000007, 1.44217777200015 44.878349304000096, 1.4398566480001023 44.888950348000094, 1.421835781000027 44.89641189600019, 1.4182686810001428 44.90744781500018, 1.4105261560001736 44.90878677300009, 1.4236291650001363 44.91826629700017, 1.4415618179999683 44.91878128100018, 1.4331001040001183 44.93721389799998, 1.4357784990000937 44.93982696500012, 1.4334620240000504 44.946044922000056, 1.4286104440000713 44.94630813600003, 1.418990493000024 44.958286285000156, 1.4195678229999658 44.96839904900003, 1.4142612210000038 44.97391510000017, 1.414986848000126 44.993564606000064, 1.4091303360001461 45.00672912500016, 1.4331741330000796 45.010799408000025, 1.448261499000182 45.01931381200018, 1.460356594000075 45.013969422000116, 1.4648828510000271 45.01512146100015, 1.4772915850001596 45.02009201100003, 1.4771314850000294 45.02691650400004, 1.4799295660001803 45.026756286000136, 1.5057998900000484 45.03949737600004, 1.519344330000024 45.040290833000086, 1.5267587900000876 45.044281007000166, 1.5403151510000725 45.04466629000018, 1.543941497999981 45.03124999900007, 1.5520395050000957 45.02847290100016, 1.5757682320000868 45.04018020700016, 1.6080685850001828 45.033527375000176, 1.6089584819999914 45.028892518000134, 1.6095595350000735 45.03230667100007, 1.614263176000179 45.03313827500017, 1.632380367000053 45.032325745000094, 1.6518914690000202 45.02528762900005, 1.6531993150000517 45.01895523100012, 1.6714109190000386 45.00430679400017, 1.6843713530001878 45.00265884400005, 1.6922731410001006 44.99257659900013, 1.7033766510000419 44.98657608100012, 1.7087665790001552 44.96963500900017, 1.7110276220000742 44.96729278700013, 1.7134517430000074 44.96779251100014, 1.7223991150001439 44.968147277000185, 1.7407337420000317 44.96058273300008, 1.7487952700000164 44.95682907200012, 1.753982305000136 44.94084930500014, 1.7505543220000845 44.93878555399999, 1.7670100930001809 44.93304443400018, 1.7740290170000321 44.924533844000166, 1.7746083740001382 44.92353820900013, 1.7845461370001772 44.9305191040001, 1.785700917000156 44.93690490800003, 1.8014680150001823 44.926406861000146, 1.8001666070001647 44.92028808700013, 1.8007984160001342 44.92037582400019, 1.8057674170000837 44.926292421000085, 1.8244507320001162 44.92810058600003, 1.8293607230000362 44.93396377500011, 1.8315721760001225 44.94342041100009, 1.8358896960000948 44.944324493000124, 1.8385274420000428 44.93818283100018, 1.8427717680000342 44.937084199000026, 1.851052761000176 44.94624710100004, 1.8870906830001672 44.956336976000046, 1.8883677720000378 44.96292114200003, 1.9077790970000592 44.97824478300004, 1.9241352080000524 44.97677230900007, 1.9271790990001136 44.97880172700013, 1.9401499040001227 44.97183990500014, 1.9417276380000885 44.95479202400014, 1.9509901999999784 44.95315933200004, 1.9566004270001258 44.95901107900005, 1.9843363770001474 44.973720551000156, 2.0082676410000886 44.976230621000184, 2.045120716000156 44.98366546700004, 2.0543732640001053 44.976703643000064, 2.0629143720001366 44.97650527900015, 2.080703020000101 44.95157623300008, 2.0763514040000928 44.93478393600003, 2.1023354540001264 44.91991424700012, 2.1081104269999855 44.91059875500008, 2.0871391290001498 44.90207290600017, 2.085444450000182 44.898780824000085, 2.085555553000063 44.884960174000184, 2.093509913000048 44.87237548900009, 2.117213488000118 44.84825515700015, 2.1248919960000308 44.84608459500015, 2.1276726710001412 44.84062957700013, 2.1398005490001424 44.82382583700013, 2.1662898060001226 44.81206893900014, 2.1660532949999833 44.799022675000174, 2.171632766000073 44.79026031600017, 2.168506384000011 44.78193283100012, 2.164663077000114 44.772594450999975, 2.15097498800003 44.77002334600013, 2.1491470350000554 44.769702911000195, 2.153491974000133 44.75310897800006, 2.14808726300015 44.72285080000012, 2.1332793240001706 44.709354399999995, 2.1300637730001313 44.699302674000194, 2.1382913590001635 44.692882538000106, 2.1546657090001418 44.699367522000045, 2.179152251000062 44.67444992200018, 2.1660101400000826 44.661285400000054, 2.173734665000154 44.65325164900014, 2.1695406430000617 44.64770126400015, 2.1694190500000445 44.63798523100013, 2.176554919000125 44.63547134300012, 2.191626073000066 44.62820053200011, 2.2074751860000674 44.61553192100007, 2.210476399000129 44.60913467400019, 2.2073893540000427 44.60281753600009, 2.198124885000084 44.60296631000017, 2.198402643000179 44.593173981000064, 2.1930906770001 44.5875282290001, 2.185813188000054 44.59071350100004, 2.1698148260001062 44.591415406000124, 2.169551611000088 44.59132385200019, 2.152561903000162 44.57158660900001, 2.1343305109999733 44.570373535000044, 2.1269540780000966 44.578254700000116, 2.1222941870001364 44.57820129400011, 2.1162898550001614 44.57310104300012, 2.104022741000165 44.571472169000174, 2.0953533640000614 44.578010560000166, 2.0846958150001456 44.585071564000145, 2.0799207690001253 44.58509445200008, 2.068465232000051 44.57007217400002, 2.064708711000037 44.56798553600004, 2.061393738000106 44.569667817000095, 2.0634727480001516 44.57947158900015, 2.0548446180001747 44.58019256500012, 2.0354030130001775 44.570137024000076, 2.034889698000029 44.563320160000046, 2.028856993000147 44.558231354000156, 2.0280299190001188 44.55800247300016, 2.0188422210001704 44.55556106600005, 2.004211426000154 44.556961059000116, 1.98423886300003 44.54726028500005, 1.9795548910000775 44.54102325500003, 1.9717533600000365 44.532550813000114, 1.9579182870000977 44.5190429700001, 1.9481858010000224 44.517303466000044, 1.9388339520001523 44.516098022000165, 1.92827212800006 44.50507736300017, 1.9189131260001773 44.50437164300007, 1.911268115000098 44.50286483700006, 1.9208240510000678 44.49192047100013, 1.9164538390001553 44.48632431100003, 1.9081172950001246 44.48819732700008, 1.9016046530000494 44.50361633199998, 1.8879066710001666 44.50480270500003, 1.884335399000122 44.49898529000018, 1.8851542470001732 44.48617553700012, 1.8774484410001264 44.48409652700008, 1.8615754840001273 44.48731994600007, 1.8407583240000918 44.479488374000084, 1.8396714930001394 44.4760704040001, 1.8476544620000936 44.46751403800016, 1.8517411939999988 44.46128845300012, 1.8508075470001017 44.43733215300006, 1.8731857540001329 44.42414093000008, 1.8733202220000749 44.42369079700006, 1.8708809610001254 44.4206504820001, 1.874270559000081 44.40686416599999, 1.8688747890000172 44.39721298300003, 1.874401569999975 44.391437530000076, 1.891428947999998 44.3791313160001, 1.8963629000000424 44.369430541999975, 1.9082385310000518 44.36341858000014, 1.9108266830001526 44.35673904400011, 1.905908704000126 44.350856781000175, 1.891625763000036 44.351764679000155, 1.8878420600000823 44.34957504400012, 1.8820827010000585 44.34007263100017, 1.8517638450000504 44.33202743600003, 1.8472313880000684 44.337806702000194, 1.8337017310001897 44.33513259900019, 1.82646524900008 44.32358932600016, 1.8091005080000855 44.32997131300016, 1.805975199000045 44.33663559000007, 1.7937028410000266 44.33391952500017, 1.7913594240001771 44.327941895000095, 1.7833453410001425 44.327945710000165, 1.788152099000115 44.32192230300012, 1.7826684720001822 44.31625366200018, 1.7734820840000225 44.314296723000155, 1.75960838900005 44.323169709000126, 1.7409539220001307 44.326297760000045, 1.733115195000039 44.31789779700006, 1.710997342999974 44.31176376400009, 1.7023208140001884 44.31450653100012, 1.6755510570001206 44.29784393200015, 1.6711039540001025 44.29825973400011, 1.6703279030001 44.293399811000086, 1.6696759469999733 44.29073333700006, 1.6619148260000998 44.289264680000144, 1.6594874850000565 44.28325653100012, 1.6510593900000003 44.29671096900012, 1.6339387900001157 44.295059204000154, 1.6500521900001672 44.283203126000046, 1.6408795130001863 44.27114486600016, 1.6316255340000225 44.270408631000066, 1.6161929360001182 44.277973176000046, 1.6166524880001703 44.2976684570001, 1.602524638000034 44.29616928100006, 1.5967012650000356 44.30152130200014, 1.5875270380001325 44.30142974800003, 1.5738244060000284 44.30095672600015, 1.570604562000085 44.29839325000012, 1.5755592590001015 44.28529739400017, 1.5644912710000654 44.27892303500005, 1.5652413360000423 44.27553176900011, 1.576670169000181 44.269493104000105, 1.580789685000184 44.259582519000105, 1.585915565000107 44.250942230000135, 1.5789326429999733 44.24369430500002, 1.5730184310000368 44.23535537700019, 1.5460540050000873 44.23018264900014, 1.537462949000144 44.23025894200015, 1.5269280680000747 44.23721313600015, 1.518169165000188 44.252307891000044, 1.5241516830001274 44.261157990000186, 1.509262920000026 44.273784637000176, 1.4961485860001176 44.27124023500011, 1.4873512990001245 44.27270126400015, 1.4844301940000832 44.27885818499999, 1.4735339890000887 44.28421402100014, 1.4629722840001023 44.26929473900009, 1.4546182150001528 44.26596450800014, 1.452111840000157 44.255882263000046, 1.4257520440001485 44.24202728400002, 1.4230513580001798 44.24277496400009, 1.394160867000096 44.22898483300014, 1.377170921000186 44.22283172700014, 1.3575782780000623 44.20334625200019, 1.3410776850000161 44.22409820600018, 1.3338636160000874 44.22845459000007, 1.3243591790001688 44.22764587500018, 1.3162812000001622 44.230674744000055, 1.3030413390000604 44.228317262000076, 1.2813175920000504 44.23534393300014, 1.2857954510000695 44.24048996000005, 1.2843925960000888 44.25251770099999, 1.302968741000086 44.26299667400008, 1.2964056730000948 44.27461624100005, 1.304015755000023 44.29418945300006, 1.2999923220001506 44.29500961400015, 1.2827043540000318 44.2900886540001, 1.2727155690001837 44.28263855000006, 1.258367061000115 44.28298950100009, 1.2553513049999765 44.28568649300013))\"\n        ],\n        \"semantic_type\": \"\",\n        \"description\": \"\"\n      }\n    },\n    {\n      \"column\": \"patho_niv1\",\n      \"properties\": {\n        \"dtype\": \"category\",\n        \"num_unique_values\": 1,\n        \"samples\": [\n          \"Cancers\"\n        ],\n        \"semantic_type\": \"\",\n        \"description\": \"\"\n      }\n    },\n    {\n      \"column\": \"perc\",\n      \"properties\": {\n        \"dtype\": \"number\",\n        \"std\": 0.16557522427729224,\n        \"min\": 0.8384374270460567,\n        \"max\": 1.699954718792792,\n        \"num_unique_values\": 96,\n        \"samples\": [\n          1.441375558911091\n        ],\n        \"semantic_type\": \"\",\n        \"description\": \"\"\n      }\n    },\n    {\n      \"column\": \"malades\",\n      \"properties\": {\n        \"dtype\": \"number\",\n        \"std\": 293478.46048863366,\n        \"min\": 53510.0,\n        \"max\": 1446030.0,\n        \"num_unique_values\": 96,\n        \"samples\": [\n          127720.0\n        ],\n        \"semantic_type\": \"\",\n        \"description\": \"\"\n      }\n    },\n    {\n      \"column\": \"pop\",\n      \"properties\": {\n        \"dtype\": \"number\",\n        \"std\": 26818787.210869372,\n        \"min\": 3780960.0,\n        \"max\": 132577940.0,\n        \"num_unique_values\": 96,\n        \"samples\": [\n          8860980.0\n        ],\n        \"semantic_type\": \"\",\n        \"description\": \"\"\n      }\n    },\n    {\n      \"column\": \"Enseigne d\\u00e9bit\",\n      \"properties\": {\n        \"dtype\": \"number\",\n        \"std\": 123.33854555632504,\n        \"min\": 1.0,\n        \"max\": 527.0,\n        \"num_unique_values\": 80,\n        \"samples\": [\n          60.0\n        ],\n        \"semantic_type\": \"\",\n        \"description\": \"\"\n      }\n    },\n    {\n      \"column\": \"tabac/hab\",\n      \"properties\": {\n        \"dtype\": \"number\",\n        \"std\": 2.599257392304176,\n        \"min\": 0.01717957726214231,\n        \"max\": 13.224154712030806,\n        \"num_unique_values\": 94,\n        \"samples\": [\n          3.9233099242507854\n        ],\n        \"semantic_type\": \"\",\n        \"description\": \"\"\n      }\n    }\n  ]\n}"
            }
          },
          "metadata": {},
          "execution_count": 19
        }
      ]
    },
    {
      "cell_type": "code",
      "source": [
        "variable_to_plot = \"tabac/hab\"\n",
        "\n",
        "# Définir les valeurs de coloration\n",
        "norm = mcolors.Normalize(vmin=merged[variable_to_plot].min(), vmax=merged[variable_to_plot].max())\n",
        "#norm = mcolors.Normalize(vmin=1500, vmax=30000)\n",
        "cmap = plt.cm.get_cmap('RdYlGn_r') # Utilisation de 'RdYlGn_r' pour aller du vert au rouge\n",
        "\n",
        "# Créer la carte\n",
        "fig, ax = plt.subplots(1, 1, figsize=(10, 8))\n",
        "merged.plot(column=variable_to_plot, cmap=cmap, norm=norm, legend=True, ax=ax)\n",
        "\n",
        "# Supprimer les axes gradués\n",
        "ax.set_axis_off()\n",
        "\n",
        "# Ajuster la taille de la barre colorée (legend)\n",
        "#cbar = ax.get_figure().get_axes()[1]\n",
        "#cbar.set_aspect(30)  # Ajuster la taille selon vos besoins\n",
        "\n",
        "# Ajouter un titre\n",
        "ax.set_title(f\"Bar-tabac / 1 000 000 habitants\", fontdict={'fontsize': '10', 'fontweight': '3'})\n",
        "\n",
        "# Afficher la carte\n",
        "plt.show()\n"
      ],
      "metadata": {
        "colab": {
          "base_uri": "https://localhost:8080/",
          "height": 712
        },
        "id": "W-IrT6QaztmV",
        "outputId": "67fe4c73-1b46-4769-9794-aa00b5034c14"
      },
      "execution_count": 20,
      "outputs": [
        {
          "output_type": "stream",
          "name": "stderr",
          "text": [
            "<ipython-input-20-43586c110086>:6: MatplotlibDeprecationWarning: The get_cmap function was deprecated in Matplotlib 3.7 and will be removed two minor releases later. Use ``matplotlib.colormaps[name]`` or ``matplotlib.colormaps.get_cmap(obj)`` instead.\n",
            "  cmap = plt.cm.get_cmap('RdYlGn_r') # Utilisation de 'RdYlGn_r' pour aller du vert au rouge\n"
          ]
        },
        {
          "output_type": "display_data",
          "data": {
            "text/plain": [
              "<Figure size 1000x800 with 2 Axes>"
            ],
            "image/png": "[encoded data removed]"
          },
          "metadata": {}
        }
      ]
    },
    {
      "cell_type": "markdown",
      "source": [
        "### Quelle est la corrélation ?"
      ],
      "metadata": {
        "id": "sOOwww6rTIIs"
      }
    },
    {
      "cell_type": "code",
      "source": [
        "print(merged['tabac/hab'].corr(merged['perc']))"
      ],
      "metadata": {
        "id": "OjDUH0cyTHA_",
        "colab": {
          "base_uri": "https://localhost:8080/"
        },
        "outputId": "7c9cdbc4-bea5-45b1-87f8-0bb59a8b4e20"
      },
      "execution_count": 21,
      "outputs": [
        {
          "output_type": "stream",
          "name": "stdout",
          "text": [
            "0.4249239637951251\n"
          ]
        }
      ]
    },
    {
      "cell_type": "markdown",
      "metadata": {
        "id": "RPVBNrPWwOfX"
      },
      "source": [
        "# Fermer la connexion"
      ]
    },
    {
      "cell_type": "code",
      "execution_count": 22,
      "metadata": {
        "id": "Bq2IS3FzwOfX"
      },
      "outputs": [],
      "source": [
        "conn.close()"
      ]
    }
  ],
  "metadata": {
    "colab": {
      "provenance": []
    },
    "kernelspec": {
      "display_name": "env1",
      "language": "python",
      "name": "python3"
    },
    "language_info": {
      "codemirror_mode": {
        "name": "ipython",
        "version": 3
      },
      "file_extension": ".py",
      "mimetype": "text/x-python",
      "name": "python",
      "nbconvert_exporter": "python",
      "pygments_lexer": "ipython3",
      "version": "3.11.0"
    }
  },
  "nbformat": 4,
  "nbformat_minor": 0
}