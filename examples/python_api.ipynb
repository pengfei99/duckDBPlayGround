{
 "cells": [
  {
   "cell_type": "markdown",
   "source": [
    "# Use duckdb python api\n",
    "\n",
    "In this notebook, we will use duckdb python api to explore some functionality of the duck db. "
   ],
   "metadata": {
    "collapsed": false
   },
   "id": "39ec2d7adc610afc"
  },
  {
   "cell_type": "code",
   "execution_count": 1,
   "outputs": [],
   "source": [
    "import pandas as pd\n",
    "import duckdb"
   ],
   "metadata": {
    "collapsed": false,
    "ExecuteTime": {
     "end_time": "2024-05-22T09:40:30.400147848Z",
     "start_time": "2024-05-22T09:40:29.950769331Z"
    }
   },
   "id": "b09d06bfa382a70"
  },
  {
   "cell_type": "code",
   "execution_count": 2,
   "outputs": [],
   "source": [
    "root_dir = \"/home/pengfei/data_set/demo_chu\"\n",
    "csv_file_path = f\"{root_dir}/pathologies.csv\"\n",
    "parquet_file_path = f\"{root_dir}/pathologies.parquet\""
   ],
   "metadata": {
    "collapsed": false,
    "ExecuteTime": {
     "end_time": "2024-05-22T09:40:31.378046757Z",
     "start_time": "2024-05-22T09:40:31.364118391Z"
    }
   },
   "id": "12318f73b47e9ff5"
  },
  {
   "cell_type": "code",
   "execution_count": 3,
   "outputs": [
    {
     "name": "stdout",
     "output_type": "stream",
     "text": [
      "total 683M\r\n",
      "drwxrwxr-x  2 pengfei pengfei 4.0K May 22 10:25 .\r\n",
      "drwxrwxr-x 14 pengfei pengfei 4.0K May 22 10:25 ..\r\n",
      "-rw-rw-r--  1 pengfei pengfei 657M May 16 15:54 pathologies.csv\r\n",
      "-rw-rw-r--  1 pengfei pengfei  26M May 17 09:03 pathologies.parquet\r\n"
     ]
    }
   ],
   "source": [
    "! ls -lah /home/pengfei/data_set/demo_chu"
   ],
   "metadata": {
    "collapsed": false,
    "ExecuteTime": {
     "end_time": "2024-05-22T09:40:33.435416164Z",
     "start_time": "2024-05-22T09:40:32.351112046Z"
    }
   },
   "id": "56276ac3ef15c2b"
  },
  {
   "cell_type": "markdown",
   "source": [
    "## Create a duckdb instance\n",
    "\n",
    "As we mentioned in the introduction, duckdb has two modes:\n",
    "- in-memory: duckdb.connect()\n",
    "- on-disk: duckdb.connect(\"path/to/file\")"
   ],
   "metadata": {
    "collapsed": false
   },
   "id": "c13034d678f3d2d8"
  },
  {
   "cell_type": "code",
   "execution_count": 4,
   "outputs": [],
   "source": [
    "## Create an in-memory duckdb instance \n",
    "conn = duckdb.connect()\n",
    "\n",
    "# create an on disk instance, you can also activate the read only option\n",
    "# conn = duckdb.connect(\"mydb.db\", read_only=True)"
   ],
   "metadata": {
    "collapsed": false,
    "ExecuteTime": {
     "end_time": "2024-05-22T09:40:35.511456875Z",
     "start_time": "2024-05-22T09:40:35.474842701Z"
    }
   },
   "id": "c92634ea1671ef42"
  },
  {
   "cell_type": "markdown",
   "source": [
    "## 1. Compare the data loading speed \n",
    "\n",
    "In this section, we compare the data loading speed between duck db and pandas\n",
    "\n",
    "### 1.1 Compare the reading speed of  csv\n"
   ],
   "metadata": {
    "collapsed": false
   },
   "id": "c472cfb975263714"
  },
  {
   "cell_type": "code",
   "execution_count": 5,
   "outputs": [
    {
     "name": "stdout",
     "output_type": "stream",
     "text": [
      "<class 'pandas.core.frame.DataFrame'>\n",
      "CPU times: user 1.59 s, sys: 639 ms, total: 2.23 s\n",
      "Wall time: 1.42 s\n"
     ]
    },
    {
     "data": {
      "text/plain": "   count_star()\n0       4057201",
      "text/html": "<div>\n<style scoped>\n    .dataframe tbody tr th:only-of-type {\n        vertical-align: middle;\n    }\n\n    .dataframe tbody tr th {\n        vertical-align: top;\n    }\n\n    .dataframe thead th {\n        text-align: right;\n    }\n</style>\n<table border=\"1\" class=\"dataframe\">\n  <thead>\n    <tr style=\"text-align: right;\">\n      <th></th>\n      <th>count_star()</th>\n    </tr>\n  </thead>\n  <tbody>\n    <tr>\n      <th>0</th>\n      <td>4057201</td>\n    </tr>\n  </tbody>\n</table>\n</div>"
     },
     "execution_count": 5,
     "metadata": {},
     "output_type": "execute_result"
    }
   ],
   "source": [
    "%%time\n",
    "# read csv\n",
    "csv_query = f\"\"\"create or replace view patho_csv as select * from read_csv('{csv_file_path}', header=true, delim = ';'); select count(*) from patho_csv\"\"\"\n",
    "\n",
    "# this will return a pandas dataframe\n",
    "csv_row_count = conn.execute(csv_query).df()\n",
    "\n",
    "print(type(csv_row_count))\n",
    "csv_row_count.head(5)"
   ],
   "metadata": {
    "collapsed": false,
    "ExecuteTime": {
     "end_time": "2024-05-22T09:40:41.323451822Z",
     "start_time": "2024-05-22T09:40:39.861835283Z"
    }
   },
   "id": "c282a39769635a8"
  },
  {
   "cell_type": "markdown",
   "source": [
    "> we can notice the execution time of count row number action takes about 1.5 seconds"
   ],
   "metadata": {
    "collapsed": false
   },
   "id": "3f0cebf541cad6e6"
  },
  {
   "cell_type": "markdown",
   "source": [
    "Now let's try to read the csv with pandas\n"
   ],
   "metadata": {
    "collapsed": false
   },
   "id": "5ce2509b18f308b9"
  },
  {
   "cell_type": "code",
   "execution_count": 6,
   "outputs": [
    {
     "name": "stderr",
     "output_type": "stream",
     "text": [
      "<timed exec>:1: DtypeWarning: Columns (12) have mixed types. Specify dtype option on import or set low_memory=False.\n"
     ]
    },
    {
     "name": "stdout",
     "output_type": "stream",
     "text": [
      "row count: 4057201\n",
      "CPU times: user 8.9 s, sys: 1.58 s, total: 10.5 s\n",
      "Wall time: 11.4 s\n"
     ]
    }
   ],
   "source": [
    "%%time\n",
    "csv_pdf = pd.read_csv(csv_file_path, sep=\";\")\n",
    "\n",
    "print(f\"row count: {len(csv_pdf)}\")"
   ],
   "metadata": {
    "collapsed": false,
    "ExecuteTime": {
     "end_time": "2024-05-22T09:43:13.168363248Z",
     "start_time": "2024-05-22T09:43:01.755412574Z"
    }
   },
   "id": "6548e8f00da03bae"
  },
  {
   "cell_type": "code",
   "execution_count": 7,
   "outputs": [
    {
     "name": "stdout",
     "output_type": "stream",
     "text": [
      "The data set contains 4057201 rows and 16 columns\n"
     ]
    }
   ],
   "source": [
    "row_number, col_number = csv_pdf.shape\n",
    "print(f\"The data set contains {row_number} rows and {col_number} columns\")"
   ],
   "metadata": {
    "collapsed": false,
    "ExecuteTime": {
     "end_time": "2024-05-22T08:48:57.444801130Z",
     "start_time": "2024-05-22T08:48:57.355726781Z"
    }
   },
   "id": "2a634a55007790d3"
  },
  {
   "cell_type": "markdown",
   "source": [
    "> we can notice the execution time for pandas is about 11 seconds. so we gain about 7 times the execution time"
   ],
   "metadata": {
    "collapsed": false
   },
   "id": "3a6ee21f82620a7e"
  },
  {
   "cell_type": "markdown",
   "source": [
    "### 1.2 Compare the reading speed of parquet\n"
   ],
   "metadata": {
    "collapsed": false
   },
   "id": "6aa64f0148db54a7"
  },
  {
   "cell_type": "code",
   "execution_count": 7,
   "outputs": [
    {
     "name": "stdout",
     "output_type": "stream",
     "text": [
      "CPU times: user 5.12 ms, sys: 0 ns, total: 5.12 ms\n",
      "Wall time: 4 ms\n"
     ]
    },
    {
     "data": {
      "text/plain": "   count_star()\n0       4057201",
      "text/html": "<div>\n<style scoped>\n    .dataframe tbody tr th:only-of-type {\n        vertical-align: middle;\n    }\n\n    .dataframe tbody tr th {\n        vertical-align: top;\n    }\n\n    .dataframe thead th {\n        text-align: right;\n    }\n</style>\n<table border=\"1\" class=\"dataframe\">\n  <thead>\n    <tr style=\"text-align: right;\">\n      <th></th>\n      <th>count_star()</th>\n    </tr>\n  </thead>\n  <tbody>\n    <tr>\n      <th>0</th>\n      <td>4057201</td>\n    </tr>\n  </tbody>\n</table>\n</div>"
     },
     "execution_count": 7,
     "metadata": {},
     "output_type": "execute_result"
    }
   ],
   "source": [
    "%%time\n",
    "# read parquet with duck db\n",
    "parquet_query = f\"\"\"create or replace view patho_parquet as select * from read_parquet('{parquet_file_path}'); select count(*) from patho_parquet\"\"\"\n",
    "\n",
    "# this will return a pandas dataframe\n",
    "parquet_row_count = conn.execute(parquet_query).df()\n",
    "\n",
    "parquet_row_count.head(5)"
   ],
   "metadata": {
    "collapsed": false,
    "ExecuteTime": {
     "end_time": "2024-05-22T09:46:27.338650528Z",
     "start_time": "2024-05-22T09:46:27.281654007Z"
    }
   },
   "id": "734db2918aac1c0a"
  },
  {
   "cell_type": "markdown",
   "source": [
    "> With parquet and duckdb, we can reduce the data loading time to 4 ms"
   ],
   "metadata": {
    "collapsed": false
   },
   "id": "439684eb9d3a1098"
  },
  {
   "cell_type": "code",
   "execution_count": 8,
   "outputs": [
    {
     "name": "stdout",
     "output_type": "stream",
     "text": [
      "row count: 4057201\n",
      "CPU times: user 2.08 s, sys: 913 ms, total: 2.99 s\n",
      "Wall time: 1.88 s\n"
     ]
    }
   ],
   "source": [
    "%%time\n",
    "# read parquet with pandas\n",
    "\n",
    "parquet_pdf = pd.read_parquet(parquet_file_path, engine='pyarrow')\n",
    "print(f\"row count: {len(parquet_pdf)}\")"
   ],
   "metadata": {
    "collapsed": false,
    "ExecuteTime": {
     "end_time": "2024-05-22T09:47:35.604961205Z",
     "start_time": "2024-05-22T09:47:33.711794802Z"
    }
   },
   "id": "f6eb03cfce58201d"
  },
  {
   "cell_type": "markdown",
   "source": [
    "> pandas can't read parquet natively, it requires pyarrow or fastparquet, here we use the pyarrow package. "
   ],
   "metadata": {
    "collapsed": false
   },
   "id": "85c8466d7277461f"
  },
  {
   "cell_type": "markdown",
   "source": [
    "## 2. Compare the different action times\n",
    "\n",
    "### 2.1 Get the table schema"
   ],
   "metadata": {
    "collapsed": false
   },
   "id": "3bf5828115e9c135"
  },
  {
   "cell_type": "code",
   "execution_count": 15,
   "outputs": [
    {
     "name": "stdout",
     "output_type": "stream",
     "text": [
      "CPU times: user 1.97 ms, sys: 0 ns, total: 1.97 ms\n",
      "Wall time: 2.1 ms\n"
     ]
    },
    {
     "data": {
      "text/plain": "           column_name column_type null   key default extra\n0                annee      BIGINT  YES  None    None  None\n1           patho_niv1     VARCHAR  YES  None    None  None\n2           patho_niv2     VARCHAR  YES  None    None  None\n3           patho_niv3     VARCHAR  YES  None    None  None\n4                  top     VARCHAR  YES  None    None  None\n5            cla_age_5     VARCHAR  YES  None    None  None\n6                 sexe      BIGINT  YES  None    None  None\n7               region     VARCHAR  YES  None    None  None\n8                 dept     VARCHAR  YES  None    None  None\n9                 ntop      BIGINT  YES  None    None  None\n10                npop      BIGINT  YES  None    None  None\n11                prev      DOUBLE  YES  None    None  None\n12  niveau_prioritaire     VARCHAR  YES  None    None  None\n13  libelle_classe_age     VARCHAR  YES  None    None  None\n14        libelle_sexe     VARCHAR  YES  None    None  None",
      "text/html": "<div>\n<style scoped>\n    .dataframe tbody tr th:only-of-type {\n        vertical-align: middle;\n    }\n\n    .dataframe tbody tr th {\n        vertical-align: top;\n    }\n\n    .dataframe thead th {\n        text-align: right;\n    }\n</style>\n<table border=\"1\" class=\"dataframe\">\n  <thead>\n    <tr style=\"text-align: right;\">\n      <th></th>\n      <th>column_name</th>\n      <th>column_type</th>\n      <th>null</th>\n      <th>key</th>\n      <th>default</th>\n      <th>extra</th>\n    </tr>\n  </thead>\n  <tbody>\n    <tr>\n      <th>0</th>\n      <td>annee</td>\n      <td>BIGINT</td>\n      <td>YES</td>\n      <td>None</td>\n      <td>None</td>\n      <td>None</td>\n    </tr>\n    <tr>\n      <th>1</th>\n      <td>patho_niv1</td>\n      <td>VARCHAR</td>\n      <td>YES</td>\n      <td>None</td>\n      <td>None</td>\n      <td>None</td>\n    </tr>\n    <tr>\n      <th>2</th>\n      <td>patho_niv2</td>\n      <td>VARCHAR</td>\n      <td>YES</td>\n      <td>None</td>\n      <td>None</td>\n      <td>None</td>\n    </tr>\n    <tr>\n      <th>3</th>\n      <td>patho_niv3</td>\n      <td>VARCHAR</td>\n      <td>YES</td>\n      <td>None</td>\n      <td>None</td>\n      <td>None</td>\n    </tr>\n    <tr>\n      <th>4</th>\n      <td>top</td>\n      <td>VARCHAR</td>\n      <td>YES</td>\n      <td>None</td>\n      <td>None</td>\n      <td>None</td>\n    </tr>\n    <tr>\n      <th>5</th>\n      <td>cla_age_5</td>\n      <td>VARCHAR</td>\n      <td>YES</td>\n      <td>None</td>\n      <td>None</td>\n      <td>None</td>\n    </tr>\n    <tr>\n      <th>6</th>\n      <td>sexe</td>\n      <td>BIGINT</td>\n      <td>YES</td>\n      <td>None</td>\n      <td>None</td>\n      <td>None</td>\n    </tr>\n    <tr>\n      <th>7</th>\n      <td>region</td>\n      <td>VARCHAR</td>\n      <td>YES</td>\n      <td>None</td>\n      <td>None</td>\n      <td>None</td>\n    </tr>\n    <tr>\n      <th>8</th>\n      <td>dept</td>\n      <td>VARCHAR</td>\n      <td>YES</td>\n      <td>None</td>\n      <td>None</td>\n      <td>None</td>\n    </tr>\n    <tr>\n      <th>9</th>\n      <td>ntop</td>\n      <td>BIGINT</td>\n      <td>YES</td>\n      <td>None</td>\n      <td>None</td>\n      <td>None</td>\n    </tr>\n    <tr>\n      <th>10</th>\n      <td>npop</td>\n      <td>BIGINT</td>\n      <td>YES</td>\n      <td>None</td>\n      <td>None</td>\n      <td>None</td>\n    </tr>\n    <tr>\n      <th>11</th>\n      <td>prev</td>\n      <td>DOUBLE</td>\n      <td>YES</td>\n      <td>None</td>\n      <td>None</td>\n      <td>None</td>\n    </tr>\n    <tr>\n      <th>12</th>\n      <td>niveau_prioritaire</td>\n      <td>VARCHAR</td>\n      <td>YES</td>\n      <td>None</td>\n      <td>None</td>\n      <td>None</td>\n    </tr>\n    <tr>\n      <th>13</th>\n      <td>libelle_classe_age</td>\n      <td>VARCHAR</td>\n      <td>YES</td>\n      <td>None</td>\n      <td>None</td>\n      <td>None</td>\n    </tr>\n    <tr>\n      <th>14</th>\n      <td>libelle_sexe</td>\n      <td>VARCHAR</td>\n      <td>YES</td>\n      <td>None</td>\n      <td>None</td>\n      <td>None</td>\n    </tr>\n  </tbody>\n</table>\n</div>"
     },
     "execution_count": 15,
     "metadata": {},
     "output_type": "execute_result"
    }
   ],
   "source": [
    "%%time\n",
    "table_name = \"patho_csv\"\n",
    "query2 = f\"Describe {table_name}\"\n",
    "schema = conn.execute(query2).df()\n",
    "schema.head(15)"
   ],
   "metadata": {
    "collapsed": false,
    "ExecuteTime": {
     "end_time": "2024-05-22T09:52:55.394850890Z",
     "start_time": "2024-05-22T09:52:55.339395650Z"
    }
   },
   "id": "d55d2d50455263bb"
  },
  {
   "cell_type": "code",
   "execution_count": 19,
   "outputs": [
    {
     "name": "stdout",
     "output_type": "stream",
     "text": [
      "annee                 float64\n",
      "patho_niv1             object\n",
      "patho_niv2             object\n",
      "patho_niv3             object\n",
      "top                    object\n",
      "cla_age_5              object\n",
      "sexe                  float64\n",
      "region                  int64\n",
      "dept                   object\n",
      "ntop                  float64\n",
      "npop                  float64\n",
      "prev                  float64\n",
      "niveau_prioritaire     object\n",
      "libelle_classe_age     object\n",
      "libelle_sexe           object\n",
      "tri                   float64\n",
      "dtype: object\n",
      "CPU times: user 689 µs, sys: 166 µs, total: 855 µs\n",
      "Wall time: 855 µs\n"
     ]
    }
   ],
   "source": [
    "%%time\n",
    "print(csv_pdf.dtypes)"
   ],
   "metadata": {
    "collapsed": false,
    "ExecuteTime": {
     "end_time": "2024-05-22T09:53:16.375231322Z",
     "start_time": "2024-05-22T09:53:16.360575332Z"
    }
   },
   "id": "2bf8e347962a7351"
  },
  {
   "cell_type": "markdown",
   "source": [
    "> This time the winner is pyarrow/pandas"
   ],
   "metadata": {
    "collapsed": false
   },
   "id": "eee42f92af6d405"
  },
  {
   "cell_type": "markdown",
   "source": [
    "\n"
   ],
   "metadata": {
    "collapsed": false
   },
   "id": "72b40baee620f2c"
  },
  {
   "cell_type": "code",
   "execution_count": null,
   "outputs": [],
   "source": [],
   "metadata": {
    "collapsed": false,
    "is_executing": true,
    "ExecuteTime": {
     "start_time": "2024-05-22T07:12:42.977291256Z"
    }
   },
   "id": "72dde0fd65b12170"
  },
  {
   "cell_type": "code",
   "execution_count": null,
   "outputs": [],
   "source": [],
   "metadata": {
    "collapsed": false
   },
   "id": "790aeb51e45e9104"
  }
 ],
 "metadata": {
  "kernelspec": {
   "display_name": "Python 3",
   "language": "python",
   "name": "python3"
  },
  "language_info": {
   "codemirror_mode": {
    "name": "ipython",
    "version": 2
   },
   "file_extension": ".py",
   "mimetype": "text/x-python",
   "name": "python",
   "nbconvert_exporter": "python",
   "pygments_lexer": "ipython2",
   "version": "2.7.6"
  }
 },
 "nbformat": 4,
 "nbformat_minor": 5
}
