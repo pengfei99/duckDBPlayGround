{
 "cells": [
  {
   "cell_type": "markdown",
   "source": [
    "# Use duckdb python api\n",
    "\n",
    "In this notebook, we will use duckdb python api to explore some functionality of the duck db. "
   ],
   "metadata": {
    "collapsed": false
   },
   "id": "39ec2d7adc610afc"
  },
  {
   "cell_type": "code",
   "execution_count": 4,
   "outputs": [],
   "source": [
    "import pandas as pd\n",
    "import duckdb"
   ],
   "metadata": {
    "collapsed": false,
    "ExecuteTime": {
     "end_time": "2024-05-22T12:49:54.338387306Z",
     "start_time": "2024-05-22T12:49:54.299621922Z"
    }
   },
   "id": "b09d06bfa382a70"
  },
  {
   "cell_type": "code",
   "execution_count": 5,
   "outputs": [],
   "source": [
    "root_dir = \"/home/pengfei/data_set/demo_chu\"\n",
    "csv_file_path = f\"{root_dir}/pathologies.csv\"\n",
    "parquet_file_path = f\"{root_dir}/pathologies.parquet\""
   ],
   "metadata": {
    "collapsed": false,
    "ExecuteTime": {
     "end_time": "2024-05-22T12:49:55.557161443Z",
     "start_time": "2024-05-22T12:49:55.536111089Z"
    }
   },
   "id": "12318f73b47e9ff5"
  },
  {
   "cell_type": "code",
   "execution_count": 6,
   "outputs": [
    {
     "name": "stdout",
     "output_type": "stream",
     "text": [
      "total 683M\r\n",
      "drwxrwxr-x  3 pengfei pengfei 4.0K May 22 13:55 .\r\n",
      "drwxrwxr-x 13 pengfei pengfei 4.0K May 22 12:03 ..\r\n",
      "drwxrwxr-x  2 pengfei pengfei 4.0K May 22 14:49 demo_base\r\n",
      "-rw-rw-r--  1 pengfei pengfei 657M May 16 15:54 pathologies.csv.bkp\r\n",
      "-rw-rw-r--  1 pengfei pengfei  26M May 17 09:03 pathologies.parquet\r\n"
     ]
    }
   ],
   "source": [
    "! ls -lah /home/pengfei/data_set/demo_chu"
   ],
   "metadata": {
    "collapsed": false,
    "ExecuteTime": {
     "end_time": "2024-05-22T12:49:57.576699852Z",
     "start_time": "2024-05-22T12:49:56.408763188Z"
    }
   },
   "id": "56276ac3ef15c2b"
  },
  {
   "cell_type": "markdown",
   "source": [
    "## Create a duckdb instance\n",
    "\n",
    "As we mentioned in the introduction, duckdb has two modes:\n",
    "- in-memory: duckdb.connect()\n",
    "- on-disk: duckdb.connect(\"path/to/file\")"
   ],
   "metadata": {
    "collapsed": false
   },
   "id": "c13034d678f3d2d8"
  },
  {
   "cell_type": "code",
   "execution_count": 7,
   "outputs": [],
   "source": [
    "## Create an in-memory duckdb instance \n",
    "# conn = duckdb.connect()\n",
    "\n",
    "# create an on disk instance, you can also activate the read only option\n",
    "conn = duckdb.connect(\"/home/pengfei/data_set/demo_chu/demo_base/py_mydb.db\")"
   ],
   "metadata": {
    "collapsed": false,
    "ExecuteTime": {
     "end_time": "2024-05-22T12:50:05.568766149Z",
     "start_time": "2024-05-22T12:50:05.534767900Z"
    }
   },
   "id": "c92634ea1671ef42"
  },
  {
   "cell_type": "markdown",
   "source": [
    "## 1. Compare the data loading speed \n",
    "\n",
    "In this section, we compare the data loading speed between duck db and pandas\n",
    "\n",
    "### 1.1 Compare the reading speed of  csv\n"
   ],
   "metadata": {
    "collapsed": false
   },
   "id": "c472cfb975263714"
  },
  {
   "cell_type": "code",
   "execution_count": 9,
   "outputs": [
    {
     "name": "stdout",
     "output_type": "stream",
     "text": [
      "<class 'pandas.core.frame.DataFrame'>\n",
      "CPU times: user 2.01 s, sys: 883 ms, total: 2.89 s\n",
      "Wall time: 1.37 s\n"
     ]
    },
    {
     "data": {
      "text/plain": "   count_star()\n0       4057201",
      "text/html": "<div>\n<style scoped>\n    .dataframe tbody tr th:only-of-type {\n        vertical-align: middle;\n    }\n\n    .dataframe tbody tr th {\n        vertical-align: top;\n    }\n\n    .dataframe thead th {\n        text-align: right;\n    }\n</style>\n<table border=\"1\" class=\"dataframe\">\n  <thead>\n    <tr style=\"text-align: right;\">\n      <th></th>\n      <th>count_star()</th>\n    </tr>\n  </thead>\n  <tbody>\n    <tr>\n      <th>0</th>\n      <td>4057201</td>\n    </tr>\n  </tbody>\n</table>\n</div>"
     },
     "execution_count": 9,
     "metadata": {},
     "output_type": "execute_result"
    }
   ],
   "source": [
    "%%time\n",
    "# read csv\n",
    "csv_query = f\"\"\"create or replace view patho_csv as select * from read_csv('{csv_file_path}', header=true, delim = ';'); select count(*) from patho_csv\"\"\"\n",
    "\n",
    "# this will return a pandas dataframe\n",
    "csv_row_count = conn.execute(csv_query).df()\n",
    "\n",
    "print(type(csv_row_count))\n",
    "csv_row_count.head(5)"
   ],
   "metadata": {
    "collapsed": false,
    "ExecuteTime": {
     "end_time": "2024-05-22T12:50:54.024273336Z",
     "start_time": "2024-05-22T12:50:52.502277887Z"
    }
   },
   "id": "c282a39769635a8"
  },
  {
   "cell_type": "markdown",
   "source": [
    "> we can notice the execution time of count row number action takes about 1.5 seconds"
   ],
   "metadata": {
    "collapsed": false
   },
   "id": "3f0cebf541cad6e6"
  },
  {
   "cell_type": "markdown",
   "source": [
    "Now let's try to read the csv with pandas\n"
   ],
   "metadata": {
    "collapsed": false
   },
   "id": "5ce2509b18f308b9"
  },
  {
   "cell_type": "code",
   "execution_count": 35,
   "outputs": [
    {
     "name": "stderr",
     "output_type": "stream",
     "text": [
      "<timed exec>:1: DtypeWarning: Columns (12) have mixed types. Specify dtype option on import or set low_memory=False.\n"
     ]
    },
    {
     "name": "stdout",
     "output_type": "stream",
     "text": [
      "row count: 4057201\n",
      "CPU times: user 8.86 s, sys: 1.31 s, total: 10.2 s\n",
      "Wall time: 10.2 s\n"
     ]
    }
   ],
   "source": [
    "%%time\n",
    "csv_pdf = pd.read_csv(csv_file_path, sep=\";\")\n",
    "\n",
    "print(f\"row count: {len(csv_pdf)}\")"
   ],
   "metadata": {
    "collapsed": false,
    "ExecuteTime": {
     "end_time": "2024-05-22T13:48:02.830159441Z",
     "start_time": "2024-05-22T13:47:52.618970621Z"
    }
   },
   "id": "6548e8f00da03bae"
  },
  {
   "cell_type": "code",
   "execution_count": 7,
   "outputs": [
    {
     "name": "stdout",
     "output_type": "stream",
     "text": [
      "The data set contains 4057201 rows and 16 columns\n"
     ]
    }
   ],
   "source": [
    "row_number, col_number = csv_pdf.shape\n",
    "print(f\"The data set contains {row_number} rows and {col_number} columns\")"
   ],
   "metadata": {
    "collapsed": false,
    "ExecuteTime": {
     "end_time": "2024-05-22T08:48:57.444801130Z",
     "start_time": "2024-05-22T08:48:57.355726781Z"
    }
   },
   "id": "2a634a55007790d3"
  },
  {
   "cell_type": "markdown",
   "source": [
    "> we can notice the execution time for pandas is about 11 seconds. so we gain about 7 times the execution time"
   ],
   "metadata": {
    "collapsed": false
   },
   "id": "3a6ee21f82620a7e"
  },
  {
   "cell_type": "markdown",
   "source": [
    "### 1.2 Compare the reading speed of parquet\n"
   ],
   "metadata": {
    "collapsed": false
   },
   "id": "6aa64f0148db54a7"
  },
  {
   "cell_type": "code",
   "execution_count": 11,
   "outputs": [
    {
     "name": "stdout",
     "output_type": "stream",
     "text": [
      "CPU times: user 2.65 ms, sys: 3.91 ms, total: 6.56 ms\n",
      "Wall time: 14.7 ms\n"
     ]
    },
    {
     "data": {
      "text/plain": "   count_star()\n0       4057201",
      "text/html": "<div>\n<style scoped>\n    .dataframe tbody tr th:only-of-type {\n        vertical-align: middle;\n    }\n\n    .dataframe tbody tr th {\n        vertical-align: top;\n    }\n\n    .dataframe thead th {\n        text-align: right;\n    }\n</style>\n<table border=\"1\" class=\"dataframe\">\n  <thead>\n    <tr style=\"text-align: right;\">\n      <th></th>\n      <th>count_star()</th>\n    </tr>\n  </thead>\n  <tbody>\n    <tr>\n      <th>0</th>\n      <td>4057201</td>\n    </tr>\n  </tbody>\n</table>\n</div>"
     },
     "execution_count": 11,
     "metadata": {},
     "output_type": "execute_result"
    }
   ],
   "source": [
    "%%time\n",
    "# read parquet with duck db\n",
    "parquet_query = f\"\"\"create or replace view patho_parquet as select * from read_parquet('{parquet_file_path}'); select count(*) from patho_parquet\"\"\"\n",
    "\n",
    "# this will return a pandas dataframe\n",
    "parquet_row_count = conn.execute(parquet_query).df()\n",
    "\n",
    "parquet_row_count.head(5)"
   ],
   "metadata": {
    "collapsed": false,
    "ExecuteTime": {
     "end_time": "2024-05-22T12:51:39.356740966Z",
     "start_time": "2024-05-22T12:51:39.285702246Z"
    }
   },
   "id": "734db2918aac1c0a"
  },
  {
   "cell_type": "markdown",
   "source": [
    "> With parquet and duckdb, we can reduce the data loading time to 4 ms"
   ],
   "metadata": {
    "collapsed": false
   },
   "id": "439684eb9d3a1098"
  },
  {
   "cell_type": "code",
   "execution_count": 12,
   "outputs": [
    {
     "name": "stdout",
     "output_type": "stream",
     "text": [
      "row count: 4057201\n",
      "CPU times: user 1.92 s, sys: 843 ms, total: 2.77 s\n",
      "Wall time: 1.48 s\n"
     ]
    }
   ],
   "source": [
    "%%time\n",
    "# read parquet with pandas\n",
    "\n",
    "parquet_pdf = pd.read_parquet(parquet_file_path, engine='pyarrow')\n",
    "print(f\"row count: {len(parquet_pdf)}\")"
   ],
   "metadata": {
    "collapsed": false,
    "ExecuteTime": {
     "end_time": "2024-05-22T12:51:49.697425847Z",
     "start_time": "2024-05-22T12:51:48.217700118Z"
    }
   },
   "id": "f6eb03cfce58201d"
  },
  {
   "cell_type": "markdown",
   "source": [
    "> pandas can't read parquet natively, it requires pyarrow or fastparquet, here we use the pyarrow package. But still duckdb wins on the count operation"
   ],
   "metadata": {
    "collapsed": false
   },
   "id": "85c8466d7277461f"
  },
  {
   "cell_type": "markdown",
   "source": [
    "## 2. Compare the different action times\n",
    "\n",
    "### 2.1 Get the table schema"
   ],
   "metadata": {
    "collapsed": false
   },
   "id": "3bf5828115e9c135"
  },
  {
   "cell_type": "code",
   "execution_count": 13,
   "outputs": [
    {
     "name": "stdout",
     "output_type": "stream",
     "text": [
      "CPU times: user 0 ns, sys: 1.73 ms, total: 1.73 ms\n",
      "Wall time: 1.37 ms\n"
     ]
    },
    {
     "data": {
      "text/plain": "           column_name column_type null   key default extra\n0                annee      BIGINT  YES  None    None  None\n1           patho_niv1     VARCHAR  YES  None    None  None\n2           patho_niv2     VARCHAR  YES  None    None  None\n3           patho_niv3     VARCHAR  YES  None    None  None\n4                  top     VARCHAR  YES  None    None  None\n5            cla_age_5     VARCHAR  YES  None    None  None\n6                 sexe      BIGINT  YES  None    None  None\n7               region     VARCHAR  YES  None    None  None\n8                 dept     VARCHAR  YES  None    None  None\n9                 ntop      BIGINT  YES  None    None  None\n10                npop      BIGINT  YES  None    None  None\n11                prev      DOUBLE  YES  None    None  None\n12  niveau_prioritaire     VARCHAR  YES  None    None  None\n13  libelle_classe_age     VARCHAR  YES  None    None  None\n14        libelle_sexe     VARCHAR  YES  None    None  None",
      "text/html": "<div>\n<style scoped>\n    .dataframe tbody tr th:only-of-type {\n        vertical-align: middle;\n    }\n\n    .dataframe tbody tr th {\n        vertical-align: top;\n    }\n\n    .dataframe thead th {\n        text-align: right;\n    }\n</style>\n<table border=\"1\" class=\"dataframe\">\n  <thead>\n    <tr style=\"text-align: right;\">\n      <th></th>\n      <th>column_name</th>\n      <th>column_type</th>\n      <th>null</th>\n      <th>key</th>\n      <th>default</th>\n      <th>extra</th>\n    </tr>\n  </thead>\n  <tbody>\n    <tr>\n      <th>0</th>\n      <td>annee</td>\n      <td>BIGINT</td>\n      <td>YES</td>\n      <td>None</td>\n      <td>None</td>\n      <td>None</td>\n    </tr>\n    <tr>\n      <th>1</th>\n      <td>patho_niv1</td>\n      <td>VARCHAR</td>\n      <td>YES</td>\n      <td>None</td>\n      <td>None</td>\n      <td>None</td>\n    </tr>\n    <tr>\n      <th>2</th>\n      <td>patho_niv2</td>\n      <td>VARCHAR</td>\n      <td>YES</td>\n      <td>None</td>\n      <td>None</td>\n      <td>None</td>\n    </tr>\n    <tr>\n      <th>3</th>\n      <td>patho_niv3</td>\n      <td>VARCHAR</td>\n      <td>YES</td>\n      <td>None</td>\n      <td>None</td>\n      <td>None</td>\n    </tr>\n    <tr>\n      <th>4</th>\n      <td>top</td>\n      <td>VARCHAR</td>\n      <td>YES</td>\n      <td>None</td>\n      <td>None</td>\n      <td>None</td>\n    </tr>\n    <tr>\n      <th>5</th>\n      <td>cla_age_5</td>\n      <td>VARCHAR</td>\n      <td>YES</td>\n      <td>None</td>\n      <td>None</td>\n      <td>None</td>\n    </tr>\n    <tr>\n      <th>6</th>\n      <td>sexe</td>\n      <td>BIGINT</td>\n      <td>YES</td>\n      <td>None</td>\n      <td>None</td>\n      <td>None</td>\n    </tr>\n    <tr>\n      <th>7</th>\n      <td>region</td>\n      <td>VARCHAR</td>\n      <td>YES</td>\n      <td>None</td>\n      <td>None</td>\n      <td>None</td>\n    </tr>\n    <tr>\n      <th>8</th>\n      <td>dept</td>\n      <td>VARCHAR</td>\n      <td>YES</td>\n      <td>None</td>\n      <td>None</td>\n      <td>None</td>\n    </tr>\n    <tr>\n      <th>9</th>\n      <td>ntop</td>\n      <td>BIGINT</td>\n      <td>YES</td>\n      <td>None</td>\n      <td>None</td>\n      <td>None</td>\n    </tr>\n    <tr>\n      <th>10</th>\n      <td>npop</td>\n      <td>BIGINT</td>\n      <td>YES</td>\n      <td>None</td>\n      <td>None</td>\n      <td>None</td>\n    </tr>\n    <tr>\n      <th>11</th>\n      <td>prev</td>\n      <td>DOUBLE</td>\n      <td>YES</td>\n      <td>None</td>\n      <td>None</td>\n      <td>None</td>\n    </tr>\n    <tr>\n      <th>12</th>\n      <td>niveau_prioritaire</td>\n      <td>VARCHAR</td>\n      <td>YES</td>\n      <td>None</td>\n      <td>None</td>\n      <td>None</td>\n    </tr>\n    <tr>\n      <th>13</th>\n      <td>libelle_classe_age</td>\n      <td>VARCHAR</td>\n      <td>YES</td>\n      <td>None</td>\n      <td>None</td>\n      <td>None</td>\n    </tr>\n    <tr>\n      <th>14</th>\n      <td>libelle_sexe</td>\n      <td>VARCHAR</td>\n      <td>YES</td>\n      <td>None</td>\n      <td>None</td>\n      <td>None</td>\n    </tr>\n  </tbody>\n</table>\n</div>"
     },
     "execution_count": 13,
     "metadata": {},
     "output_type": "execute_result"
    }
   ],
   "source": [
    "%%time\n",
    "table_name = \"patho_csv\"\n",
    "query2 = f\"Describe {table_name}\"\n",
    "schema = conn.execute(query2).df()\n",
    "schema.head(15)"
   ],
   "metadata": {
    "collapsed": false,
    "ExecuteTime": {
     "end_time": "2024-05-22T12:52:12.127544067Z",
     "start_time": "2024-05-22T12:52:12.074463079Z"
    }
   },
   "id": "d55d2d50455263bb"
  },
  {
   "cell_type": "code",
   "execution_count": 14,
   "outputs": [
    {
     "name": "stdout",
     "output_type": "stream",
     "text": [
      "annee                 float64\n",
      "patho_niv1             object\n",
      "patho_niv2             object\n",
      "patho_niv3             object\n",
      "top                    object\n",
      "cla_age_5              object\n",
      "sexe                  float64\n",
      "region                  int64\n",
      "dept                   object\n",
      "ntop                  float64\n",
      "npop                  float64\n",
      "prev                  float64\n",
      "niveau_prioritaire     object\n",
      "libelle_classe_age     object\n",
      "libelle_sexe           object\n",
      "tri                   float64\n",
      "dtype: object\n",
      "CPU times: user 958 µs, sys: 0 ns, total: 958 µs\n",
      "Wall time: 950 µs\n"
     ]
    }
   ],
   "source": [
    "%%time\n",
    "print(csv_pdf.dtypes)"
   ],
   "metadata": {
    "collapsed": false,
    "ExecuteTime": {
     "end_time": "2024-05-22T12:52:17.395680706Z",
     "start_time": "2024-05-22T12:52:17.377138571Z"
    }
   },
   "id": "2bf8e347962a7351"
  },
  {
   "cell_type": "markdown",
   "source": [
    "> This time the winner is pyarrow/pandas"
   ],
   "metadata": {
    "collapsed": false
   },
   "id": "eee42f92af6d405"
  },
  {
   "cell_type": "markdown",
   "source": [
    "\n"
   ],
   "metadata": {
    "collapsed": false
   },
   "id": "72b40baee620f2c"
  },
  {
   "cell_type": "markdown",
   "source": [
    "### Test Filter query speed\n"
   ],
   "metadata": {
    "collapsed": false
   },
   "id": "1ca372c5f21c2d95"
  },
  {
   "cell_type": "code",
   "execution_count": 24,
   "outputs": [
    {
     "name": "stdout",
     "output_type": "stream",
     "text": [
      "CPU times: user 139 ms, sys: 15.9 ms, total: 155 ms\n",
      "Wall time: 150 ms\n"
     ]
    },
    {
     "data": {
      "text/plain": "    annee  sexe dept\n0  2017.0   9.0   75\n1  2017.0   9.0   75\n2  2017.0   9.0   75\n3  2017.0   9.0   75\n4  2017.0   9.0   75",
      "text/html": "<div>\n<style scoped>\n    .dataframe tbody tr th:only-of-type {\n        vertical-align: middle;\n    }\n\n    .dataframe tbody tr th {\n        vertical-align: top;\n    }\n\n    .dataframe thead th {\n        text-align: right;\n    }\n</style>\n<table border=\"1\" class=\"dataframe\">\n  <thead>\n    <tr style=\"text-align: right;\">\n      <th></th>\n      <th>annee</th>\n      <th>sexe</th>\n      <th>dept</th>\n    </tr>\n  </thead>\n  <tbody>\n    <tr>\n      <th>0</th>\n      <td>2017.0</td>\n      <td>9.0</td>\n      <td>75</td>\n    </tr>\n    <tr>\n      <th>1</th>\n      <td>2017.0</td>\n      <td>9.0</td>\n      <td>75</td>\n    </tr>\n    <tr>\n      <th>2</th>\n      <td>2017.0</td>\n      <td>9.0</td>\n      <td>75</td>\n    </tr>\n    <tr>\n      <th>3</th>\n      <td>2017.0</td>\n      <td>9.0</td>\n      <td>75</td>\n    </tr>\n    <tr>\n      <th>4</th>\n      <td>2017.0</td>\n      <td>9.0</td>\n      <td>75</td>\n    </tr>\n  </tbody>\n</table>\n</div>"
     },
     "execution_count": 24,
     "metadata": {},
     "output_type": "execute_result"
    }
   ],
   "source": [
    "%%time\n",
    "parquet_filter_query = f\"select annee, sexe, dept from patho_parquet where (sexe = 9.0) AND (dept = '75')\"\n",
    "\n",
    "parquet_filter_res = conn.execute(parquet_filter_query).df()\n",
    "\n",
    "parquet_filter_res.head()"
   ],
   "metadata": {
    "collapsed": false,
    "ExecuteTime": {
     "end_time": "2024-05-22T13:07:52.246369143Z",
     "start_time": "2024-05-22T13:07:52.079344122Z"
    }
   },
   "id": "790aeb51e45e9104"
  },
  {
   "cell_type": "code",
   "execution_count": 34,
   "outputs": [
    {
     "name": "stdout",
     "output_type": "stream",
     "text": [
      "CPU times: user 3.47 s, sys: 594 ms, total: 4.06 s\n",
      "Wall time: 2.12 s\n"
     ]
    },
    {
     "data": {
      "text/plain": "   annee  sexe dept\n0   2017     9   75\n1   2017     9   75\n2   2017     9   75\n3   2017     9   75\n4   2017     9   75",
      "text/html": "<div>\n<style scoped>\n    .dataframe tbody tr th:only-of-type {\n        vertical-align: middle;\n    }\n\n    .dataframe tbody tr th {\n        vertical-align: top;\n    }\n\n    .dataframe thead th {\n        text-align: right;\n    }\n</style>\n<table border=\"1\" class=\"dataframe\">\n  <thead>\n    <tr style=\"text-align: right;\">\n      <th></th>\n      <th>annee</th>\n      <th>sexe</th>\n      <th>dept</th>\n    </tr>\n  </thead>\n  <tbody>\n    <tr>\n      <th>0</th>\n      <td>2017</td>\n      <td>9</td>\n      <td>75</td>\n    </tr>\n    <tr>\n      <th>1</th>\n      <td>2017</td>\n      <td>9</td>\n      <td>75</td>\n    </tr>\n    <tr>\n      <th>2</th>\n      <td>2017</td>\n      <td>9</td>\n      <td>75</td>\n    </tr>\n    <tr>\n      <th>3</th>\n      <td>2017</td>\n      <td>9</td>\n      <td>75</td>\n    </tr>\n    <tr>\n      <th>4</th>\n      <td>2017</td>\n      <td>9</td>\n      <td>75</td>\n    </tr>\n  </tbody>\n</table>\n</div>"
     },
     "execution_count": 34,
     "metadata": {},
     "output_type": "execute_result"
    }
   ],
   "source": [
    "%%time\n",
    "csv_filter_query = f\"select annee, sexe, dept from patho_csv where (sexe = 9.0) AND (dept = '75')\"\n",
    "\n",
    "csv_filter_res = conn.execute(csv_filter_query).df()\n",
    "\n",
    "csv_filter_res.head()"
   ],
   "metadata": {
    "collapsed": false,
    "ExecuteTime": {
     "end_time": "2024-05-22T13:47:15.718244427Z",
     "start_time": "2024-05-22T13:47:13.592937096Z"
    }
   },
   "id": "b197798fa0ea7c89"
  },
  {
   "cell_type": "code",
   "execution_count": 32,
   "outputs": [
    {
     "name": "stdout",
     "output_type": "stream",
     "text": [
      "CPU times: user 330 ms, sys: 4.47 ms, total: 334 ms\n",
      "Wall time: 348 ms\n"
     ]
    },
    {
     "data": {
      "text/plain": "       annee  sexe dept\n110   2017.0   9.0   75\n364   2017.0   9.0   75\n733   2017.0   9.0   75\n1087  2017.0   9.0   75\n1351  2017.0   9.0   75",
      "text/html": "<div>\n<style scoped>\n    .dataframe tbody tr th:only-of-type {\n        vertical-align: middle;\n    }\n\n    .dataframe tbody tr th {\n        vertical-align: top;\n    }\n\n    .dataframe thead th {\n        text-align: right;\n    }\n</style>\n<table border=\"1\" class=\"dataframe\">\n  <thead>\n    <tr style=\"text-align: right;\">\n      <th></th>\n      <th>annee</th>\n      <th>sexe</th>\n      <th>dept</th>\n    </tr>\n  </thead>\n  <tbody>\n    <tr>\n      <th>110</th>\n      <td>2017.0</td>\n      <td>9.0</td>\n      <td>75</td>\n    </tr>\n    <tr>\n      <th>364</th>\n      <td>2017.0</td>\n      <td>9.0</td>\n      <td>75</td>\n    </tr>\n    <tr>\n      <th>733</th>\n      <td>2017.0</td>\n      <td>9.0</td>\n      <td>75</td>\n    </tr>\n    <tr>\n      <th>1087</th>\n      <td>2017.0</td>\n      <td>9.0</td>\n      <td>75</td>\n    </tr>\n    <tr>\n      <th>1351</th>\n      <td>2017.0</td>\n      <td>9.0</td>\n      <td>75</td>\n    </tr>\n  </tbody>\n</table>\n</div>"
     },
     "execution_count": 32,
     "metadata": {},
     "output_type": "execute_result"
    }
   ],
   "source": [
    "%%time\n",
    "\n",
    "parquet_filter_pdf = parquet_pdf[(parquet_pdf['sexe']==9.0) & (parquet_pdf['dept']=='75')][['annee','sexe','dept']]\n",
    "parquet_filter_pdf.head()"
   ],
   "metadata": {
    "collapsed": false,
    "ExecuteTime": {
     "end_time": "2024-05-22T13:47:03.293055322Z",
     "start_time": "2024-05-22T13:47:02.930517894Z"
    }
   },
   "id": "b99c38413a5bda19"
  },
  {
   "cell_type": "code",
   "execution_count": 36,
   "outputs": [
    {
     "name": "stdout",
     "output_type": "stream",
     "text": [
      "CPU times: user 330 ms, sys: 6.45 ms, total: 337 ms\n",
      "Wall time: 341 ms\n"
     ]
    },
    {
     "data": {
      "text/plain": "       annee  sexe dept\n110   2017.0   9.0   75\n364   2017.0   9.0   75\n733   2017.0   9.0   75\n1087  2017.0   9.0   75\n1351  2017.0   9.0   75",
      "text/html": "<div>\n<style scoped>\n    .dataframe tbody tr th:only-of-type {\n        vertical-align: middle;\n    }\n\n    .dataframe tbody tr th {\n        vertical-align: top;\n    }\n\n    .dataframe thead th {\n        text-align: right;\n    }\n</style>\n<table border=\"1\" class=\"dataframe\">\n  <thead>\n    <tr style=\"text-align: right;\">\n      <th></th>\n      <th>annee</th>\n      <th>sexe</th>\n      <th>dept</th>\n    </tr>\n  </thead>\n  <tbody>\n    <tr>\n      <th>110</th>\n      <td>2017.0</td>\n      <td>9.0</td>\n      <td>75</td>\n    </tr>\n    <tr>\n      <th>364</th>\n      <td>2017.0</td>\n      <td>9.0</td>\n      <td>75</td>\n    </tr>\n    <tr>\n      <th>733</th>\n      <td>2017.0</td>\n      <td>9.0</td>\n      <td>75</td>\n    </tr>\n    <tr>\n      <th>1087</th>\n      <td>2017.0</td>\n      <td>9.0</td>\n      <td>75</td>\n    </tr>\n    <tr>\n      <th>1351</th>\n      <td>2017.0</td>\n      <td>9.0</td>\n      <td>75</td>\n    </tr>\n  </tbody>\n</table>\n</div>"
     },
     "execution_count": 36,
     "metadata": {},
     "output_type": "execute_result"
    }
   ],
   "source": [
    "%%time\n",
    "\n",
    "csv_filter_pdf = csv_pdf[(csv_pdf['sexe']==9.0) & (csv_pdf['dept']=='75')][['annee','sexe','dept']]\n",
    "csv_filter_pdf.head()"
   ],
   "metadata": {
    "collapsed": false,
    "ExecuteTime": {
     "end_time": "2024-05-22T13:48:19.171216649Z",
     "start_time": "2024-05-22T13:48:18.826128241Z"
    }
   },
   "id": "9791f7fb9f38ada"
  },
  {
   "cell_type": "markdown",
   "source": [
    "> We can notice that pandas wins on csv dataframe, but duckdb wins on the parquet dataframe. That's because pandas loads all data into the memory too. DuckDB does lazy loading on the persist tables."
   ],
   "metadata": {
    "collapsed": false
   },
   "id": "f76c77b69320bf02"
  },
  {
   "cell_type": "markdown",
   "source": [
    "## Test group by query speed"
   ],
   "metadata": {
    "collapsed": false
   },
   "id": "dc3967e1ab91031f"
  },
  {
   "cell_type": "code",
   "execution_count": 37,
   "outputs": [
    {
     "name": "stdout",
     "output_type": "stream",
     "text": [
      "CPU times: user 1.39 s, sys: 101 ms, total: 1.49 s\n",
      "Wall time: 1.15 s\n"
     ]
    },
    {
     "data": {
      "text/plain": "  dept  sexe   annee                                         patho_niv1  \\\n0   42   9.0  2017.0  Pas de pathologies repérées, traitements, mate...   \n1  971   1.0  2017.0  Pas de pathologies repérées, traitements, mate...   \n2   18   1.0  2017.0  Pas de pathologies repérées, traitements, mate...   \n3   55   1.0  2017.0  Pas de pathologies repérées, traitements, mate...   \n4   68   1.0  2017.0  Pas de pathologies repérées, traitements, mate...   \n\n   sum(ntop)     avg(npop)  \n0   774360.0  70993.333333  \n1   204060.0  16185.238095  \n2   147580.0  13358.571429  \n3    89910.0   8092.857143  \n4   408810.0  33312.857143  ",
      "text/html": "<div>\n<style scoped>\n    .dataframe tbody tr th:only-of-type {\n        vertical-align: middle;\n    }\n\n    .dataframe tbody tr th {\n        vertical-align: top;\n    }\n\n    .dataframe thead th {\n        text-align: right;\n    }\n</style>\n<table border=\"1\" class=\"dataframe\">\n  <thead>\n    <tr style=\"text-align: right;\">\n      <th></th>\n      <th>dept</th>\n      <th>sexe</th>\n      <th>annee</th>\n      <th>patho_niv1</th>\n      <th>sum(ntop)</th>\n      <th>avg(npop)</th>\n    </tr>\n  </thead>\n  <tbody>\n    <tr>\n      <th>0</th>\n      <td>42</td>\n      <td>9.0</td>\n      <td>2017.0</td>\n      <td>Pas de pathologies repérées, traitements, mate...</td>\n      <td>774360.0</td>\n      <td>70993.333333</td>\n    </tr>\n    <tr>\n      <th>1</th>\n      <td>971</td>\n      <td>1.0</td>\n      <td>2017.0</td>\n      <td>Pas de pathologies repérées, traitements, mate...</td>\n      <td>204060.0</td>\n      <td>16185.238095</td>\n    </tr>\n    <tr>\n      <th>2</th>\n      <td>18</td>\n      <td>1.0</td>\n      <td>2017.0</td>\n      <td>Pas de pathologies repérées, traitements, mate...</td>\n      <td>147580.0</td>\n      <td>13358.571429</td>\n    </tr>\n    <tr>\n      <th>3</th>\n      <td>55</td>\n      <td>1.0</td>\n      <td>2017.0</td>\n      <td>Pas de pathologies repérées, traitements, mate...</td>\n      <td>89910.0</td>\n      <td>8092.857143</td>\n    </tr>\n    <tr>\n      <th>4</th>\n      <td>68</td>\n      <td>1.0</td>\n      <td>2017.0</td>\n      <td>Pas de pathologies repérées, traitements, mate...</td>\n      <td>408810.0</td>\n      <td>33312.857143</td>\n    </tr>\n  </tbody>\n</table>\n</div>"
     },
     "execution_count": 37,
     "metadata": {},
     "output_type": "execute_result"
    }
   ],
   "source": [
    "%%time\n",
    "parquet_gb_query = f\"SELECT dept, sexe, annee, patho_niv1, SUM(ntop), AVG(npop) FROM patho_parquet GROUP BY ALL;\"\n",
    "\n",
    "parquet_gb_res = conn.execute(parquet_gb_query).df()\n",
    "\n",
    "parquet_gb_res.head()"
   ],
   "metadata": {
    "collapsed": false,
    "ExecuteTime": {
     "end_time": "2024-05-22T14:01:10.796839167Z",
     "start_time": "2024-05-22T14:01:09.486233558Z"
    }
   },
   "id": "12a8e3ffbc0495ae"
  },
  {
   "cell_type": "code",
   "execution_count": null,
   "outputs": [],
   "source": [],
   "metadata": {
    "collapsed": false
   },
   "id": "f05b6cda245eb9e8"
  }
 ],
 "metadata": {
  "kernelspec": {
   "display_name": "Python 3",
   "language": "python",
   "name": "python3"
  },
  "language_info": {
   "codemirror_mode": {
    "name": "ipython",
    "version": 2
   },
   "file_extension": ".py",
   "mimetype": "text/x-python",
   "name": "python",
   "nbconvert_exporter": "python",
   "pygments_lexer": "ipython2",
   "version": "2.7.6"
  }
 },
 "nbformat": 4,
 "nbformat_minor": 5
}
