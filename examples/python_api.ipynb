{
 "cells": [
  {
   "cell_type": "markdown",
   "source": [
    "# Use duckdb python api\n",
    "\n",
    "In this notebook, we will use duckdb python api to explore some functionality of the duck db. "
   ],
   "metadata": {
    "collapsed": false
   },
   "id": "39ec2d7adc610afc"
  },
  {
   "cell_type": "code",
   "execution_count": 1,
   "outputs": [],
   "source": [
    "import pandas as pd\n",
    "import duckdb"
   ],
   "metadata": {
    "collapsed": false,
    "ExecuteTime": {
     "end_time": "2024-05-21T13:52:03.784595614Z",
     "start_time": "2024-05-21T13:52:03.415177036Z"
    }
   },
   "id": "b09d06bfa382a70"
  },
  {
   "cell_type": "code",
   "execution_count": 2,
   "outputs": [],
   "source": [
    "root_dir = \"/home/pengfei/data_set/sf_fire\"\n",
    "csv_file_path = f\"{root_dir}/sf_fire.csv\"\n",
    "parquet_file_path = f\"{root_dir}/sf_fire_snappy.parquet\""
   ],
   "metadata": {
    "collapsed": false,
    "ExecuteTime": {
     "end_time": "2024-05-21T13:52:07.657240691Z",
     "start_time": "2024-05-21T13:52:07.636125550Z"
    }
   },
   "id": "12318f73b47e9ff5"
  },
  {
   "cell_type": "markdown",
   "source": [
    "## Create a duckdb instance\n",
    "\n",
    "As we mentioned in the introduction, duckdb has two modes:\n",
    "- in-memory: duckdb.connect()\n",
    "- on-disk: duckdb.connect(\"path/to/file\")"
   ],
   "metadata": {
    "collapsed": false
   },
   "id": "c13034d678f3d2d8"
  },
  {
   "cell_type": "code",
   "execution_count": 3,
   "outputs": [],
   "source": [
    "## Create an in-memory duckdb instance \n",
    "conn = duckdb.connect()\n",
    "# create a on disk instance, you can also activate the read only option\n",
    "# conn = duckdb.connect(\"mydb.db\", read_only=True)"
   ],
   "metadata": {
    "collapsed": false,
    "ExecuteTime": {
     "end_time": "2024-05-21T13:53:20.340335863Z",
     "start_time": "2024-05-21T13:53:20.284278788Z"
    }
   },
   "id": "c92634ea1671ef42"
  },
  {
   "cell_type": "markdown",
   "source": [
    "## read data with duck db\n",
    "\n",
    "- read csv\n",
    "- read parquet"
   ],
   "metadata": {
    "collapsed": false
   },
   "id": "c472cfb975263714"
  },
  {
   "cell_type": "code",
   "execution_count": 7,
   "outputs": [],
   "source": [
    "# read csv\n",
    "query = f\"\"\"select * from '{csv_file_path}' limit 10\"\"\"\n",
    "\n",
    "# this will return a pandas dataframe\n",
    "df = conn.execute(query).df()"
   ],
   "metadata": {
    "collapsed": false,
    "ExecuteTime": {
     "end_time": "2024-05-21T14:00:33.780609613Z",
     "start_time": "2024-05-21T14:00:33.499688434Z"
    }
   },
   "id": "c282a39769635a8"
  },
  {
   "cell_type": "code",
   "execution_count": 9,
   "outputs": [
    {
     "name": "stdout",
     "output_type": "stream",
     "text": [
      "<class 'pandas.core.frame.DataFrame'>\n"
     ]
    },
    {
     "data": {
      "text/plain": "  Call Number Unit ID Incident Number                      Call Type  \\\n0   210391607     E19        21017645                         Alarms   \n1   210391164     T04        21017596                         Alarms   \n2   210391034     E16        21017578  Citizen Assist / Service Call   \n3   210390767     T19        21017552                          Other   \n4   210382984     B05        21017398                         Alarms   \n\n   Call Date Watch Date       Received DtTm          Entry DtTm  \\\n0 2021-02-08 2021-02-08 2021-02-08 13:00:14 2021-02-08 13:01:36   \n1 2021-02-08 2021-02-08 2021-02-08 10:54:56 2021-02-08 10:56:50   \n2 2021-02-08 2021-02-08 2021-02-08 10:18:53 2021-02-08 10:19:52   \n3 2021-02-08 2021-02-08 2021-02-08 08:50:27 2021-02-08 08:54:27   \n4 2021-02-07 2021-02-07 2021-02-07 21:18:38 2021-02-07 21:20:02   \n\n        Dispatch DtTm       Response DtTm  ... Call Type Group  \\\n0 2021-02-08 13:01:40 2021-02-08 13:03:21  ...           Alarm   \n1 2021-02-08 10:56:57 2021-02-08 10:57:07  ...           Alarm   \n2 2021-02-08 10:19:58 2021-02-08 10:20:42  ...           Alarm   \n3 2021-02-08 08:55:28 2021-02-08 08:57:51  ...            Fire   \n4 2021-02-07 21:21:15 2021-02-07 21:21:15  ...           Alarm   \n\n  Number of Alarms Unit Type Unit sequence in call dispatch  \\\n0                1    ENGINE                              1   \n1                1     TRUCK                              1   \n2                1    ENGINE                              1   \n3                1     TRUCK                              9   \n4                1     CHIEF                              2   \n\n  Fire Prevention District Supervisor District  \\\n0                        8                   7   \n1                        3                   6   \n2                        4                   2   \n3                     None                None   \n4                        5                   5   \n\n  Neighborhooods - Analysis Boundaries          RowID  \\\n0                            Lakeshore  210391607-E19   \n1                          Mission Bay  210391164-T04   \n2                               Marina  210391034-E16   \n3                                 None  210390767-T19   \n4                    Lone Mountain/USF  210382984-B05   \n\n                                   case_location Analysis Neighborhoods  \n0   POINT (-122.48045074945836 37.7190118676788)                   16.0  \n1  POINT (-122.39227179213904 37.77288298280324)                    4.0  \n2  POINT (-122.42581353320875 37.79927566930728)                   13.0  \n3   POINT (-122.46239390119047 37.7049649190675)                    NaN  \n4  POINT (-122.45328305705388 37.77213783914884)                   18.0  \n\n[5 rows x 35 columns]",
      "text/html": "<div>\n<style scoped>\n    .dataframe tbody tr th:only-of-type {\n        vertical-align: middle;\n    }\n\n    .dataframe tbody tr th {\n        vertical-align: top;\n    }\n\n    .dataframe thead th {\n        text-align: right;\n    }\n</style>\n<table border=\"1\" class=\"dataframe\">\n  <thead>\n    <tr style=\"text-align: right;\">\n      <th></th>\n      <th>Call Number</th>\n      <th>Unit ID</th>\n      <th>Incident Number</th>\n      <th>Call Type</th>\n      <th>Call Date</th>\n      <th>Watch Date</th>\n      <th>Received DtTm</th>\n      <th>Entry DtTm</th>\n      <th>Dispatch DtTm</th>\n      <th>Response DtTm</th>\n      <th>...</th>\n      <th>Call Type Group</th>\n      <th>Number of Alarms</th>\n      <th>Unit Type</th>\n      <th>Unit sequence in call dispatch</th>\n      <th>Fire Prevention District</th>\n      <th>Supervisor District</th>\n      <th>Neighborhooods - Analysis Boundaries</th>\n      <th>RowID</th>\n      <th>case_location</th>\n      <th>Analysis Neighborhoods</th>\n    </tr>\n  </thead>\n  <tbody>\n    <tr>\n      <th>0</th>\n      <td>210391607</td>\n      <td>E19</td>\n      <td>21017645</td>\n      <td>Alarms</td>\n      <td>2021-02-08</td>\n      <td>2021-02-08</td>\n      <td>2021-02-08 13:00:14</td>\n      <td>2021-02-08 13:01:36</td>\n      <td>2021-02-08 13:01:40</td>\n      <td>2021-02-08 13:03:21</td>\n      <td>...</td>\n      <td>Alarm</td>\n      <td>1</td>\n      <td>ENGINE</td>\n      <td>1</td>\n      <td>8</td>\n      <td>7</td>\n      <td>Lakeshore</td>\n      <td>210391607-E19</td>\n      <td>POINT (-122.48045074945836 37.7190118676788)</td>\n      <td>16.0</td>\n    </tr>\n    <tr>\n      <th>1</th>\n      <td>210391164</td>\n      <td>T04</td>\n      <td>21017596</td>\n      <td>Alarms</td>\n      <td>2021-02-08</td>\n      <td>2021-02-08</td>\n      <td>2021-02-08 10:54:56</td>\n      <td>2021-02-08 10:56:50</td>\n      <td>2021-02-08 10:56:57</td>\n      <td>2021-02-08 10:57:07</td>\n      <td>...</td>\n      <td>Alarm</td>\n      <td>1</td>\n      <td>TRUCK</td>\n      <td>1</td>\n      <td>3</td>\n      <td>6</td>\n      <td>Mission Bay</td>\n      <td>210391164-T04</td>\n      <td>POINT (-122.39227179213904 37.77288298280324)</td>\n      <td>4.0</td>\n    </tr>\n    <tr>\n      <th>2</th>\n      <td>210391034</td>\n      <td>E16</td>\n      <td>21017578</td>\n      <td>Citizen Assist / Service Call</td>\n      <td>2021-02-08</td>\n      <td>2021-02-08</td>\n      <td>2021-02-08 10:18:53</td>\n      <td>2021-02-08 10:19:52</td>\n      <td>2021-02-08 10:19:58</td>\n      <td>2021-02-08 10:20:42</td>\n      <td>...</td>\n      <td>Alarm</td>\n      <td>1</td>\n      <td>ENGINE</td>\n      <td>1</td>\n      <td>4</td>\n      <td>2</td>\n      <td>Marina</td>\n      <td>210391034-E16</td>\n      <td>POINT (-122.42581353320875 37.79927566930728)</td>\n      <td>13.0</td>\n    </tr>\n    <tr>\n      <th>3</th>\n      <td>210390767</td>\n      <td>T19</td>\n      <td>21017552</td>\n      <td>Other</td>\n      <td>2021-02-08</td>\n      <td>2021-02-08</td>\n      <td>2021-02-08 08:50:27</td>\n      <td>2021-02-08 08:54:27</td>\n      <td>2021-02-08 08:55:28</td>\n      <td>2021-02-08 08:57:51</td>\n      <td>...</td>\n      <td>Fire</td>\n      <td>1</td>\n      <td>TRUCK</td>\n      <td>9</td>\n      <td>None</td>\n      <td>None</td>\n      <td>None</td>\n      <td>210390767-T19</td>\n      <td>POINT (-122.46239390119047 37.7049649190675)</td>\n      <td>NaN</td>\n    </tr>\n    <tr>\n      <th>4</th>\n      <td>210382984</td>\n      <td>B05</td>\n      <td>21017398</td>\n      <td>Alarms</td>\n      <td>2021-02-07</td>\n      <td>2021-02-07</td>\n      <td>2021-02-07 21:18:38</td>\n      <td>2021-02-07 21:20:02</td>\n      <td>2021-02-07 21:21:15</td>\n      <td>2021-02-07 21:21:15</td>\n      <td>...</td>\n      <td>Alarm</td>\n      <td>1</td>\n      <td>CHIEF</td>\n      <td>2</td>\n      <td>5</td>\n      <td>5</td>\n      <td>Lone Mountain/USF</td>\n      <td>210382984-B05</td>\n      <td>POINT (-122.45328305705388 37.77213783914884)</td>\n      <td>18.0</td>\n    </tr>\n  </tbody>\n</table>\n<p>5 rows × 35 columns</p>\n</div>"
     },
     "execution_count": 9,
     "metadata": {},
     "output_type": "execute_result"
    }
   ],
   "source": [
    "print(type(df))\n",
    "df.head(5)"
   ],
   "metadata": {
    "collapsed": false,
    "ExecuteTime": {
     "end_time": "2024-05-21T14:01:51.620162424Z",
     "start_time": "2024-05-21T14:01:51.522032368Z"
    }
   },
   "id": "b780ea1c03482d3c"
  },
  {
   "cell_type": "code",
   "execution_count": 10,
   "outputs": [],
   "source": [
    "# create a temporal view\n",
    "conn.register(\"df_view\", df)\n",
    "\n",
    "table_name = \"df_view\"\n",
    "query2 = f\"Describe {table_name}\"\n",
    "schema = conn.execute(query2).df()"
   ],
   "metadata": {
    "collapsed": false,
    "ExecuteTime": {
     "end_time": "2024-05-21T14:17:15.129145225Z",
     "start_time": "2024-05-21T14:17:15.075416599Z"
    }
   },
   "id": "d55d2d50455263bb"
  },
  {
   "cell_type": "code",
   "execution_count": 12,
   "outputs": [
    {
     "data": {
      "text/plain": "               column_name column_type null   key default extra\n0              Call Number     VARCHAR  YES  None    None  None\n1                  Unit ID     VARCHAR  YES  None    None  None\n2          Incident Number     VARCHAR  YES  None    None  None\n3                Call Type     VARCHAR  YES  None    None  None\n4                Call Date   TIMESTAMP  YES  None    None  None\n5               Watch Date   TIMESTAMP  YES  None    None  None\n6            Received DtTm   TIMESTAMP  YES  None    None  None\n7               Entry DtTm   TIMESTAMP  YES  None    None  None\n8            Dispatch DtTm   TIMESTAMP  YES  None    None  None\n9            Response DtTm   TIMESTAMP  YES  None    None  None\n10           On Scene DtTm   TIMESTAMP  YES  None    None  None\n11          Transport DtTm   TIMESTAMP  YES  None    None  None\n12           Hospital DtTm   TIMESTAMP  YES  None    None  None\n13  Call Final Disposition     VARCHAR  YES  None    None  None\n14          Available DtTm   TIMESTAMP  YES  None    None  None",
      "text/html": "<div>\n<style scoped>\n    .dataframe tbody tr th:only-of-type {\n        vertical-align: middle;\n    }\n\n    .dataframe tbody tr th {\n        vertical-align: top;\n    }\n\n    .dataframe thead th {\n        text-align: right;\n    }\n</style>\n<table border=\"1\" class=\"dataframe\">\n  <thead>\n    <tr style=\"text-align: right;\">\n      <th></th>\n      <th>column_name</th>\n      <th>column_type</th>\n      <th>null</th>\n      <th>key</th>\n      <th>default</th>\n      <th>extra</th>\n    </tr>\n  </thead>\n  <tbody>\n    <tr>\n      <th>0</th>\n      <td>Call Number</td>\n      <td>VARCHAR</td>\n      <td>YES</td>\n      <td>None</td>\n      <td>None</td>\n      <td>None</td>\n    </tr>\n    <tr>\n      <th>1</th>\n      <td>Unit ID</td>\n      <td>VARCHAR</td>\n      <td>YES</td>\n      <td>None</td>\n      <td>None</td>\n      <td>None</td>\n    </tr>\n    <tr>\n      <th>2</th>\n      <td>Incident Number</td>\n      <td>VARCHAR</td>\n      <td>YES</td>\n      <td>None</td>\n      <td>None</td>\n      <td>None</td>\n    </tr>\n    <tr>\n      <th>3</th>\n      <td>Call Type</td>\n      <td>VARCHAR</td>\n      <td>YES</td>\n      <td>None</td>\n      <td>None</td>\n      <td>None</td>\n    </tr>\n    <tr>\n      <th>4</th>\n      <td>Call Date</td>\n      <td>TIMESTAMP</td>\n      <td>YES</td>\n      <td>None</td>\n      <td>None</td>\n      <td>None</td>\n    </tr>\n    <tr>\n      <th>5</th>\n      <td>Watch Date</td>\n      <td>TIMESTAMP</td>\n      <td>YES</td>\n      <td>None</td>\n      <td>None</td>\n      <td>None</td>\n    </tr>\n    <tr>\n      <th>6</th>\n      <td>Received DtTm</td>\n      <td>TIMESTAMP</td>\n      <td>YES</td>\n      <td>None</td>\n      <td>None</td>\n      <td>None</td>\n    </tr>\n    <tr>\n      <th>7</th>\n      <td>Entry DtTm</td>\n      <td>TIMESTAMP</td>\n      <td>YES</td>\n      <td>None</td>\n      <td>None</td>\n      <td>None</td>\n    </tr>\n    <tr>\n      <th>8</th>\n      <td>Dispatch DtTm</td>\n      <td>TIMESTAMP</td>\n      <td>YES</td>\n      <td>None</td>\n      <td>None</td>\n      <td>None</td>\n    </tr>\n    <tr>\n      <th>9</th>\n      <td>Response DtTm</td>\n      <td>TIMESTAMP</td>\n      <td>YES</td>\n      <td>None</td>\n      <td>None</td>\n      <td>None</td>\n    </tr>\n    <tr>\n      <th>10</th>\n      <td>On Scene DtTm</td>\n      <td>TIMESTAMP</td>\n      <td>YES</td>\n      <td>None</td>\n      <td>None</td>\n      <td>None</td>\n    </tr>\n    <tr>\n      <th>11</th>\n      <td>Transport DtTm</td>\n      <td>TIMESTAMP</td>\n      <td>YES</td>\n      <td>None</td>\n      <td>None</td>\n      <td>None</td>\n    </tr>\n    <tr>\n      <th>12</th>\n      <td>Hospital DtTm</td>\n      <td>TIMESTAMP</td>\n      <td>YES</td>\n      <td>None</td>\n      <td>None</td>\n      <td>None</td>\n    </tr>\n    <tr>\n      <th>13</th>\n      <td>Call Final Disposition</td>\n      <td>VARCHAR</td>\n      <td>YES</td>\n      <td>None</td>\n      <td>None</td>\n      <td>None</td>\n    </tr>\n    <tr>\n      <th>14</th>\n      <td>Available DtTm</td>\n      <td>TIMESTAMP</td>\n      <td>YES</td>\n      <td>None</td>\n      <td>None</td>\n      <td>None</td>\n    </tr>\n  </tbody>\n</table>\n</div>"
     },
     "execution_count": 12,
     "metadata": {},
     "output_type": "execute_result"
    }
   ],
   "source": [
    "schema.head(15)"
   ],
   "metadata": {
    "collapsed": false,
    "ExecuteTime": {
     "end_time": "2024-05-21T14:17:31.530343794Z",
     "start_time": "2024-05-21T14:17:31.485945062Z"
    }
   },
   "id": "2bf8e347962a7351"
  },
  {
   "cell_type": "code",
   "execution_count": 13,
   "outputs": [],
   "source": [
    "# read parquet\n",
    "\n",
    "read_parquet_query = f\"\"\"select * from '{parquet_file_path}' limit 10\"\"\"\n",
    "\n",
    "# this will return a pandas dataframe\n",
    "parquet_df = conn.execute(read_parquet_query).df()"
   ],
   "metadata": {
    "collapsed": false,
    "ExecuteTime": {
     "end_time": "2024-05-21T14:19:09.852888582Z",
     "start_time": "2024-05-21T14:19:09.371064382Z"
    }
   },
   "id": "1243e6ee881bac64"
  },
  {
   "cell_type": "code",
   "execution_count": 14,
   "outputs": [
    {
     "data": {
      "text/plain": "   CallNumber UnitID  IncidentNumber                       CallType  \\\n0   210391607    E19        21017645                         Alarms   \n1   210391164    T04        21017596                         Alarms   \n2   210391034    E16        21017578  Citizen Assist / Service Call   \n3   210390767    T19        21017552                          Other   \n4   210382984    B05        21017398                         Alarms   \n\n     CallDate   WatchDate            ReceivedDtTm               EntryDtTm  \\\n0  02/08/2021  02/08/2021  02/08/2021 01:00:14 PM  02/08/2021 01:01:36 PM   \n1  02/08/2021  02/08/2021  02/08/2021 10:54:56 AM  02/08/2021 10:56:50 AM   \n2  02/08/2021  02/08/2021  02/08/2021 10:18:53 AM  02/08/2021 10:19:52 AM   \n3  02/08/2021  02/08/2021  02/08/2021 08:50:27 AM  02/08/2021 08:54:27 AM   \n4  02/07/2021  02/07/2021  02/07/2021 09:18:38 PM  02/07/2021 09:20:02 PM   \n\n             DispatchDtTm            ResponseDtTm  ... ALSUnit CallTypeGroup  \\\n0  02/08/2021 01:01:40 PM  02/08/2021 01:03:21 PM  ...    True         Alarm   \n1  02/08/2021 10:56:57 AM  02/08/2021 10:57:07 AM  ...   False         Alarm   \n2  02/08/2021 10:19:58 AM  02/08/2021 10:20:42 AM  ...    True         Alarm   \n3  02/08/2021 08:55:28 AM  02/08/2021 08:57:51 AM  ...    True          Fire   \n4  02/07/2021 09:21:15 PM  02/07/2021 09:21:15 PM  ...   False         Alarm   \n\n  NumberofAlarms UnitType Unitsequenceincalldispatch FirePreventionDistrict  \\\n0              1   ENGINE                          1                      8   \n1              1    TRUCK                          1                      3   \n2              1   ENGINE                          1                      4   \n3              1    TRUCK                          9                   None   \n4              1    CHIEF                          2                      5   \n\n  SupervisorDistrict  NeighborhoodDistrict       Location  \\\n0                  7             Lakeshore  210391607-E19   \n1                  6           Mission Bay  210391164-T04   \n2                  2                Marina  210391034-E16   \n3               None                  None  210390767-T19   \n4                  5     Lone Mountain/USF  210382984-B05   \n\n                                           RowID  \n0   POINT (-122.48045074945836 37.7190118676788)  \n1  POINT (-122.39227179213904 37.77288298280324)  \n2  POINT (-122.42581353320875 37.79927566930728)  \n3   POINT (-122.46239390119047 37.7049649190675)  \n4  POINT (-122.45328305705388 37.77213783914884)  \n\n[5 rows x 34 columns]",
      "text/html": "<div>\n<style scoped>\n    .dataframe tbody tr th:only-of-type {\n        vertical-align: middle;\n    }\n\n    .dataframe tbody tr th {\n        vertical-align: top;\n    }\n\n    .dataframe thead th {\n        text-align: right;\n    }\n</style>\n<table border=\"1\" class=\"dataframe\">\n  <thead>\n    <tr style=\"text-align: right;\">\n      <th></th>\n      <th>CallNumber</th>\n      <th>UnitID</th>\n      <th>IncidentNumber</th>\n      <th>CallType</th>\n      <th>CallDate</th>\n      <th>WatchDate</th>\n      <th>ReceivedDtTm</th>\n      <th>EntryDtTm</th>\n      <th>DispatchDtTm</th>\n      <th>ResponseDtTm</th>\n      <th>...</th>\n      <th>ALSUnit</th>\n      <th>CallTypeGroup</th>\n      <th>NumberofAlarms</th>\n      <th>UnitType</th>\n      <th>Unitsequenceincalldispatch</th>\n      <th>FirePreventionDistrict</th>\n      <th>SupervisorDistrict</th>\n      <th>NeighborhoodDistrict</th>\n      <th>Location</th>\n      <th>RowID</th>\n    </tr>\n  </thead>\n  <tbody>\n    <tr>\n      <th>0</th>\n      <td>210391607</td>\n      <td>E19</td>\n      <td>21017645</td>\n      <td>Alarms</td>\n      <td>02/08/2021</td>\n      <td>02/08/2021</td>\n      <td>02/08/2021 01:00:14 PM</td>\n      <td>02/08/2021 01:01:36 PM</td>\n      <td>02/08/2021 01:01:40 PM</td>\n      <td>02/08/2021 01:03:21 PM</td>\n      <td>...</td>\n      <td>True</td>\n      <td>Alarm</td>\n      <td>1</td>\n      <td>ENGINE</td>\n      <td>1</td>\n      <td>8</td>\n      <td>7</td>\n      <td>Lakeshore</td>\n      <td>210391607-E19</td>\n      <td>POINT (-122.48045074945836 37.7190118676788)</td>\n    </tr>\n    <tr>\n      <th>1</th>\n      <td>210391164</td>\n      <td>T04</td>\n      <td>21017596</td>\n      <td>Alarms</td>\n      <td>02/08/2021</td>\n      <td>02/08/2021</td>\n      <td>02/08/2021 10:54:56 AM</td>\n      <td>02/08/2021 10:56:50 AM</td>\n      <td>02/08/2021 10:56:57 AM</td>\n      <td>02/08/2021 10:57:07 AM</td>\n      <td>...</td>\n      <td>False</td>\n      <td>Alarm</td>\n      <td>1</td>\n      <td>TRUCK</td>\n      <td>1</td>\n      <td>3</td>\n      <td>6</td>\n      <td>Mission Bay</td>\n      <td>210391164-T04</td>\n      <td>POINT (-122.39227179213904 37.77288298280324)</td>\n    </tr>\n    <tr>\n      <th>2</th>\n      <td>210391034</td>\n      <td>E16</td>\n      <td>21017578</td>\n      <td>Citizen Assist / Service Call</td>\n      <td>02/08/2021</td>\n      <td>02/08/2021</td>\n      <td>02/08/2021 10:18:53 AM</td>\n      <td>02/08/2021 10:19:52 AM</td>\n      <td>02/08/2021 10:19:58 AM</td>\n      <td>02/08/2021 10:20:42 AM</td>\n      <td>...</td>\n      <td>True</td>\n      <td>Alarm</td>\n      <td>1</td>\n      <td>ENGINE</td>\n      <td>1</td>\n      <td>4</td>\n      <td>2</td>\n      <td>Marina</td>\n      <td>210391034-E16</td>\n      <td>POINT (-122.42581353320875 37.79927566930728)</td>\n    </tr>\n    <tr>\n      <th>3</th>\n      <td>210390767</td>\n      <td>T19</td>\n      <td>21017552</td>\n      <td>Other</td>\n      <td>02/08/2021</td>\n      <td>02/08/2021</td>\n      <td>02/08/2021 08:50:27 AM</td>\n      <td>02/08/2021 08:54:27 AM</td>\n      <td>02/08/2021 08:55:28 AM</td>\n      <td>02/08/2021 08:57:51 AM</td>\n      <td>...</td>\n      <td>True</td>\n      <td>Fire</td>\n      <td>1</td>\n      <td>TRUCK</td>\n      <td>9</td>\n      <td>None</td>\n      <td>None</td>\n      <td>None</td>\n      <td>210390767-T19</td>\n      <td>POINT (-122.46239390119047 37.7049649190675)</td>\n    </tr>\n    <tr>\n      <th>4</th>\n      <td>210382984</td>\n      <td>B05</td>\n      <td>21017398</td>\n      <td>Alarms</td>\n      <td>02/07/2021</td>\n      <td>02/07/2021</td>\n      <td>02/07/2021 09:18:38 PM</td>\n      <td>02/07/2021 09:20:02 PM</td>\n      <td>02/07/2021 09:21:15 PM</td>\n      <td>02/07/2021 09:21:15 PM</td>\n      <td>...</td>\n      <td>False</td>\n      <td>Alarm</td>\n      <td>1</td>\n      <td>CHIEF</td>\n      <td>2</td>\n      <td>5</td>\n      <td>5</td>\n      <td>Lone Mountain/USF</td>\n      <td>210382984-B05</td>\n      <td>POINT (-122.45328305705388 37.77213783914884)</td>\n    </tr>\n  </tbody>\n</table>\n<p>5 rows × 34 columns</p>\n</div>"
     },
     "execution_count": 14,
     "metadata": {},
     "output_type": "execute_result"
    }
   ],
   "source": [
    "parquet_df.head()"
   ],
   "metadata": {
    "collapsed": false,
    "ExecuteTime": {
     "end_time": "2024-05-21T14:19:20.453122787Z",
     "start_time": "2024-05-21T14:19:20.423073607Z"
    }
   },
   "id": "90b5ca6b9339a020"
  },
  {
   "cell_type": "code",
   "execution_count": null,
   "outputs": [],
   "source": [],
   "metadata": {
    "collapsed": false
   },
   "id": "9a097e8b95ded3ee"
  },
  {
   "cell_type": "code",
   "execution_count": null,
   "outputs": [],
   "source": [],
   "metadata": {
    "collapsed": false
   },
   "id": "c3aec3f0b56f213a"
  },
  {
   "cell_type": "markdown",
   "source": [
    "## read csv with pandas\n"
   ],
   "metadata": {
    "collapsed": false
   },
   "id": "72b40baee620f2c"
  },
  {
   "cell_type": "code",
   "execution_count": null,
   "outputs": [],
   "source": [],
   "metadata": {
    "collapsed": false
   },
   "id": "72dde0fd65b12170"
  }
 ],
 "metadata": {
  "kernelspec": {
   "display_name": "Python 3",
   "language": "python",
   "name": "python3"
  },
  "language_info": {
   "codemirror_mode": {
    "name": "ipython",
    "version": 2
   },
   "file_extension": ".py",
   "mimetype": "text/x-python",
   "name": "python",
   "nbconvert_exporter": "python",
   "pygments_lexer": "ipython2",
   "version": "2.7.6"
  }
 },
 "nbformat": 4,
 "nbformat_minor": 5
}
