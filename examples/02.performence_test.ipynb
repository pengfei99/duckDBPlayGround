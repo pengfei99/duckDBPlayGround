{
 "cells": [
  {
   "cell_type": "markdown",
   "source": [
    "# Use duckdb python api\n",
    "\n",
    "In this notebook, we will use duckdb python api to explore some functionality of the duck db. "
   ],
   "metadata": {
    "collapsed": false
   },
   "id": "39ec2d7adc610afc"
  },
  {
   "cell_type": "code",
   "execution_count": 23,
   "outputs": [
    {
     "name": "stderr",
     "output_type": "stream",
     "text": [
      "Matplotlib is building the font cache; this may take a moment.\n"
     ]
    }
   ],
   "source": [
    "import pandas as pd\n",
    "import geopandas as gpd\n",
    "import duckdb\n",
    "import matplotlib.pyplot as plt\n",
    "import matplotlib.colors as mcolors"
   ],
   "metadata": {
    "collapsed": false,
    "ExecuteTime": {
     "end_time": "2024-05-22T15:33:27.109446738Z",
     "start_time": "2024-05-22T15:33:10.813833501Z"
    }
   },
   "id": "b09d06bfa382a70"
  },
  {
   "cell_type": "code",
   "execution_count": 2,
   "outputs": [],
   "source": [
    "root_dir = \"/home/pengfei/data_set/demo_chu\"\n",
    "csv_file_path = f\"{root_dir}/pathologies.csv\"\n",
    "parquet_file_path = f\"{root_dir}/pathologies.parquet\""
   ],
   "metadata": {
    "collapsed": false,
    "ExecuteTime": {
     "end_time": "2024-05-22T15:20:11.014349520Z",
     "start_time": "2024-05-22T15:20:10.972828540Z"
    }
   },
   "id": "12318f73b47e9ff5"
  },
  {
   "cell_type": "code",
   "execution_count": 3,
   "outputs": [
    {
     "name": "stdout",
     "output_type": "stream",
     "text": [
      "total 709M\r\n",
      "drwxrwxr-x  4 pengfei pengfei 4.0K May 22 17:05 .\r\n",
      "drwxrwxr-x 13 pengfei pengfei 4.0K May 22 12:03 ..\r\n",
      "drwxrwxr-x  2 pengfei pengfei 4.0K May 22 15:46 demo_base\r\n",
      "drwxrwxr-x  2 pengfei pengfei 4.0K May 22 16:39 gadm41_FRA\r\n",
      "-rw-rw-r--  1 pengfei pengfei 657M May 16 15:54 pathologies.csv\r\n",
      "-rw-rw-r--  1 pengfei pengfei  26M May 22 17:05 pathologies.parquet\r\n",
      "-rw-rw-r--  1 pengfei pengfei  26M May 17 09:03 pathologies.parquet.bkp\r\n"
     ]
    }
   ],
   "source": [
    "! ls -lah /home/pengfei/data_set/demo_chu"
   ],
   "metadata": {
    "collapsed": false,
    "ExecuteTime": {
     "end_time": "2024-05-22T15:20:16.069054763Z",
     "start_time": "2024-05-22T15:20:14.996847522Z"
    }
   },
   "id": "56276ac3ef15c2b"
  },
  {
   "cell_type": "markdown",
   "source": [
    "## Create a duckdb instance\n",
    "\n",
    "As we mentioned in the introduction, duckdb has two modes:\n",
    "- in-memory: duckdb.connect()\n",
    "- on-disk: duckdb.connect(\"path/to/file\")"
   ],
   "metadata": {
    "collapsed": false
   },
   "id": "c13034d678f3d2d8"
  },
  {
   "cell_type": "code",
   "execution_count": 9,
   "outputs": [],
   "source": [
    "## Create an in-memory duckdb instance \n",
    "# conn = duckdb.connect()\n",
    "\n",
    "# create an on disk instance, you can also activate the read only option\n",
    "conn = duckdb.connect(\"/home/pengfei/data_set/demo_chu/demo_base/py_mydb.db\")"
   ],
   "metadata": {
    "collapsed": false,
    "ExecuteTime": {
     "end_time": "2024-05-22T15:29:25.952530326Z",
     "start_time": "2024-05-22T15:29:25.903925211Z"
    }
   },
   "id": "c92634ea1671ef42"
  },
  {
   "cell_type": "markdown",
   "source": [
    "## 1. Compare the data loading speed \n",
    "\n",
    "In this section, we compare the data loading speed between duck db and pandas\n",
    "\n",
    "### 1.1 Compare the reading speed of  csv\n"
   ],
   "metadata": {
    "collapsed": false
   },
   "id": "c472cfb975263714"
  },
  {
   "cell_type": "code",
   "execution_count": 10,
   "outputs": [
    {
     "name": "stdout",
     "output_type": "stream",
     "text": [
      "<class 'pandas.core.frame.DataFrame'>\n",
      "CPU times: user 1.67 s, sys: 794 ms, total: 2.46 s\n",
      "Wall time: 1.9 s\n"
     ]
    },
    {
     "data": {
      "text/plain": "   count_star()\n0       4057201",
      "text/html": "<div>\n<style scoped>\n    .dataframe tbody tr th:only-of-type {\n        vertical-align: middle;\n    }\n\n    .dataframe tbody tr th {\n        vertical-align: top;\n    }\n\n    .dataframe thead th {\n        text-align: right;\n    }\n</style>\n<table border=\"1\" class=\"dataframe\">\n  <thead>\n    <tr style=\"text-align: right;\">\n      <th></th>\n      <th>count_star()</th>\n    </tr>\n  </thead>\n  <tbody>\n    <tr>\n      <th>0</th>\n      <td>4057201</td>\n    </tr>\n  </tbody>\n</table>\n</div>"
     },
     "execution_count": 10,
     "metadata": {},
     "output_type": "execute_result"
    }
   ],
   "source": [
    "%%time\n",
    "# read csv\n",
    "csv_query = f\"\"\"create or replace view patho_csv as select * from read_csv('{csv_file_path}', header=true, delim = ';'); select count(*) from patho_csv\"\"\"\n",
    "\n",
    "# this will return a pandas dataframe\n",
    "csv_row_count = conn.execute(csv_query).df()\n",
    "\n",
    "print(type(csv_row_count))\n",
    "csv_row_count.head(5)"
   ],
   "metadata": {
    "collapsed": false,
    "ExecuteTime": {
     "end_time": "2024-05-22T15:29:33.925051155Z",
     "start_time": "2024-05-22T15:29:32.003163187Z"
    }
   },
   "id": "c282a39769635a8"
  },
  {
   "cell_type": "markdown",
   "source": [
    "> we can notice the execution time of count row number action takes about 1.5 seconds"
   ],
   "metadata": {
    "collapsed": false
   },
   "id": "3f0cebf541cad6e6"
  },
  {
   "cell_type": "markdown",
   "source": [
    "Now let's try to read the csv with pandas\n"
   ],
   "metadata": {
    "collapsed": false
   },
   "id": "5ce2509b18f308b9"
  },
  {
   "cell_type": "code",
   "execution_count": 11,
   "outputs": [
    {
     "name": "stderr",
     "output_type": "stream",
     "text": [
      "<timed exec>:1: DtypeWarning: Columns (12) have mixed types. Specify dtype option on import or set low_memory=False.\n"
     ]
    },
    {
     "name": "stdout",
     "output_type": "stream",
     "text": [
      "row count: 4057201\n",
      "CPU times: user 8.41 s, sys: 1.3 s, total: 9.71 s\n",
      "Wall time: 10.5 s\n"
     ]
    }
   ],
   "source": [
    "%%time\n",
    "csv_pdf = pd.read_csv(csv_file_path, sep=\";\")\n",
    "\n",
    "print(f\"row count: {len(csv_pdf)}\")"
   ],
   "metadata": {
    "collapsed": false,
    "ExecuteTime": {
     "end_time": "2024-05-22T15:29:49.304852398Z",
     "start_time": "2024-05-22T15:29:38.754145880Z"
    }
   },
   "id": "6548e8f00da03bae"
  },
  {
   "cell_type": "code",
   "execution_count": 7,
   "outputs": [
    {
     "name": "stdout",
     "output_type": "stream",
     "text": [
      "The data set contains 4057201 rows and 16 columns\n"
     ]
    }
   ],
   "source": [
    "row_number, col_number = csv_pdf.shape\n",
    "print(f\"The data set contains {row_number} rows and {col_number} columns\")"
   ],
   "metadata": {
    "collapsed": false,
    "ExecuteTime": {
     "end_time": "2024-05-22T08:48:57.444801130Z",
     "start_time": "2024-05-22T08:48:57.355726781Z"
    }
   },
   "id": "2a634a55007790d3"
  },
  {
   "cell_type": "markdown",
   "source": [
    "> we can notice the execution time for pandas is about 11 seconds. so we gain about 7 times the execution time"
   ],
   "metadata": {
    "collapsed": false
   },
   "id": "3a6ee21f82620a7e"
  },
  {
   "cell_type": "markdown",
   "source": [
    "### 1.2 Compare the reading speed of parquet\n"
   ],
   "metadata": {
    "collapsed": false
   },
   "id": "6aa64f0148db54a7"
  },
  {
   "cell_type": "code",
   "execution_count": 12,
   "outputs": [
    {
     "name": "stdout",
     "output_type": "stream",
     "text": [
      "CPU times: user 11.2 ms, sys: 5.58 ms, total: 16.7 ms\n",
      "Wall time: 17.4 ms\n"
     ]
    },
    {
     "data": {
      "text/plain": "   count_star()\n0       4057201",
      "text/html": "<div>\n<style scoped>\n    .dataframe tbody tr th:only-of-type {\n        vertical-align: middle;\n    }\n\n    .dataframe tbody tr th {\n        vertical-align: top;\n    }\n\n    .dataframe thead th {\n        text-align: right;\n    }\n</style>\n<table border=\"1\" class=\"dataframe\">\n  <thead>\n    <tr style=\"text-align: right;\">\n      <th></th>\n      <th>count_star()</th>\n    </tr>\n  </thead>\n  <tbody>\n    <tr>\n      <th>0</th>\n      <td>4057201</td>\n    </tr>\n  </tbody>\n</table>\n</div>"
     },
     "execution_count": 12,
     "metadata": {},
     "output_type": "execute_result"
    }
   ],
   "source": [
    "%%time\n",
    "# read parquet with duck db\n",
    "parquet_query = f\"\"\"create or replace view patho_parquet as select * from read_parquet('{parquet_file_path}'); select count(*) from patho_parquet\"\"\"\n",
    "\n",
    "# this will return a pandas dataframe\n",
    "parquet_row_count = conn.execute(parquet_query).df()\n",
    "\n",
    "parquet_row_count.head(5)"
   ],
   "metadata": {
    "collapsed": false,
    "ExecuteTime": {
     "end_time": "2024-05-22T15:29:49.390352153Z",
     "start_time": "2024-05-22T15:29:49.313243753Z"
    }
   },
   "id": "734db2918aac1c0a"
  },
  {
   "cell_type": "markdown",
   "source": [
    "> With parquet and duckdb, we can reduce the data loading time to 4 ms"
   ],
   "metadata": {
    "collapsed": false
   },
   "id": "439684eb9d3a1098"
  },
  {
   "cell_type": "code",
   "execution_count": 13,
   "outputs": [
    {
     "name": "stdout",
     "output_type": "stream",
     "text": [
      "row count: 4057201\n",
      "CPU times: user 1.98 s, sys: 873 ms, total: 2.85 s\n",
      "Wall time: 1.48 s\n"
     ]
    }
   ],
   "source": [
    "%%time\n",
    "# read parquet with pandas\n",
    "\n",
    "parquet_pdf = pd.read_parquet(parquet_file_path, engine='pyarrow')\n",
    "print(f\"row count: {len(parquet_pdf)}\")"
   ],
   "metadata": {
    "collapsed": false,
    "ExecuteTime": {
     "end_time": "2024-05-22T15:29:54.859740209Z",
     "start_time": "2024-05-22T15:29:53.374366080Z"
    }
   },
   "id": "f6eb03cfce58201d"
  },
  {
   "cell_type": "markdown",
   "source": [
    "> pandas can't read parquet natively, it requires pyarrow or fastparquet, here we use the pyarrow package. But still duckdb wins on the count operation"
   ],
   "metadata": {
    "collapsed": false
   },
   "id": "85c8466d7277461f"
  },
  {
   "cell_type": "markdown",
   "source": [
    "## 2. Compare the different action times\n",
    "\n",
    "### 2.1 Get the table schema"
   ],
   "metadata": {
    "collapsed": false
   },
   "id": "3bf5828115e9c135"
  },
  {
   "cell_type": "code",
   "execution_count": 13,
   "outputs": [
    {
     "name": "stdout",
     "output_type": "stream",
     "text": [
      "CPU times: user 0 ns, sys: 1.73 ms, total: 1.73 ms\n",
      "Wall time: 1.37 ms\n"
     ]
    },
    {
     "data": {
      "text/plain": "           column_name column_type null   key default extra\n0                annee      BIGINT  YES  None    None  None\n1           patho_niv1     VARCHAR  YES  None    None  None\n2           patho_niv2     VARCHAR  YES  None    None  None\n3           patho_niv3     VARCHAR  YES  None    None  None\n4                  top     VARCHAR  YES  None    None  None\n5            cla_age_5     VARCHAR  YES  None    None  None\n6                 sexe      BIGINT  YES  None    None  None\n7               region     VARCHAR  YES  None    None  None\n8                 dept     VARCHAR  YES  None    None  None\n9                 ntop      BIGINT  YES  None    None  None\n10                npop      BIGINT  YES  None    None  None\n11                prev      DOUBLE  YES  None    None  None\n12  niveau_prioritaire     VARCHAR  YES  None    None  None\n13  libelle_classe_age     VARCHAR  YES  None    None  None\n14        libelle_sexe     VARCHAR  YES  None    None  None",
      "text/html": "<div>\n<style scoped>\n    .dataframe tbody tr th:only-of-type {\n        vertical-align: middle;\n    }\n\n    .dataframe tbody tr th {\n        vertical-align: top;\n    }\n\n    .dataframe thead th {\n        text-align: right;\n    }\n</style>\n<table border=\"1\" class=\"dataframe\">\n  <thead>\n    <tr style=\"text-align: right;\">\n      <th></th>\n      <th>column_name</th>\n      <th>column_type</th>\n      <th>null</th>\n      <th>key</th>\n      <th>default</th>\n      <th>extra</th>\n    </tr>\n  </thead>\n  <tbody>\n    <tr>\n      <th>0</th>\n      <td>annee</td>\n      <td>BIGINT</td>\n      <td>YES</td>\n      <td>None</td>\n      <td>None</td>\n      <td>None</td>\n    </tr>\n    <tr>\n      <th>1</th>\n      <td>patho_niv1</td>\n      <td>VARCHAR</td>\n      <td>YES</td>\n      <td>None</td>\n      <td>None</td>\n      <td>None</td>\n    </tr>\n    <tr>\n      <th>2</th>\n      <td>patho_niv2</td>\n      <td>VARCHAR</td>\n      <td>YES</td>\n      <td>None</td>\n      <td>None</td>\n      <td>None</td>\n    </tr>\n    <tr>\n      <th>3</th>\n      <td>patho_niv3</td>\n      <td>VARCHAR</td>\n      <td>YES</td>\n      <td>None</td>\n      <td>None</td>\n      <td>None</td>\n    </tr>\n    <tr>\n      <th>4</th>\n      <td>top</td>\n      <td>VARCHAR</td>\n      <td>YES</td>\n      <td>None</td>\n      <td>None</td>\n      <td>None</td>\n    </tr>\n    <tr>\n      <th>5</th>\n      <td>cla_age_5</td>\n      <td>VARCHAR</td>\n      <td>YES</td>\n      <td>None</td>\n      <td>None</td>\n      <td>None</td>\n    </tr>\n    <tr>\n      <th>6</th>\n      <td>sexe</td>\n      <td>BIGINT</td>\n      <td>YES</td>\n      <td>None</td>\n      <td>None</td>\n      <td>None</td>\n    </tr>\n    <tr>\n      <th>7</th>\n      <td>region</td>\n      <td>VARCHAR</td>\n      <td>YES</td>\n      <td>None</td>\n      <td>None</td>\n      <td>None</td>\n    </tr>\n    <tr>\n      <th>8</th>\n      <td>dept</td>\n      <td>VARCHAR</td>\n      <td>YES</td>\n      <td>None</td>\n      <td>None</td>\n      <td>None</td>\n    </tr>\n    <tr>\n      <th>9</th>\n      <td>ntop</td>\n      <td>BIGINT</td>\n      <td>YES</td>\n      <td>None</td>\n      <td>None</td>\n      <td>None</td>\n    </tr>\n    <tr>\n      <th>10</th>\n      <td>npop</td>\n      <td>BIGINT</td>\n      <td>YES</td>\n      <td>None</td>\n      <td>None</td>\n      <td>None</td>\n    </tr>\n    <tr>\n      <th>11</th>\n      <td>prev</td>\n      <td>DOUBLE</td>\n      <td>YES</td>\n      <td>None</td>\n      <td>None</td>\n      <td>None</td>\n    </tr>\n    <tr>\n      <th>12</th>\n      <td>niveau_prioritaire</td>\n      <td>VARCHAR</td>\n      <td>YES</td>\n      <td>None</td>\n      <td>None</td>\n      <td>None</td>\n    </tr>\n    <tr>\n      <th>13</th>\n      <td>libelle_classe_age</td>\n      <td>VARCHAR</td>\n      <td>YES</td>\n      <td>None</td>\n      <td>None</td>\n      <td>None</td>\n    </tr>\n    <tr>\n      <th>14</th>\n      <td>libelle_sexe</td>\n      <td>VARCHAR</td>\n      <td>YES</td>\n      <td>None</td>\n      <td>None</td>\n      <td>None</td>\n    </tr>\n  </tbody>\n</table>\n</div>"
     },
     "execution_count": 13,
     "metadata": {},
     "output_type": "execute_result"
    }
   ],
   "source": [
    "%%time\n",
    "table_name = \"patho_csv\"\n",
    "query2 = f\"Describe {table_name}\"\n",
    "schema = conn.execute(query2).df()\n",
    "schema.head(15)"
   ],
   "metadata": {
    "collapsed": false,
    "ExecuteTime": {
     "end_time": "2024-05-22T12:52:12.127544067Z",
     "start_time": "2024-05-22T12:52:12.074463079Z"
    }
   },
   "id": "d55d2d50455263bb"
  },
  {
   "cell_type": "code",
   "execution_count": 14,
   "outputs": [
    {
     "name": "stdout",
     "output_type": "stream",
     "text": [
      "annee                 float64\n",
      "patho_niv1             object\n",
      "patho_niv2             object\n",
      "patho_niv3             object\n",
      "top                    object\n",
      "cla_age_5              object\n",
      "sexe                  float64\n",
      "region                  int64\n",
      "dept                   object\n",
      "ntop                  float64\n",
      "npop                  float64\n",
      "prev                  float64\n",
      "niveau_prioritaire     object\n",
      "libelle_classe_age     object\n",
      "libelle_sexe           object\n",
      "tri                   float64\n",
      "dtype: object\n",
      "CPU times: user 958 µs, sys: 0 ns, total: 958 µs\n",
      "Wall time: 950 µs\n"
     ]
    }
   ],
   "source": [
    "%%time\n",
    "print(csv_pdf.dtypes)"
   ],
   "metadata": {
    "collapsed": false,
    "ExecuteTime": {
     "end_time": "2024-05-22T12:52:17.395680706Z",
     "start_time": "2024-05-22T12:52:17.377138571Z"
    }
   },
   "id": "2bf8e347962a7351"
  },
  {
   "cell_type": "markdown",
   "source": [
    "> This time the winner is pyarrow/pandas"
   ],
   "metadata": {
    "collapsed": false
   },
   "id": "eee42f92af6d405"
  },
  {
   "cell_type": "markdown",
   "source": [
    "\n"
   ],
   "metadata": {
    "collapsed": false
   },
   "id": "72b40baee620f2c"
  },
  {
   "cell_type": "markdown",
   "source": [
    "### 2.2 Test Filter query speed\n"
   ],
   "metadata": {
    "collapsed": false
   },
   "id": "1ca372c5f21c2d95"
  },
  {
   "cell_type": "code",
   "execution_count": 24,
   "outputs": [
    {
     "name": "stdout",
     "output_type": "stream",
     "text": [
      "CPU times: user 139 ms, sys: 15.9 ms, total: 155 ms\n",
      "Wall time: 150 ms\n"
     ]
    },
    {
     "data": {
      "text/plain": "    annee  sexe dept\n0  2017.0   9.0   75\n1  2017.0   9.0   75\n2  2017.0   9.0   75\n3  2017.0   9.0   75\n4  2017.0   9.0   75",
      "text/html": "<div>\n<style scoped>\n    .dataframe tbody tr th:only-of-type {\n        vertical-align: middle;\n    }\n\n    .dataframe tbody tr th {\n        vertical-align: top;\n    }\n\n    .dataframe thead th {\n        text-align: right;\n    }\n</style>\n<table border=\"1\" class=\"dataframe\">\n  <thead>\n    <tr style=\"text-align: right;\">\n      <th></th>\n      <th>annee</th>\n      <th>sexe</th>\n      <th>dept</th>\n    </tr>\n  </thead>\n  <tbody>\n    <tr>\n      <th>0</th>\n      <td>2017.0</td>\n      <td>9.0</td>\n      <td>75</td>\n    </tr>\n    <tr>\n      <th>1</th>\n      <td>2017.0</td>\n      <td>9.0</td>\n      <td>75</td>\n    </tr>\n    <tr>\n      <th>2</th>\n      <td>2017.0</td>\n      <td>9.0</td>\n      <td>75</td>\n    </tr>\n    <tr>\n      <th>3</th>\n      <td>2017.0</td>\n      <td>9.0</td>\n      <td>75</td>\n    </tr>\n    <tr>\n      <th>4</th>\n      <td>2017.0</td>\n      <td>9.0</td>\n      <td>75</td>\n    </tr>\n  </tbody>\n</table>\n</div>"
     },
     "execution_count": 24,
     "metadata": {},
     "output_type": "execute_result"
    }
   ],
   "source": [
    "%%time\n",
    "parquet_filter_query = f\"select annee, sexe, dept from patho_parquet where (sexe = 9.0) AND (dept = '75')\"\n",
    "\n",
    "parquet_filter_res = conn.execute(parquet_filter_query).df()\n",
    "\n",
    "parquet_filter_res.head()"
   ],
   "metadata": {
    "collapsed": false,
    "ExecuteTime": {
     "end_time": "2024-05-22T13:07:52.246369143Z",
     "start_time": "2024-05-22T13:07:52.079344122Z"
    }
   },
   "id": "790aeb51e45e9104"
  },
  {
   "cell_type": "code",
   "execution_count": 34,
   "outputs": [
    {
     "name": "stdout",
     "output_type": "stream",
     "text": [
      "CPU times: user 3.47 s, sys: 594 ms, total: 4.06 s\n",
      "Wall time: 2.12 s\n"
     ]
    },
    {
     "data": {
      "text/plain": "   annee  sexe dept\n0   2017     9   75\n1   2017     9   75\n2   2017     9   75\n3   2017     9   75\n4   2017     9   75",
      "text/html": "<div>\n<style scoped>\n    .dataframe tbody tr th:only-of-type {\n        vertical-align: middle;\n    }\n\n    .dataframe tbody tr th {\n        vertical-align: top;\n    }\n\n    .dataframe thead th {\n        text-align: right;\n    }\n</style>\n<table border=\"1\" class=\"dataframe\">\n  <thead>\n    <tr style=\"text-align: right;\">\n      <th></th>\n      <th>annee</th>\n      <th>sexe</th>\n      <th>dept</th>\n    </tr>\n  </thead>\n  <tbody>\n    <tr>\n      <th>0</th>\n      <td>2017</td>\n      <td>9</td>\n      <td>75</td>\n    </tr>\n    <tr>\n      <th>1</th>\n      <td>2017</td>\n      <td>9</td>\n      <td>75</td>\n    </tr>\n    <tr>\n      <th>2</th>\n      <td>2017</td>\n      <td>9</td>\n      <td>75</td>\n    </tr>\n    <tr>\n      <th>3</th>\n      <td>2017</td>\n      <td>9</td>\n      <td>75</td>\n    </tr>\n    <tr>\n      <th>4</th>\n      <td>2017</td>\n      <td>9</td>\n      <td>75</td>\n    </tr>\n  </tbody>\n</table>\n</div>"
     },
     "execution_count": 34,
     "metadata": {},
     "output_type": "execute_result"
    }
   ],
   "source": [
    "%%time\n",
    "csv_filter_query = f\"select annee, sexe, dept from patho_csv where (sexe = 9.0) AND (dept = '75')\"\n",
    "\n",
    "csv_filter_res = conn.execute(csv_filter_query).df()\n",
    "\n",
    "csv_filter_res.head()"
   ],
   "metadata": {
    "collapsed": false,
    "ExecuteTime": {
     "end_time": "2024-05-22T13:47:15.718244427Z",
     "start_time": "2024-05-22T13:47:13.592937096Z"
    }
   },
   "id": "b197798fa0ea7c89"
  },
  {
   "cell_type": "code",
   "execution_count": 32,
   "outputs": [
    {
     "name": "stdout",
     "output_type": "stream",
     "text": [
      "CPU times: user 330 ms, sys: 4.47 ms, total: 334 ms\n",
      "Wall time: 348 ms\n"
     ]
    },
    {
     "data": {
      "text/plain": "       annee  sexe dept\n110   2017.0   9.0   75\n364   2017.0   9.0   75\n733   2017.0   9.0   75\n1087  2017.0   9.0   75\n1351  2017.0   9.0   75",
      "text/html": "<div>\n<style scoped>\n    .dataframe tbody tr th:only-of-type {\n        vertical-align: middle;\n    }\n\n    .dataframe tbody tr th {\n        vertical-align: top;\n    }\n\n    .dataframe thead th {\n        text-align: right;\n    }\n</style>\n<table border=\"1\" class=\"dataframe\">\n  <thead>\n    <tr style=\"text-align: right;\">\n      <th></th>\n      <th>annee</th>\n      <th>sexe</th>\n      <th>dept</th>\n    </tr>\n  </thead>\n  <tbody>\n    <tr>\n      <th>110</th>\n      <td>2017.0</td>\n      <td>9.0</td>\n      <td>75</td>\n    </tr>\n    <tr>\n      <th>364</th>\n      <td>2017.0</td>\n      <td>9.0</td>\n      <td>75</td>\n    </tr>\n    <tr>\n      <th>733</th>\n      <td>2017.0</td>\n      <td>9.0</td>\n      <td>75</td>\n    </tr>\n    <tr>\n      <th>1087</th>\n      <td>2017.0</td>\n      <td>9.0</td>\n      <td>75</td>\n    </tr>\n    <tr>\n      <th>1351</th>\n      <td>2017.0</td>\n      <td>9.0</td>\n      <td>75</td>\n    </tr>\n  </tbody>\n</table>\n</div>"
     },
     "execution_count": 32,
     "metadata": {},
     "output_type": "execute_result"
    }
   ],
   "source": [
    "%%time\n",
    "\n",
    "parquet_filter_pdf = parquet_pdf[(parquet_pdf['sexe']==9.0) & (parquet_pdf['dept']=='75')][['annee','sexe','dept']]\n",
    "parquet_filter_pdf.head()"
   ],
   "metadata": {
    "collapsed": false,
    "ExecuteTime": {
     "end_time": "2024-05-22T13:47:03.293055322Z",
     "start_time": "2024-05-22T13:47:02.930517894Z"
    }
   },
   "id": "b99c38413a5bda19"
  },
  {
   "cell_type": "code",
   "execution_count": 36,
   "outputs": [
    {
     "name": "stdout",
     "output_type": "stream",
     "text": [
      "CPU times: user 330 ms, sys: 6.45 ms, total: 337 ms\n",
      "Wall time: 341 ms\n"
     ]
    },
    {
     "data": {
      "text/plain": "       annee  sexe dept\n110   2017.0   9.0   75\n364   2017.0   9.0   75\n733   2017.0   9.0   75\n1087  2017.0   9.0   75\n1351  2017.0   9.0   75",
      "text/html": "<div>\n<style scoped>\n    .dataframe tbody tr th:only-of-type {\n        vertical-align: middle;\n    }\n\n    .dataframe tbody tr th {\n        vertical-align: top;\n    }\n\n    .dataframe thead th {\n        text-align: right;\n    }\n</style>\n<table border=\"1\" class=\"dataframe\">\n  <thead>\n    <tr style=\"text-align: right;\">\n      <th></th>\n      <th>annee</th>\n      <th>sexe</th>\n      <th>dept</th>\n    </tr>\n  </thead>\n  <tbody>\n    <tr>\n      <th>110</th>\n      <td>2017.0</td>\n      <td>9.0</td>\n      <td>75</td>\n    </tr>\n    <tr>\n      <th>364</th>\n      <td>2017.0</td>\n      <td>9.0</td>\n      <td>75</td>\n    </tr>\n    <tr>\n      <th>733</th>\n      <td>2017.0</td>\n      <td>9.0</td>\n      <td>75</td>\n    </tr>\n    <tr>\n      <th>1087</th>\n      <td>2017.0</td>\n      <td>9.0</td>\n      <td>75</td>\n    </tr>\n    <tr>\n      <th>1351</th>\n      <td>2017.0</td>\n      <td>9.0</td>\n      <td>75</td>\n    </tr>\n  </tbody>\n</table>\n</div>"
     },
     "execution_count": 36,
     "metadata": {},
     "output_type": "execute_result"
    }
   ],
   "source": [
    "%%time\n",
    "\n",
    "csv_filter_pdf = csv_pdf[(csv_pdf['sexe']==9.0) & (csv_pdf['dept']=='75')][['annee','sexe','dept']]\n",
    "csv_filter_pdf.head()"
   ],
   "metadata": {
    "collapsed": false,
    "ExecuteTime": {
     "end_time": "2024-05-22T13:48:19.171216649Z",
     "start_time": "2024-05-22T13:48:18.826128241Z"
    }
   },
   "id": "9791f7fb9f38ada"
  },
  {
   "cell_type": "markdown",
   "source": [
    "> We can notice that pandas wins on csv dataframe, but duckdb wins on the parquet dataframe. That's because pandas loads all data **into the memory in a column oriented format**. DuckDB does lazy loading on the persist tables."
   ],
   "metadata": {
    "collapsed": false
   },
   "id": "f76c77b69320bf02"
  },
  {
   "cell_type": "markdown",
   "source": [
    "### 2.3 Test group by query speed"
   ],
   "metadata": {
    "collapsed": false
   },
   "id": "dc3967e1ab91031f"
  },
  {
   "cell_type": "code",
   "execution_count": 41,
   "outputs": [
    {
     "name": "stdout",
     "output_type": "stream",
     "text": [
      "CPU times: user 1.13 s, sys: 90.8 ms, total: 1.22 s\n",
      "Wall time: 636 ms\n"
     ]
    },
    {
     "data": {
      "text/plain": "  dept  sexe   annee                                         patho_niv1  \\\n0  999   9.0  2017.0  Pas de pathologies repérées, traitements, mate...   \n1   12   9.0  2017.0  Pas de pathologies repérées, traitements, mate...   \n2   74   9.0  2017.0  Pas de pathologies repérées, traitements, mate...   \n3   13   9.0  2017.0  Pas de pathologies repérées, traitements, mate...   \n4   75   1.0  2017.0  Pas de pathologies repérées, traitements, mate...   \n\n     sum(ntop)      avg(npop)  \n0  141214160.0  650668.847118  \n1     275540.0   25562.380952  \n2     927010.0   72589.523810  \n3    2192800.0  195884.285714  \n4    1210060.0   93000.000000  ",
      "text/html": "<div>\n<style scoped>\n    .dataframe tbody tr th:only-of-type {\n        vertical-align: middle;\n    }\n\n    .dataframe tbody tr th {\n        vertical-align: top;\n    }\n\n    .dataframe thead th {\n        text-align: right;\n    }\n</style>\n<table border=\"1\" class=\"dataframe\">\n  <thead>\n    <tr style=\"text-align: right;\">\n      <th></th>\n      <th>dept</th>\n      <th>sexe</th>\n      <th>annee</th>\n      <th>patho_niv1</th>\n      <th>sum(ntop)</th>\n      <th>avg(npop)</th>\n    </tr>\n  </thead>\n  <tbody>\n    <tr>\n      <th>0</th>\n      <td>999</td>\n      <td>9.0</td>\n      <td>2017.0</td>\n      <td>Pas de pathologies repérées, traitements, mate...</td>\n      <td>141214160.0</td>\n      <td>650668.847118</td>\n    </tr>\n    <tr>\n      <th>1</th>\n      <td>12</td>\n      <td>9.0</td>\n      <td>2017.0</td>\n      <td>Pas de pathologies repérées, traitements, mate...</td>\n      <td>275540.0</td>\n      <td>25562.380952</td>\n    </tr>\n    <tr>\n      <th>2</th>\n      <td>74</td>\n      <td>9.0</td>\n      <td>2017.0</td>\n      <td>Pas de pathologies repérées, traitements, mate...</td>\n      <td>927010.0</td>\n      <td>72589.523810</td>\n    </tr>\n    <tr>\n      <th>3</th>\n      <td>13</td>\n      <td>9.0</td>\n      <td>2017.0</td>\n      <td>Pas de pathologies repérées, traitements, mate...</td>\n      <td>2192800.0</td>\n      <td>195884.285714</td>\n    </tr>\n    <tr>\n      <th>4</th>\n      <td>75</td>\n      <td>1.0</td>\n      <td>2017.0</td>\n      <td>Pas de pathologies repérées, traitements, mate...</td>\n      <td>1210060.0</td>\n      <td>93000.000000</td>\n    </tr>\n  </tbody>\n</table>\n</div>"
     },
     "execution_count": 41,
     "metadata": {},
     "output_type": "execute_result"
    }
   ],
   "source": [
    "%%time\n",
    "parquet_gb_query = f\"SELECT dept, sexe, annee, patho_niv1, SUM(ntop), AVG(npop) FROM patho_parquet GROUP BY ALL;\"\n",
    "\n",
    "parquet_gb_res = conn.execute(parquet_gb_query).df()\n",
    "\n",
    "parquet_gb_res.head()"
   ],
   "metadata": {
    "collapsed": false,
    "ExecuteTime": {
     "end_time": "2024-05-22T14:27:50.873032412Z",
     "start_time": "2024-05-22T14:27:50.206619077Z"
    }
   },
   "id": "12a8e3ffbc0495ae"
  },
  {
   "cell_type": "code",
   "execution_count": 40,
   "outputs": [
    {
     "name": "stdout",
     "output_type": "stream",
     "text": [
      "CPU times: user 2.83 s, sys: 918 ms, total: 3.75 s\n",
      "Wall time: 1.96 s\n"
     ]
    },
    {
     "data": {
      "text/plain": "  dept  sexe   annee                                         patho_niv1  \\\n0  974   9.0  2015.0  Pas de pathologies repérées, traitements, mate...   \n1   08   1.0  2017.0        Traitements psychotropes (hors pathologies)   \n2  976   9.0  2015.0  Pas de pathologies repérées, traitements, mate...   \n3   94   9.0  2015.0  Pas de pathologies repérées, traitements, mate...   \n4   28   9.0  2015.0  Pas de pathologies repérées, traitements, mate...   \n\n   sum(ntop)      avg(npop)  \n0  1003380.0   81860.476190  \n1    49260.0   12117.142857  \n2   138000.0    8770.476190  \n3  1517450.0  124338.095238  \n4   448080.0   39621.904762  ",
      "text/html": "<div>\n<style scoped>\n    .dataframe tbody tr th:only-of-type {\n        vertical-align: middle;\n    }\n\n    .dataframe tbody tr th {\n        vertical-align: top;\n    }\n\n    .dataframe thead th {\n        text-align: right;\n    }\n</style>\n<table border=\"1\" class=\"dataframe\">\n  <thead>\n    <tr style=\"text-align: right;\">\n      <th></th>\n      <th>dept</th>\n      <th>sexe</th>\n      <th>annee</th>\n      <th>patho_niv1</th>\n      <th>sum(ntop)</th>\n      <th>avg(npop)</th>\n    </tr>\n  </thead>\n  <tbody>\n    <tr>\n      <th>0</th>\n      <td>974</td>\n      <td>9.0</td>\n      <td>2015.0</td>\n      <td>Pas de pathologies repérées, traitements, mate...</td>\n      <td>1003380.0</td>\n      <td>81860.476190</td>\n    </tr>\n    <tr>\n      <th>1</th>\n      <td>08</td>\n      <td>1.0</td>\n      <td>2017.0</td>\n      <td>Traitements psychotropes (hors pathologies)</td>\n      <td>49260.0</td>\n      <td>12117.142857</td>\n    </tr>\n    <tr>\n      <th>2</th>\n      <td>976</td>\n      <td>9.0</td>\n      <td>2015.0</td>\n      <td>Pas de pathologies repérées, traitements, mate...</td>\n      <td>138000.0</td>\n      <td>8770.476190</td>\n    </tr>\n    <tr>\n      <th>3</th>\n      <td>94</td>\n      <td>9.0</td>\n      <td>2015.0</td>\n      <td>Pas de pathologies repérées, traitements, mate...</td>\n      <td>1517450.0</td>\n      <td>124338.095238</td>\n    </tr>\n    <tr>\n      <th>4</th>\n      <td>28</td>\n      <td>9.0</td>\n      <td>2015.0</td>\n      <td>Pas de pathologies repérées, traitements, mate...</td>\n      <td>448080.0</td>\n      <td>39621.904762</td>\n    </tr>\n  </tbody>\n</table>\n</div>"
     },
     "execution_count": 40,
     "metadata": {},
     "output_type": "execute_result"
    }
   ],
   "source": [
    "%%time\n",
    "csv_gb_query = f\"SELECT dept, sexe, annee, patho_niv1, SUM(ntop), AVG(npop) FROM patho_csv GROUP BY ALL;\"\n",
    "\n",
    "csv_gb_res = conn.execute(csv_gb_query).df()\n",
    "\n",
    "csv_gb_res.head()"
   ],
   "metadata": {
    "collapsed": false,
    "ExecuteTime": {
     "end_time": "2024-05-22T14:27:43.770213369Z",
     "start_time": "2024-05-22T14:27:41.787144275Z"
    }
   },
   "id": "f05b6cda245eb9e8"
  },
  {
   "cell_type": "code",
   "execution_count": 65,
   "outputs": [
    {
     "name": "stdout",
     "output_type": "stream",
     "text": [
      "CPU times: user 709 ms, sys: 80.6 ms, total: 790 ms\n",
      "Wall time: 1.45 s\n"
     ]
    },
    {
     "data": {
      "text/plain": "  dept  sexe   annee                                         patho_niv1  \\\n0   01   1.0  2015.0  Autres affections de longue durée (dont 31 et 32)   \n1   01   1.0  2015.0                                            Cancers   \n2   01   1.0  2015.0                                            Diabète   \n3   01   1.0  2015.0  Hospitalisations ponctuelles (avec ou sans pat...   \n4   01   1.0  2015.0            Insuffisance rénale chronique terminale   \n\n      ntop       npop  \n0  11440.0   551530.0  \n1  83490.0  7169890.0  \n2  31030.0   551530.0  \n3  79760.0   551530.0  \n4   1460.0  2206120.0  ",
      "text/html": "<div>\n<style scoped>\n    .dataframe tbody tr th:only-of-type {\n        vertical-align: middle;\n    }\n\n    .dataframe tbody tr th {\n        vertical-align: top;\n    }\n\n    .dataframe thead th {\n        text-align: right;\n    }\n</style>\n<table border=\"1\" class=\"dataframe\">\n  <thead>\n    <tr style=\"text-align: right;\">\n      <th></th>\n      <th>dept</th>\n      <th>sexe</th>\n      <th>annee</th>\n      <th>patho_niv1</th>\n      <th>ntop</th>\n      <th>npop</th>\n    </tr>\n  </thead>\n  <tbody>\n    <tr>\n      <th>0</th>\n      <td>01</td>\n      <td>1.0</td>\n      <td>2015.0</td>\n      <td>Autres affections de longue durée (dont 31 et 32)</td>\n      <td>11440.0</td>\n      <td>551530.0</td>\n    </tr>\n    <tr>\n      <th>1</th>\n      <td>01</td>\n      <td>1.0</td>\n      <td>2015.0</td>\n      <td>Cancers</td>\n      <td>83490.0</td>\n      <td>7169890.0</td>\n    </tr>\n    <tr>\n      <th>2</th>\n      <td>01</td>\n      <td>1.0</td>\n      <td>2015.0</td>\n      <td>Diabète</td>\n      <td>31030.0</td>\n      <td>551530.0</td>\n    </tr>\n    <tr>\n      <th>3</th>\n      <td>01</td>\n      <td>1.0</td>\n      <td>2015.0</td>\n      <td>Hospitalisations ponctuelles (avec ou sans pat...</td>\n      <td>79760.0</td>\n      <td>551530.0</td>\n    </tr>\n    <tr>\n      <th>4</th>\n      <td>01</td>\n      <td>1.0</td>\n      <td>2015.0</td>\n      <td>Insuffisance rénale chronique terminale</td>\n      <td>1460.0</td>\n      <td>2206120.0</td>\n    </tr>\n  </tbody>\n</table>\n</div>"
     },
     "execution_count": 65,
     "metadata": {},
     "output_type": "execute_result"
    }
   ],
   "source": [
    "%%time\n",
    "grouped = parquet_pdf.groupby(['dept', 'sexe', 'annee', 'patho_niv1']).agg({\n",
    "    'ntop': 'sum',\n",
    "    'npop': 'sum'\n",
    "}).reset_index()\n",
    "\n",
    "grouped.head()"
   ],
   "metadata": {
    "collapsed": false,
    "ExecuteTime": {
     "end_time": "2024-05-22T15:17:11.637370242Z",
     "start_time": "2024-05-22T15:17:10.071598896Z"
    }
   },
   "id": "b0eb45b8217673a5"
  },
  {
   "cell_type": "markdown",
   "source": [
    "> Duckdb and parquet wins "
   ],
   "metadata": {
    "collapsed": false
   },
   "id": "813025cc55a77c95"
  },
  {
   "cell_type": "markdown",
   "source": [
    "## 3. Interoperability \n",
    "\n",
    "### 3.1 Create a dataframe with duckdb for cancer analysis"
   ],
   "metadata": {
    "collapsed": false
   },
   "id": "df1c142551aa61d"
  },
  {
   "cell_type": "code",
   "execution_count": 14,
   "outputs": [
    {
     "data": {
      "text/plain": "                                          patho_niv1 departement   malades  \\\n0  Hospitalisations ponctuelles (avec ou sans pat...          72  360930.0   \n1  Hospitalisations ponctuelles (avec ou sans pat...          40  262790.0   \n2  Hospitalisations ponctuelles (avec ou sans pat...          30  455640.0   \n3  Hospitalisations ponctuelles (avec ou sans pat...          82  165440.0   \n4  Hospitalisations ponctuelles (avec ou sans pat...          09   95180.0   \n\n         pop  \n0  2205190.0  \n1  1656080.0  \n2  2992640.0  \n3  1033720.0  \n4   596130.0  ",
      "text/html": "<div>\n<style scoped>\n    .dataframe tbody tr th:only-of-type {\n        vertical-align: middle;\n    }\n\n    .dataframe tbody tr th {\n        vertical-align: top;\n    }\n\n    .dataframe thead th {\n        text-align: right;\n    }\n</style>\n<table border=\"1\" class=\"dataframe\">\n  <thead>\n    <tr style=\"text-align: right;\">\n      <th></th>\n      <th>patho_niv1</th>\n      <th>departement</th>\n      <th>malades</th>\n      <th>pop</th>\n    </tr>\n  </thead>\n  <tbody>\n    <tr>\n      <th>0</th>\n      <td>Hospitalisations ponctuelles (avec ou sans pat...</td>\n      <td>72</td>\n      <td>360930.0</td>\n      <td>2205190.0</td>\n    </tr>\n    <tr>\n      <th>1</th>\n      <td>Hospitalisations ponctuelles (avec ou sans pat...</td>\n      <td>40</td>\n      <td>262790.0</td>\n      <td>1656080.0</td>\n    </tr>\n    <tr>\n      <th>2</th>\n      <td>Hospitalisations ponctuelles (avec ou sans pat...</td>\n      <td>30</td>\n      <td>455640.0</td>\n      <td>2992640.0</td>\n    </tr>\n    <tr>\n      <th>3</th>\n      <td>Hospitalisations ponctuelles (avec ou sans pat...</td>\n      <td>82</td>\n      <td>165440.0</td>\n      <td>1033720.0</td>\n    </tr>\n    <tr>\n      <th>4</th>\n      <td>Hospitalisations ponctuelles (avec ou sans pat...</td>\n      <td>09</td>\n      <td>95180.0</td>\n      <td>596130.0</td>\n    </tr>\n  </tbody>\n</table>\n</div>"
     },
     "execution_count": 14,
     "metadata": {},
     "output_type": "execute_result"
    }
   ],
   "source": [
    "cancer_query = (f\"\"\"\n",
    "        SELECT patho_niv1, dept as departement, SUM(ntop) as malades, SUM(npop) as pop\n",
    "        FROM patho_parquet\n",
    "        WHERE annee = 2018.0\n",
    "        GROUP BY patho_niv1, dept;\n",
    "    \"\"\")\n",
    "\n",
    "cancer_res = conn.execute(cancer_query).df()\n",
    "\n",
    "cancer_res.head()"
   ],
   "metadata": {
    "collapsed": false,
    "ExecuteTime": {
     "end_time": "2024-05-22T15:30:04.912231356Z",
     "start_time": "2024-05-22T15:30:04.740154341Z"
    }
   },
   "id": "94f005623c412441"
  },
  {
   "cell_type": "code",
   "execution_count": 15,
   "outputs": [
    {
     "data": {
      "text/plain": "                                          patho_niv1       perc departement  \\\n0  Hospitalisations ponctuelles (avec ou sans pat...  16.367297          72   \n1  Hospitalisations ponctuelles (avec ou sans pat...  15.868195          40   \n2  Hospitalisations ponctuelles (avec ou sans pat...  15.225353          30   \n3  Hospitalisations ponctuelles (avec ou sans pat...  16.004334          82   \n4  Hospitalisations ponctuelles (avec ou sans pat...  15.966316          09   \n\n    malades        pop  \n0  360930.0  2205190.0  \n1  262790.0  1656080.0  \n2  455640.0  2992640.0  \n3  165440.0  1033720.0  \n4   95180.0   596130.0  ",
      "text/html": "<div>\n<style scoped>\n    .dataframe tbody tr th:only-of-type {\n        vertical-align: middle;\n    }\n\n    .dataframe tbody tr th {\n        vertical-align: top;\n    }\n\n    .dataframe thead th {\n        text-align: right;\n    }\n</style>\n<table border=\"1\" class=\"dataframe\">\n  <thead>\n    <tr style=\"text-align: right;\">\n      <th></th>\n      <th>patho_niv1</th>\n      <th>perc</th>\n      <th>departement</th>\n      <th>malades</th>\n      <th>pop</th>\n    </tr>\n  </thead>\n  <tbody>\n    <tr>\n      <th>0</th>\n      <td>Hospitalisations ponctuelles (avec ou sans pat...</td>\n      <td>16.367297</td>\n      <td>72</td>\n      <td>360930.0</td>\n      <td>2205190.0</td>\n    </tr>\n    <tr>\n      <th>1</th>\n      <td>Hospitalisations ponctuelles (avec ou sans pat...</td>\n      <td>15.868195</td>\n      <td>40</td>\n      <td>262790.0</td>\n      <td>1656080.0</td>\n    </tr>\n    <tr>\n      <th>2</th>\n      <td>Hospitalisations ponctuelles (avec ou sans pat...</td>\n      <td>15.225353</td>\n      <td>30</td>\n      <td>455640.0</td>\n      <td>2992640.0</td>\n    </tr>\n    <tr>\n      <th>3</th>\n      <td>Hospitalisations ponctuelles (avec ou sans pat...</td>\n      <td>16.004334</td>\n      <td>82</td>\n      <td>165440.0</td>\n      <td>1033720.0</td>\n    </tr>\n    <tr>\n      <th>4</th>\n      <td>Hospitalisations ponctuelles (avec ou sans pat...</td>\n      <td>15.966316</td>\n      <td>09</td>\n      <td>95180.0</td>\n      <td>596130.0</td>\n    </tr>\n  </tbody>\n</table>\n</div>"
     },
     "execution_count": 15,
     "metadata": {},
     "output_type": "execute_result"
    }
   ],
   "source": [
    "cancer_res.insert(1, 'perc', cancer_res['malades']/cancer_res['pop'] * 100)\n",
    "\n",
    "cancer_res.head(5)"
   ],
   "metadata": {
    "collapsed": false,
    "ExecuteTime": {
     "end_time": "2024-05-22T15:30:10.521973900Z",
     "start_time": "2024-05-22T15:30:10.493720717Z"
    }
   },
   "id": "f82f7e94766310d5"
  },
  {
   "cell_type": "code",
   "execution_count": 17,
   "outputs": [
    {
     "data": {
      "text/plain": "                                   patho_niv1      perc departement  malades  \\\n37    Insuffisance rénale chronique terminale  0.042143          90    920.0   \n945   Insuffisance rénale chronique terminale  0.043069          48    490.0   \n936   Insuffisance rénale chronique terminale  0.047345          05   1040.0   \n942   Insuffisance rénale chronique terminale  0.049071          79   2860.0   \n1398  Insuffisance rénale chronique terminale  0.051388          2A   1140.0   \n...                                       ...       ...         ...      ...   \n26    Insuffisance rénale chronique terminale  0.079298          94  16980.0   \n1402  Insuffisance rénale chronique terminale  0.079759          67  14040.0   \n38    Insuffisance rénale chronique terminale  0.080232          52   2160.0   \n483   Insuffisance rénale chronique terminale  0.084821          57  12320.0   \n964                   Maladies psychiatriques  0.086725         976   2470.0   \n\n             pop  \n37     2183040.0  \n945    1137720.0  \n936    2196640.0  \n942    5828320.0  \n1398   2218400.0  \n...          ...  \n26    21413000.0  \n1402  17603080.0  \n38     2692200.0  \n483   14524680.0  \n964    2848090.0  \n\n[100 rows x 5 columns]",
      "text/html": "<div>\n<style scoped>\n    .dataframe tbody tr th:only-of-type {\n        vertical-align: middle;\n    }\n\n    .dataframe tbody tr th {\n        vertical-align: top;\n    }\n\n    .dataframe thead th {\n        text-align: right;\n    }\n</style>\n<table border=\"1\" class=\"dataframe\">\n  <thead>\n    <tr style=\"text-align: right;\">\n      <th></th>\n      <th>patho_niv1</th>\n      <th>perc</th>\n      <th>departement</th>\n      <th>malades</th>\n      <th>pop</th>\n    </tr>\n  </thead>\n  <tbody>\n    <tr>\n      <th>37</th>\n      <td>Insuffisance rénale chronique terminale</td>\n      <td>0.042143</td>\n      <td>90</td>\n      <td>920.0</td>\n      <td>2183040.0</td>\n    </tr>\n    <tr>\n      <th>945</th>\n      <td>Insuffisance rénale chronique terminale</td>\n      <td>0.043069</td>\n      <td>48</td>\n      <td>490.0</td>\n      <td>1137720.0</td>\n    </tr>\n    <tr>\n      <th>936</th>\n      <td>Insuffisance rénale chronique terminale</td>\n      <td>0.047345</td>\n      <td>05</td>\n      <td>1040.0</td>\n      <td>2196640.0</td>\n    </tr>\n    <tr>\n      <th>942</th>\n      <td>Insuffisance rénale chronique terminale</td>\n      <td>0.049071</td>\n      <td>79</td>\n      <td>2860.0</td>\n      <td>5828320.0</td>\n    </tr>\n    <tr>\n      <th>1398</th>\n      <td>Insuffisance rénale chronique terminale</td>\n      <td>0.051388</td>\n      <td>2A</td>\n      <td>1140.0</td>\n      <td>2218400.0</td>\n    </tr>\n    <tr>\n      <th>...</th>\n      <td>...</td>\n      <td>...</td>\n      <td>...</td>\n      <td>...</td>\n      <td>...</td>\n    </tr>\n    <tr>\n      <th>26</th>\n      <td>Insuffisance rénale chronique terminale</td>\n      <td>0.079298</td>\n      <td>94</td>\n      <td>16980.0</td>\n      <td>21413000.0</td>\n    </tr>\n    <tr>\n      <th>1402</th>\n      <td>Insuffisance rénale chronique terminale</td>\n      <td>0.079759</td>\n      <td>67</td>\n      <td>14040.0</td>\n      <td>17603080.0</td>\n    </tr>\n    <tr>\n      <th>38</th>\n      <td>Insuffisance rénale chronique terminale</td>\n      <td>0.080232</td>\n      <td>52</td>\n      <td>2160.0</td>\n      <td>2692200.0</td>\n    </tr>\n    <tr>\n      <th>483</th>\n      <td>Insuffisance rénale chronique terminale</td>\n      <td>0.084821</td>\n      <td>57</td>\n      <td>12320.0</td>\n      <td>14524680.0</td>\n    </tr>\n    <tr>\n      <th>964</th>\n      <td>Maladies psychiatriques</td>\n      <td>0.086725</td>\n      <td>976</td>\n      <td>2470.0</td>\n      <td>2848090.0</td>\n    </tr>\n  </tbody>\n</table>\n<p>100 rows × 5 columns</p>\n</div>"
     },
     "execution_count": 17,
     "metadata": {},
     "output_type": "execute_result"
    }
   ],
   "source": [
    "cancer_res.sort_values(by=\"perc\", ascending=True).head(100)"
   ],
   "metadata": {
    "collapsed": false,
    "ExecuteTime": {
     "end_time": "2024-05-22T15:30:31.234876628Z",
     "start_time": "2024-05-22T15:30:31.186214713Z"
    }
   },
   "id": "c64bb4cec642994e"
  },
  {
   "cell_type": "markdown",
   "source": [
    "## 3.2 Read shape file and build geo pandas dataframe"
   ],
   "metadata": {
    "collapsed": false
   },
   "id": "743020506a716804"
  },
  {
   "cell_type": "code",
   "execution_count": 21,
   "outputs": [],
   "source": [
    "gadm_path = f\"{root_dir}/gadm41_FRA/gadm41_FRA_2.shp\"\n",
    "gdf = gpd.read_file(gadm_path)\n",
    "gdf['code'] = gdf['CC_2'].astype(str).str.zfill(2)"
   ],
   "metadata": {
    "collapsed": false,
    "ExecuteTime": {
     "end_time": "2024-05-22T15:32:32.842549803Z",
     "start_time": "2024-05-22T15:32:31.544110831Z"
    }
   },
   "id": "2664291bdf8198e0"
  },
  {
   "cell_type": "code",
   "execution_count": 19,
   "outputs": [],
   "source": [
    "disease_to_plot = 'Cancers'\n",
    "cancer_res_filtered = cancer_res[cancer_res['patho_niv1'] == disease_to_plot]"
   ],
   "metadata": {
    "collapsed": false,
    "ExecuteTime": {
     "end_time": "2024-05-22T15:31:23.227054172Z",
     "start_time": "2024-05-22T15:31:23.136036184Z"
    }
   },
   "id": "163636803ce7d4b8"
  },
  {
   "cell_type": "code",
   "execution_count": 22,
   "outputs": [
    {
     "name": "stdout",
     "output_type": "stream",
     "text": [
      "Index(['GID_2', 'GID_0', 'COUNTRY', 'GID_1', 'NAME_1', 'NL_NAME_1', 'NAME_2',\n",
      "       'VARNAME_2', 'NL_NAME_2', 'TYPE_2', 'ENGTYPE_2', 'CC_2', 'HASC_2',\n",
      "       'geometry', 'patho_niv1', 'perc', 'malades', 'pop'],\n",
      "      dtype='object')\n"
     ]
    }
   ],
   "source": [
    "# Joindre les données géographiques avec les données de patients\n",
    "merged = gdf.set_index('code').join(cancer_res_filtered.set_index('departement'))\n",
    "print(merged.columns)"
   ],
   "metadata": {
    "collapsed": false,
    "ExecuteTime": {
     "end_time": "2024-05-22T15:32:36.443262218Z",
     "start_time": "2024-05-22T15:32:36.369260041Z"
    }
   },
   "id": "a35522b5ab730e48"
  },
  {
   "cell_type": "code",
   "execution_count": 25,
   "outputs": [
    {
     "data": {
      "text/plain": "<Figure size 1000x800 with 2 Axes>",
      "image/png": "[encoded data removed]"
     },
     "metadata": {},
     "output_type": "display_data"
    }
   ],
   "source": [
    "variable_to_plot = \"perc\"\n",
    "\n",
    "# Définir les valeurs de coloration\n",
    "norm = mcolors.Normalize(vmin=merged[variable_to_plot].min(), vmax=merged[variable_to_plot].max())\n",
    "cmap = plt.colormaps.get_cmap('RdYlGn_r')  # Utilisation de 'RdYlGn_r' pour aller du vert au rouge\n",
    "\n",
    "# Créer la carte\n",
    "fig, ax = plt.subplots(1, 1, figsize=(10, 8))\n",
    "merged.plot(column=variable_to_plot, cmap=cmap, norm=norm, legend=True, ax=ax)\n",
    "\n",
    "# Supprimer les axes gradués\n",
    "ax.set_axis_off()\n",
    "\n",
    "# Ajuster la taille de la barre colorée (legend)\n",
    "cbar = ax.get_figure().get_axes()[1]\n",
    "cbar.set_aspect(30)  # Ajuster la taille selon vos besoins\n",
    "\n",
    "# Ajouter un titre\n",
    "ax.set_title(f'Pourcentage de personnes atteintes de {disease_to_plot}', fontdict={'fontsize': '10', 'fontweight': '3'})\n",
    "\n",
    "# Afficher la carte\n",
    "plt.show()"
   ],
   "metadata": {
    "collapsed": false,
    "ExecuteTime": {
     "end_time": "2024-05-22T15:37:41.881919510Z",
     "start_time": "2024-05-22T15:37:40.417690832Z"
    }
   },
   "id": "dd3873e4077f2c2"
  },
  {
   "cell_type": "markdown",
   "source": [
    "# Charger les données sur les points de vente de tabac"
   ],
   "metadata": {
    "collapsed": false
   },
   "id": "9d72de018c68786f"
  },
  {
   "cell_type": "code",
   "execution_count": null,
   "outputs": [],
   "source": [],
   "metadata": {
    "collapsed": false
   },
   "id": "6e060ee13a482e61"
  }
 ],
 "metadata": {
  "kernelspec": {
   "display_name": "Python 3",
   "language": "python",
   "name": "python3"
  },
  "language_info": {
   "codemirror_mode": {
    "name": "ipython",
    "version": 2
   },
   "file_extension": ".py",
   "mimetype": "text/x-python",
   "name": "python",
   "nbconvert_exporter": "python",
   "pygments_lexer": "ipython2",
   "version": "2.7.6"
  }
 },
 "nbformat": 4,
 "nbformat_minor": 5
}
