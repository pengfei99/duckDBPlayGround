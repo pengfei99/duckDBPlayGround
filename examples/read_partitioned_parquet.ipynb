{
 "cells": [
  {
   "cell_type": "markdown",
   "id": "35bded20-aea3-46bb-951c-5e9d6299c96e",
   "metadata": {},
   "source": [
    "## Read partitioned data\n",
    "\n",
    "In parquet file, we can partition a table via its column. In below example, we create a file with 3 level partition:\n",
    " 1. sex\n",
    " 2. year\n",
    "  3. dep\n",
    "\n",
    "We need to check if duckdb can read the partitioned parquet file correctly.\n"
   ]
  },
  {
   "cell_type": "code",
   "execution_count": 2,
   "id": "2a86ba57-5cf5-495c-9eaa-b8a5d89e33aa",
   "metadata": {},
   "outputs": [],
   "source": [
    "from pyspark.sql import SparkSession\n",
    "import os\n",
    "\n",
    "local=True\n",
    "if local:\n",
    "    spark = SparkSession.builder\\\n",
    "        .master(\"local[4]\")\\\n",
    "        .appName(\"RepartitionAndCoalesce\")\\\n",
    "        .config(\"spark.executor.memory\", \"2g\")\\\n",
    "        .getOrCreate()\n",
    "else:\n",
    "    spark = SparkSession.builder\\\n",
    "        .master(\"k8s://https://kubernetes.default.svc:443\")\\\n",
    "        .appName(\"RepartitionAndCoalesce\")\\\n",
    "        .config(\"spark.kubernetes.container.image\", \"inseefrlab/jupyter-datascience:master\")\\\n",
    "        .config(\"spark.kubernetes.authenticate.driver.serviceAccountName\", os.environ['KUBERNETES_SERVICE_ACCOUNT'])\\\n",
    "        .config(\"spark.executor.instances\", \"4\")\\\n",
    "        .config(\"spark.executor.memory\",\"2g\")\\\n",
    "        .config(\"spark.kubernetes.namespace\", os.environ['KUBERNETES_NAMESPACE'])\\\n",
    "        .getOrCreate()"
   ]
  },
  {
   "cell_type": "code",
   "id": "0e423863-7148-4ed4-9484-5e5d4ec80539",
   "metadata": {
    "ExecuteTime": {
     "end_time": "2024-12-19T15:40:54.070307Z",
     "start_time": "2024-12-19T15:40:54.062311Z"
    }
   },
   "source": [
    "csv_path=\"../data/people.csv\"\n",
    "output_path=\"../data/people_partiton\""
   ],
   "outputs": [],
   "execution_count": 4
  },
  {
   "cell_type": "code",
   "execution_count": 7,
   "id": "a94bd06f-9daa-4932-97a7-45431aa7fee9",
   "metadata": {},
   "outputs": [
    {
     "name": "stderr",
     "output_type": "stream",
     "text": [
      "                                                                                "
     ]
    },
    {
     "name": "stdout",
     "output_type": "stream",
     "text": [
      "+---+----+---+----+---+\n",
      "| id|name|sex|year|dep|\n",
      "+---+----+---+----+---+\n",
      "|  1|toto|  F|2002|  1|\n",
      "|  2|toto|  F|2003|  1|\n",
      "|  3|toto|  F|2004|  1|\n",
      "|  4|titi|  M|2002|  2|\n",
      "|  5|titi|  M|2003|  2|\n",
      "+---+----+---+----+---+\n",
      "only showing top 5 rows\n",
      "\n"
     ]
    }
   ],
   "source": [
    "df=spark.read\\\n",
    "    .options(header=True,inferSchema=True,delimiter=',',nullValue=\"?\")\\\n",
    "    .csv(path=csv_path)\n",
    "df.show(5)"
   ]
  },
  {
   "cell_type": "code",
   "execution_count": 8,
   "id": "ea234c6b-8a32-485a-aa8e-515aeb2f8bdf",
   "metadata": {},
   "outputs": [
    {
     "name": "stderr",
     "output_type": "stream",
     "text": [
      "                                                                                "
     ]
    }
   ],
   "source": [
    "\n",
    "df.write.partitionBy(\"sex\",\"year\",\"dep\").mode(\"overwrite\").parquet(output_path)"
   ]
  },
  {
   "metadata": {},
   "cell_type": "markdown",
   "source": [
    "duck db can't read partitioned parquet file directly.\n",
    "https://stackoverflow.com/questions/71952623/reading-partitioned-parquet-files-in-duckdb"
   ],
   "id": "dfa9114de9e39eeb"
  },
  {
   "metadata": {
    "ExecuteTime": {
     "end_time": "2024-12-19T15:32:47.162851Z",
     "start_time": "2024-12-19T15:32:46.388923Z"
    }
   },
   "cell_type": "code",
   "source": "import duckdb",
   "id": "d7af30b2fc0fe04b",
   "outputs": [],
   "execution_count": 1
  },
  {
   "metadata": {
    "ExecuteTime": {
     "end_time": "2024-12-19T15:43:12.585631Z",
     "start_time": "2024-12-19T15:43:12.566862Z"
    }
   },
   "cell_type": "code",
   "source": [
    "# Connexion à DuckDB\n",
    "conn = duckdb.connect()\n"
   ],
   "id": "b41524640ce8ccce",
   "outputs": [],
   "execution_count": 6
  },
  {
   "metadata": {
    "ExecuteTime": {
     "end_time": "2024-12-19T15:43:13.918831Z",
     "start_time": "2024-12-19T15:43:13.873074Z"
    }
   },
   "cell_type": "code",
   "source": [
    "import pyarrow.dataset as ds\n",
    "\n",
    "dataset = ds.dataset(output_path, format=\"parquet\", partitioning=\"hive\")\n",
    "conn.register_arrow(\"Hierarchy\", dataset)\n",
    "conn.execute(\"Select * from Hierarchy\").df()"
   ],
   "id": "a14fb2c59c088c02",
   "outputs": [
    {
     "ename": "AttributeError",
     "evalue": "'duckdb.duckdb.DuckDBPyConnection' object has no attribute 'register_arrow'",
     "output_type": "error",
     "traceback": [
      "\u001B[0;31m---------------------------------------------------------------------------\u001B[0m",
      "\u001B[0;31mAttributeError\u001B[0m                            Traceback (most recent call last)",
      "Cell \u001B[0;32mIn[7], line 4\u001B[0m\n\u001B[1;32m      1\u001B[0m \u001B[38;5;28;01mimport\u001B[39;00m \u001B[38;5;21;01mpyarrow\u001B[39;00m\u001B[38;5;21;01m.\u001B[39;00m\u001B[38;5;21;01mdataset\u001B[39;00m \u001B[38;5;28;01mas\u001B[39;00m \u001B[38;5;21;01mds\u001B[39;00m\n\u001B[1;32m      3\u001B[0m dataset \u001B[38;5;241m=\u001B[39m ds\u001B[38;5;241m.\u001B[39mdataset(output_path, \u001B[38;5;28mformat\u001B[39m\u001B[38;5;241m=\u001B[39m\u001B[38;5;124m\"\u001B[39m\u001B[38;5;124mparquet\u001B[39m\u001B[38;5;124m\"\u001B[39m, partitioning\u001B[38;5;241m=\u001B[39m\u001B[38;5;124m\"\u001B[39m\u001B[38;5;124mhive\u001B[39m\u001B[38;5;124m\"\u001B[39m)\n\u001B[0;32m----> 4\u001B[0m \u001B[43mconn\u001B[49m\u001B[38;5;241;43m.\u001B[39;49m\u001B[43mregister_arrow\u001B[49m(\u001B[38;5;124m\"\u001B[39m\u001B[38;5;124mHierarchy\u001B[39m\u001B[38;5;124m\"\u001B[39m, dataset)\n\u001B[1;32m      5\u001B[0m conn\u001B[38;5;241m.\u001B[39mexecute(\u001B[38;5;124m\"\u001B[39m\u001B[38;5;124mSelect * from Hierarchy\u001B[39m\u001B[38;5;124m\"\u001B[39m)\u001B[38;5;241m.\u001B[39mdf()\n",
      "\u001B[0;31mAttributeError\u001B[0m: 'duckdb.duckdb.DuckDBPyConnection' object has no attribute 'register_arrow'"
     ]
    }
   ],
   "execution_count": 7
  },
  {
   "metadata": {},
   "cell_type": "code",
   "outputs": [],
   "execution_count": null,
   "source": "",
   "id": "ee737a4c3d308363"
  }
 ],
 "metadata": {
  "kernelspec": {
   "display_name": "Python 3 (ipykernel)",
   "language": "python",
   "name": "python3"
  },
  "language_info": {
   "codemirror_mode": {
    "name": "ipython",
    "version": 3
   },
   "file_extension": ".py",
   "mimetype": "text/x-python",
   "name": "python",
   "nbconvert_exporter": "python",
   "pygments_lexer": "ipython3",
   "version": "3.12.7"
  }
 },
 "nbformat": 4,
 "nbformat_minor": 5
}
